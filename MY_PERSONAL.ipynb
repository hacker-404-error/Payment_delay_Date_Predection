{
 "cells": [
  {
   "cell_type": "markdown",
   "metadata": {},
   "source": [
    "# Importing Modules And DataSet"
   ]
  },
  {
   "cell_type": "code",
   "execution_count": 235,
   "metadata": {},
   "outputs": [],
   "source": [
    "import pandas as pd\n",
    "import numpy as np\n",
    "import matplotlib.pyplot as plt\n",
    "import seaborn as sns\n",
    "\n",
    "import xgboost as xgb\n",
    "import sklearn.metrics as sm\n",
    "from sklearn.ensemble import RandomForestRegressor\n",
    "from sklearn.tree import DecisionTreeRegressor\n",
    "from sklearn.linear_model import LinearRegression\n",
    "from sklearn.svm import SVR\n",
    "from sklearn.model_selection import RandomizedSearchCV, GridSearchCV\n"
   ]
  },
  {
   "cell_type": "code",
   "execution_count": 236,
   "metadata": {},
   "outputs": [
    {
     "data": {
      "text/html": [
       "<div>\n",
       "<style scoped>\n",
       "    .dataframe tbody tr th:only-of-type {\n",
       "        vertical-align: middle;\n",
       "    }\n",
       "\n",
       "    .dataframe tbody tr th {\n",
       "        vertical-align: top;\n",
       "    }\n",
       "\n",
       "    .dataframe thead th {\n",
       "        text-align: right;\n",
       "    }\n",
       "</style>\n",
       "<table border=\"1\" class=\"dataframe\">\n",
       "  <thead>\n",
       "    <tr style=\"text-align: right;\">\n",
       "      <th></th>\n",
       "      <th>business_code</th>\n",
       "      <th>cust_number</th>\n",
       "      <th>name_customer</th>\n",
       "      <th>clear_date</th>\n",
       "      <th>buisness_year</th>\n",
       "      <th>doc_id</th>\n",
       "      <th>posting_date</th>\n",
       "      <th>document_create_date</th>\n",
       "      <th>document_create_date.1</th>\n",
       "      <th>due_in_date</th>\n",
       "      <th>invoice_currency</th>\n",
       "      <th>document type</th>\n",
       "      <th>posting_id</th>\n",
       "      <th>area_business</th>\n",
       "      <th>total_open_amount</th>\n",
       "      <th>baseline_create_date</th>\n",
       "      <th>cust_payment_terms</th>\n",
       "      <th>invoice_id</th>\n",
       "      <th>isOpen</th>\n",
       "    </tr>\n",
       "  </thead>\n",
       "  <tbody>\n",
       "    <tr>\n",
       "      <th>0</th>\n",
       "      <td>U001</td>\n",
       "      <td>0200769623</td>\n",
       "      <td>WAL-MAR corp</td>\n",
       "      <td>2020-02-11 00:00:00</td>\n",
       "      <td>2020.0</td>\n",
       "      <td>1.930438e+09</td>\n",
       "      <td>2020-01-26</td>\n",
       "      <td>20200125</td>\n",
       "      <td>20200126</td>\n",
       "      <td>20200210.0</td>\n",
       "      <td>USD</td>\n",
       "      <td>RV</td>\n",
       "      <td>1.0</td>\n",
       "      <td>NaN</td>\n",
       "      <td>54273.28</td>\n",
       "      <td>20200126.0</td>\n",
       "      <td>NAH4</td>\n",
       "      <td>1.930438e+09</td>\n",
       "      <td>0</td>\n",
       "    </tr>\n",
       "    <tr>\n",
       "      <th>1</th>\n",
       "      <td>U001</td>\n",
       "      <td>0200980828</td>\n",
       "      <td>BEN E</td>\n",
       "      <td>2019-08-08 00:00:00</td>\n",
       "      <td>2019.0</td>\n",
       "      <td>1.929646e+09</td>\n",
       "      <td>2019-07-22</td>\n",
       "      <td>20190722</td>\n",
       "      <td>20190722</td>\n",
       "      <td>20190811.0</td>\n",
       "      <td>USD</td>\n",
       "      <td>RV</td>\n",
       "      <td>1.0</td>\n",
       "      <td>NaN</td>\n",
       "      <td>79656.60</td>\n",
       "      <td>20190722.0</td>\n",
       "      <td>NAD1</td>\n",
       "      <td>1.929646e+09</td>\n",
       "      <td>0</td>\n",
       "    </tr>\n",
       "    <tr>\n",
       "      <th>2</th>\n",
       "      <td>U001</td>\n",
       "      <td>0200792734</td>\n",
       "      <td>MDV/ trust</td>\n",
       "      <td>2019-12-30 00:00:00</td>\n",
       "      <td>2019.0</td>\n",
       "      <td>1.929874e+09</td>\n",
       "      <td>2019-09-14</td>\n",
       "      <td>20190914</td>\n",
       "      <td>20190914</td>\n",
       "      <td>20190929.0</td>\n",
       "      <td>USD</td>\n",
       "      <td>RV</td>\n",
       "      <td>1.0</td>\n",
       "      <td>NaN</td>\n",
       "      <td>2253.86</td>\n",
       "      <td>20190914.0</td>\n",
       "      <td>NAA8</td>\n",
       "      <td>1.929874e+09</td>\n",
       "      <td>0</td>\n",
       "    </tr>\n",
       "    <tr>\n",
       "      <th>3</th>\n",
       "      <td>CA02</td>\n",
       "      <td>0140105686</td>\n",
       "      <td>SYSC llc</td>\n",
       "      <td>NaN</td>\n",
       "      <td>2020.0</td>\n",
       "      <td>2.960623e+09</td>\n",
       "      <td>2020-03-30</td>\n",
       "      <td>20200330</td>\n",
       "      <td>20200330</td>\n",
       "      <td>20200410.0</td>\n",
       "      <td>CAD</td>\n",
       "      <td>RV</td>\n",
       "      <td>1.0</td>\n",
       "      <td>NaN</td>\n",
       "      <td>3299.70</td>\n",
       "      <td>20200331.0</td>\n",
       "      <td>CA10</td>\n",
       "      <td>2.960623e+09</td>\n",
       "      <td>1</td>\n",
       "    </tr>\n",
       "    <tr>\n",
       "      <th>4</th>\n",
       "      <td>U001</td>\n",
       "      <td>0200769623</td>\n",
       "      <td>WAL-MAR foundation</td>\n",
       "      <td>2019-11-25 00:00:00</td>\n",
       "      <td>2019.0</td>\n",
       "      <td>1.930148e+09</td>\n",
       "      <td>2019-11-13</td>\n",
       "      <td>20191113</td>\n",
       "      <td>20191113</td>\n",
       "      <td>20191128.0</td>\n",
       "      <td>USD</td>\n",
       "      <td>RV</td>\n",
       "      <td>1.0</td>\n",
       "      <td>NaN</td>\n",
       "      <td>33133.29</td>\n",
       "      <td>20191113.0</td>\n",
       "      <td>NAH4</td>\n",
       "      <td>1.930148e+09</td>\n",
       "      <td>0</td>\n",
       "    </tr>\n",
       "    <tr>\n",
       "      <th>...</th>\n",
       "      <td>...</td>\n",
       "      <td>...</td>\n",
       "      <td>...</td>\n",
       "      <td>...</td>\n",
       "      <td>...</td>\n",
       "      <td>...</td>\n",
       "      <td>...</td>\n",
       "      <td>...</td>\n",
       "      <td>...</td>\n",
       "      <td>...</td>\n",
       "      <td>...</td>\n",
       "      <td>...</td>\n",
       "      <td>...</td>\n",
       "      <td>...</td>\n",
       "      <td>...</td>\n",
       "      <td>...</td>\n",
       "      <td>...</td>\n",
       "      <td>...</td>\n",
       "      <td>...</td>\n",
       "    </tr>\n",
       "    <tr>\n",
       "      <th>49995</th>\n",
       "      <td>U001</td>\n",
       "      <td>0200561861</td>\n",
       "      <td>CO corporation</td>\n",
       "      <td>NaN</td>\n",
       "      <td>2020.0</td>\n",
       "      <td>1.930797e+09</td>\n",
       "      <td>2020-04-21</td>\n",
       "      <td>20200417</td>\n",
       "      <td>20200421</td>\n",
       "      <td>20200506.0</td>\n",
       "      <td>USD</td>\n",
       "      <td>RV</td>\n",
       "      <td>1.0</td>\n",
       "      <td>NaN</td>\n",
       "      <td>3187.86</td>\n",
       "      <td>20200421.0</td>\n",
       "      <td>NAA8</td>\n",
       "      <td>1.930797e+09</td>\n",
       "      <td>1</td>\n",
       "    </tr>\n",
       "    <tr>\n",
       "      <th>49996</th>\n",
       "      <td>U001</td>\n",
       "      <td>0200769623</td>\n",
       "      <td>WAL-MAR co</td>\n",
       "      <td>2019-09-03 00:00:00</td>\n",
       "      <td>2019.0</td>\n",
       "      <td>1.929744e+09</td>\n",
       "      <td>2019-08-15</td>\n",
       "      <td>20190814</td>\n",
       "      <td>20190815</td>\n",
       "      <td>20190830.0</td>\n",
       "      <td>USD</td>\n",
       "      <td>RV</td>\n",
       "      <td>1.0</td>\n",
       "      <td>NaN</td>\n",
       "      <td>6766.54</td>\n",
       "      <td>20190815.0</td>\n",
       "      <td>NAH4</td>\n",
       "      <td>1.929744e+09</td>\n",
       "      <td>0</td>\n",
       "    </tr>\n",
       "    <tr>\n",
       "      <th>49997</th>\n",
       "      <td>U001</td>\n",
       "      <td>0200772595</td>\n",
       "      <td>SAFEW associates</td>\n",
       "      <td>2020-03-05 00:00:00</td>\n",
       "      <td>2020.0</td>\n",
       "      <td>1.930537e+09</td>\n",
       "      <td>2020-02-19</td>\n",
       "      <td>20200218</td>\n",
       "      <td>20200219</td>\n",
       "      <td>20200305.0</td>\n",
       "      <td>USD</td>\n",
       "      <td>RV</td>\n",
       "      <td>1.0</td>\n",
       "      <td>NaN</td>\n",
       "      <td>6120.86</td>\n",
       "      <td>20200219.0</td>\n",
       "      <td>NAA8</td>\n",
       "      <td>1.930537e+09</td>\n",
       "      <td>0</td>\n",
       "    </tr>\n",
       "    <tr>\n",
       "      <th>49998</th>\n",
       "      <td>U001</td>\n",
       "      <td>0200726979</td>\n",
       "      <td>BJ'S  llc</td>\n",
       "      <td>2019-12-12 00:00:00</td>\n",
       "      <td>2019.0</td>\n",
       "      <td>1.930199e+09</td>\n",
       "      <td>2019-11-27</td>\n",
       "      <td>20191126</td>\n",
       "      <td>20191127</td>\n",
       "      <td>20191212.0</td>\n",
       "      <td>USD</td>\n",
       "      <td>RV</td>\n",
       "      <td>1.0</td>\n",
       "      <td>NaN</td>\n",
       "      <td>63.48</td>\n",
       "      <td>20191127.0</td>\n",
       "      <td>NAA8</td>\n",
       "      <td>1.930199e+09</td>\n",
       "      <td>0</td>\n",
       "    </tr>\n",
       "    <tr>\n",
       "      <th>49999</th>\n",
       "      <td>U001</td>\n",
       "      <td>0200020431</td>\n",
       "      <td>DEC corp</td>\n",
       "      <td>2019-01-15 00:00:00</td>\n",
       "      <td>2019.0</td>\n",
       "      <td>1.928576e+09</td>\n",
       "      <td>2019-01-05</td>\n",
       "      <td>20190105</td>\n",
       "      <td>20190105</td>\n",
       "      <td>20190124.0</td>\n",
       "      <td>USD</td>\n",
       "      <td>RV</td>\n",
       "      <td>1.0</td>\n",
       "      <td>NaN</td>\n",
       "      <td>1790.30</td>\n",
       "      <td>20190101.0</td>\n",
       "      <td>NAM4</td>\n",
       "      <td>1.928576e+09</td>\n",
       "      <td>0</td>\n",
       "    </tr>\n",
       "  </tbody>\n",
       "</table>\n",
       "<p>50000 rows × 19 columns</p>\n",
       "</div>"
      ],
      "text/plain": [
       "      business_code cust_number       name_customer           clear_date  \\\n",
       "0              U001  0200769623        WAL-MAR corp  2020-02-11 00:00:00   \n",
       "1              U001  0200980828              BEN E   2019-08-08 00:00:00   \n",
       "2              U001  0200792734          MDV/ trust  2019-12-30 00:00:00   \n",
       "3              CA02  0140105686            SYSC llc                  NaN   \n",
       "4              U001  0200769623  WAL-MAR foundation  2019-11-25 00:00:00   \n",
       "...             ...         ...                 ...                  ...   \n",
       "49995          U001  0200561861      CO corporation                  NaN   \n",
       "49996          U001  0200769623          WAL-MAR co  2019-09-03 00:00:00   \n",
       "49997          U001  0200772595    SAFEW associates  2020-03-05 00:00:00   \n",
       "49998          U001  0200726979           BJ'S  llc  2019-12-12 00:00:00   \n",
       "49999          U001  0200020431            DEC corp  2019-01-15 00:00:00   \n",
       "\n",
       "       buisness_year        doc_id posting_date  document_create_date  \\\n",
       "0             2020.0  1.930438e+09   2020-01-26              20200125   \n",
       "1             2019.0  1.929646e+09   2019-07-22              20190722   \n",
       "2             2019.0  1.929874e+09   2019-09-14              20190914   \n",
       "3             2020.0  2.960623e+09   2020-03-30              20200330   \n",
       "4             2019.0  1.930148e+09   2019-11-13              20191113   \n",
       "...              ...           ...          ...                   ...   \n",
       "49995         2020.0  1.930797e+09   2020-04-21              20200417   \n",
       "49996         2019.0  1.929744e+09   2019-08-15              20190814   \n",
       "49997         2020.0  1.930537e+09   2020-02-19              20200218   \n",
       "49998         2019.0  1.930199e+09   2019-11-27              20191126   \n",
       "49999         2019.0  1.928576e+09   2019-01-05              20190105   \n",
       "\n",
       "       document_create_date.1  due_in_date invoice_currency document type  \\\n",
       "0                    20200126   20200210.0              USD            RV   \n",
       "1                    20190722   20190811.0              USD            RV   \n",
       "2                    20190914   20190929.0              USD            RV   \n",
       "3                    20200330   20200410.0              CAD            RV   \n",
       "4                    20191113   20191128.0              USD            RV   \n",
       "...                       ...          ...              ...           ...   \n",
       "49995                20200421   20200506.0              USD            RV   \n",
       "49996                20190815   20190830.0              USD            RV   \n",
       "49997                20200219   20200305.0              USD            RV   \n",
       "49998                20191127   20191212.0              USD            RV   \n",
       "49999                20190105   20190124.0              USD            RV   \n",
       "\n",
       "       posting_id  area_business  total_open_amount  baseline_create_date  \\\n",
       "0             1.0            NaN           54273.28            20200126.0   \n",
       "1             1.0            NaN           79656.60            20190722.0   \n",
       "2             1.0            NaN            2253.86            20190914.0   \n",
       "3             1.0            NaN            3299.70            20200331.0   \n",
       "4             1.0            NaN           33133.29            20191113.0   \n",
       "...           ...            ...                ...                   ...   \n",
       "49995         1.0            NaN            3187.86            20200421.0   \n",
       "49996         1.0            NaN            6766.54            20190815.0   \n",
       "49997         1.0            NaN            6120.86            20200219.0   \n",
       "49998         1.0            NaN              63.48            20191127.0   \n",
       "49999         1.0            NaN            1790.30            20190101.0   \n",
       "\n",
       "      cust_payment_terms    invoice_id  isOpen  \n",
       "0                   NAH4  1.930438e+09       0  \n",
       "1                   NAD1  1.929646e+09       0  \n",
       "2                   NAA8  1.929874e+09       0  \n",
       "3                   CA10  2.960623e+09       1  \n",
       "4                   NAH4  1.930148e+09       0  \n",
       "...                  ...           ...     ...  \n",
       "49995               NAA8  1.930797e+09       1  \n",
       "49996               NAH4  1.929744e+09       0  \n",
       "49997               NAA8  1.930537e+09       0  \n",
       "49998               NAA8  1.930199e+09       0  \n",
       "49999               NAM4  1.928576e+09       0  \n",
       "\n",
       "[50000 rows x 19 columns]"
      ]
     },
     "execution_count": 236,
     "metadata": {},
     "output_type": "execute_result"
    }
   ],
   "source": [
    "# IMPORTING DATASET\n",
    "df = pd.read_csv('Dataset.csv')\n",
    "df\n"
   ]
  },
  {
   "cell_type": "markdown",
   "metadata": {},
   "source": [
    "# 1 - DATA PRE-PROCESSING"
   ]
  },
  {
   "cell_type": "code",
   "execution_count": 237,
   "metadata": {},
   "outputs": [
    {
     "name": "stdout",
     "output_type": "stream",
     "text": [
      "<class 'pandas.core.frame.DataFrame'>\n",
      "RangeIndex: 50000 entries, 0 to 49999\n",
      "Data columns (total 19 columns):\n",
      " #   Column                  Non-Null Count  Dtype  \n",
      "---  ------                  --------------  -----  \n",
      " 0   business_code           50000 non-null  object \n",
      " 1   cust_number             50000 non-null  object \n",
      " 2   name_customer           50000 non-null  object \n",
      " 3   clear_date              40000 non-null  object \n",
      " 4   buisness_year           50000 non-null  float64\n",
      " 5   doc_id                  50000 non-null  float64\n",
      " 6   posting_date            50000 non-null  object \n",
      " 7   document_create_date    50000 non-null  int64  \n",
      " 8   document_create_date.1  50000 non-null  int64  \n",
      " 9   due_in_date             50000 non-null  float64\n",
      " 10  invoice_currency        50000 non-null  object \n",
      " 11  document type           50000 non-null  object \n",
      " 12  posting_id              50000 non-null  float64\n",
      " 13  area_business           0 non-null      float64\n",
      " 14  total_open_amount       50000 non-null  float64\n",
      " 15  baseline_create_date    50000 non-null  float64\n",
      " 16  cust_payment_terms      50000 non-null  object \n",
      " 17  invoice_id              49994 non-null  float64\n",
      " 18  isOpen                  50000 non-null  int64  \n",
      "dtypes: float64(8), int64(3), object(8)\n",
      "memory usage: 7.2+ MB\n"
     ]
    }
   ],
   "source": [
    "# INFORMATION ABOUT OUR DATASET\n",
    "df.info()\n"
   ]
  },
  {
   "cell_type": "code",
   "execution_count": 238,
   "metadata": {},
   "outputs": [
    {
     "data": {
      "text/plain": [
       "business_code                 0\n",
       "cust_number                   0\n",
       "name_customer                 0\n",
       "clear_date                10000\n",
       "buisness_year                 0\n",
       "doc_id                        0\n",
       "posting_date                  0\n",
       "document_create_date          0\n",
       "document_create_date.1        0\n",
       "due_in_date                   0\n",
       "invoice_currency              0\n",
       "document type                 0\n",
       "posting_id                    0\n",
       "area_business             50000\n",
       "total_open_amount             0\n",
       "baseline_create_date          0\n",
       "cust_payment_terms            0\n",
       "invoice_id                    6\n",
       "isOpen                        0\n",
       "dtype: int64"
      ]
     },
     "execution_count": 238,
     "metadata": {},
     "output_type": "execute_result"
    }
   ],
   "source": [
    "# TO CHECK TOTAL NUMBERS OF NULL VALUES IN EACH COLUMN\n",
    "df.isnull().sum()\n"
   ]
  },
  {
   "cell_type": "code",
   "execution_count": 239,
   "metadata": {},
   "outputs": [
    {
     "data": {
      "text/plain": [
       "60006"
      ]
     },
     "execution_count": 239,
     "metadata": {},
     "output_type": "execute_result"
    }
   ],
   "source": [
    "df.isnull().sum().sum()\n"
   ]
  },
  {
   "cell_type": "markdown",
   "metadata": {},
   "source": [
    "## 1.1 DATE-TIME CONVERSION"
   ]
  },
  {
   "cell_type": "code",
   "execution_count": 240,
   "metadata": {},
   "outputs": [
    {
     "data": {
      "text/plain": [
       "0       2020-01-26\n",
       "1       2019-07-22\n",
       "2       2019-09-14\n",
       "3       2020-03-30\n",
       "4       2019-11-13\n",
       "           ...    \n",
       "49995   2020-04-21\n",
       "49996   2019-08-15\n",
       "49997   2020-02-19\n",
       "49998   2019-11-27\n",
       "49999   2019-01-05\n",
       "Name: document_create_date.1, Length: 50000, dtype: datetime64[ns]"
      ]
     },
     "execution_count": 240,
     "metadata": {},
     "output_type": "execute_result"
    }
   ],
   "source": [
    "df['document_create_date.1'] = pd.to_datetime(\n",
    "    df['document_create_date.1'], format='%Y%m%d')\n",
    "df['document_create_date.1']\n"
   ]
  },
  {
   "cell_type": "code",
   "execution_count": 241,
   "metadata": {},
   "outputs": [
    {
     "data": {
      "text/plain": [
       "0       2020-02-11\n",
       "1       2019-08-08\n",
       "2       2019-12-30\n",
       "3              NaT\n",
       "4       2019-11-25\n",
       "           ...    \n",
       "49995          NaT\n",
       "49996   2019-09-03\n",
       "49997   2020-03-05\n",
       "49998   2019-12-12\n",
       "49999   2019-01-15\n",
       "Name: clear_date, Length: 50000, dtype: datetime64[ns]"
      ]
     },
     "execution_count": 241,
     "metadata": {},
     "output_type": "execute_result"
    }
   ],
   "source": [
    "df['clear_date'] = pd.to_datetime(df['clear_date'], format='%Y-%m-%d %H:%M:%S')\n",
    "df['clear_date']\n"
   ]
  },
  {
   "cell_type": "code",
   "execution_count": 242,
   "metadata": {},
   "outputs": [
    {
     "data": {
      "text/plain": [
       "0       2020-01-26\n",
       "1       2019-07-22\n",
       "2       2019-09-14\n",
       "3       2020-03-30\n",
       "4       2019-11-13\n",
       "           ...    \n",
       "49995   2020-04-21\n",
       "49996   2019-08-15\n",
       "49997   2020-02-19\n",
       "49998   2019-11-27\n",
       "49999   2019-01-05\n",
       "Name: posting_date, Length: 50000, dtype: datetime64[ns]"
      ]
     },
     "execution_count": 242,
     "metadata": {},
     "output_type": "execute_result"
    }
   ],
   "source": [
    "df['posting_date'] = pd.to_datetime(df['posting_date'], format='%Y-%m-%d')\n",
    "df['posting_date']\n"
   ]
  },
  {
   "cell_type": "code",
   "execution_count": 243,
   "metadata": {},
   "outputs": [
    {
     "data": {
      "text/plain": [
       "0       2020-02-10\n",
       "1       2019-08-11\n",
       "2       2019-09-29\n",
       "3       2020-04-10\n",
       "4       2019-11-28\n",
       "           ...    \n",
       "49995   2020-05-06\n",
       "49996   2019-08-30\n",
       "49997   2020-03-05\n",
       "49998   2019-12-12\n",
       "49999   2019-01-24\n",
       "Name: due_in_date, Length: 50000, dtype: datetime64[ns]"
      ]
     },
     "execution_count": 243,
     "metadata": {},
     "output_type": "execute_result"
    }
   ],
   "source": [
    "df['due_in_date'] = pd.to_datetime(df['due_in_date'], format='%Y%m%d')\n",
    "df['due_in_date']\n"
   ]
  },
  {
   "cell_type": "code",
   "execution_count": 244,
   "metadata": {},
   "outputs": [
    {
     "data": {
      "text/plain": [
       "0       2020-01-26\n",
       "1       2019-07-22\n",
       "2       2019-09-14\n",
       "3       2020-03-31\n",
       "4       2019-11-13\n",
       "           ...    \n",
       "49995   2020-04-21\n",
       "49996   2019-08-15\n",
       "49997   2020-02-19\n",
       "49998   2019-11-27\n",
       "49999   2019-01-01\n",
       "Name: baseline_create_date, Length: 50000, dtype: datetime64[ns]"
      ]
     },
     "execution_count": 244,
     "metadata": {},
     "output_type": "execute_result"
    }
   ],
   "source": [
    "df['baseline_create_date'] = pd.to_datetime(df['baseline_create_date'], format='%Y%m%d')\n",
    "df['baseline_create_date']\n"
   ]
  },
  {
   "cell_type": "code",
   "execution_count": 245,
   "metadata": {},
   "outputs": [
    {
     "name": "stdout",
     "output_type": "stream",
     "text": [
      "<class 'pandas.core.frame.DataFrame'>\n",
      "RangeIndex: 50000 entries, 0 to 49999\n",
      "Data columns (total 19 columns):\n",
      " #   Column                  Non-Null Count  Dtype         \n",
      "---  ------                  --------------  -----         \n",
      " 0   business_code           50000 non-null  object        \n",
      " 1   cust_number             50000 non-null  object        \n",
      " 2   name_customer           50000 non-null  object        \n",
      " 3   clear_date              40000 non-null  datetime64[ns]\n",
      " 4   buisness_year           50000 non-null  float64       \n",
      " 5   doc_id                  50000 non-null  float64       \n",
      " 6   posting_date            50000 non-null  datetime64[ns]\n",
      " 7   document_create_date    50000 non-null  int64         \n",
      " 8   document_create_date.1  50000 non-null  datetime64[ns]\n",
      " 9   due_in_date             50000 non-null  datetime64[ns]\n",
      " 10  invoice_currency        50000 non-null  object        \n",
      " 11  document type           50000 non-null  object        \n",
      " 12  posting_id              50000 non-null  float64       \n",
      " 13  area_business           0 non-null      float64       \n",
      " 14  total_open_amount       50000 non-null  float64       \n",
      " 15  baseline_create_date    50000 non-null  datetime64[ns]\n",
      " 16  cust_payment_terms      50000 non-null  object        \n",
      " 17  invoice_id              49994 non-null  float64       \n",
      " 18  isOpen                  50000 non-null  int64         \n",
      "dtypes: datetime64[ns](5), float64(6), int64(2), object(6)\n",
      "memory usage: 7.2+ MB\n"
     ]
    }
   ],
   "source": [
    "# looking at the converted data-types\n",
    "df.info()\n"
   ]
  },
  {
   "cell_type": "markdown",
   "metadata": {},
   "source": [
    "## 1.2 Dropping NULL Values And Unique Columns"
   ]
  },
  {
   "cell_type": "markdown",
   "metadata": {},
   "source": [
    "### 1.2.1 Dropping NULL Values in area_business"
   ]
  },
  {
   "cell_type": "code",
   "execution_count": 246,
   "metadata": {},
   "outputs": [
    {
     "data": {
      "text/plain": [
       "(50000, 18)"
      ]
     },
     "execution_count": 246,
     "metadata": {},
     "output_type": "execute_result"
    }
   ],
   "source": [
    "# Drop those column(axis=1) whose all values are NULL(how='all')\n",
    "df.dropna(axis=1, how='all', inplace=True,)\n",
    "df.shape\n",
    "# area_business dropped\n"
   ]
  },
  {
   "cell_type": "markdown",
   "metadata": {},
   "source": [
    "### 1.2.2 Dropping NULL Values in invoice_id"
   ]
  },
  {
   "cell_type": "code",
   "execution_count": 247,
   "metadata": {},
   "outputs": [
    {
     "data": {
      "text/html": [
       "<div>\n",
       "<style scoped>\n",
       "    .dataframe tbody tr th:only-of-type {\n",
       "        vertical-align: middle;\n",
       "    }\n",
       "\n",
       "    .dataframe tbody tr th {\n",
       "        vertical-align: top;\n",
       "    }\n",
       "\n",
       "    .dataframe thead th {\n",
       "        text-align: right;\n",
       "    }\n",
       "</style>\n",
       "<table border=\"1\" class=\"dataframe\">\n",
       "  <thead>\n",
       "    <tr style=\"text-align: right;\">\n",
       "      <th></th>\n",
       "      <th>business_code</th>\n",
       "      <th>cust_number</th>\n",
       "      <th>name_customer</th>\n",
       "      <th>clear_date</th>\n",
       "      <th>buisness_year</th>\n",
       "      <th>doc_id</th>\n",
       "      <th>posting_date</th>\n",
       "      <th>document_create_date</th>\n",
       "      <th>document_create_date.1</th>\n",
       "      <th>due_in_date</th>\n",
       "      <th>invoice_currency</th>\n",
       "      <th>document type</th>\n",
       "      <th>posting_id</th>\n",
       "      <th>total_open_amount</th>\n",
       "      <th>baseline_create_date</th>\n",
       "      <th>cust_payment_terms</th>\n",
       "      <th>invoice_id</th>\n",
       "      <th>isOpen</th>\n",
       "    </tr>\n",
       "  </thead>\n",
       "  <tbody>\n",
       "    <tr>\n",
       "      <th>5095</th>\n",
       "      <td>CA02</td>\n",
       "      <td>0140106054</td>\n",
       "      <td>TREE  us</td>\n",
       "      <td>2019-05-31</td>\n",
       "      <td>2019.0</td>\n",
       "      <td>9.500000e+09</td>\n",
       "      <td>2019-03-29</td>\n",
       "      <td>20190329</td>\n",
       "      <td>2019-03-06</td>\n",
       "      <td>2019-03-16</td>\n",
       "      <td>CAD</td>\n",
       "      <td>X2</td>\n",
       "      <td>1.0</td>\n",
       "      <td>1570.59</td>\n",
       "      <td>2019-03-06</td>\n",
       "      <td>CA10</td>\n",
       "      <td>NaN</td>\n",
       "      <td>0</td>\n",
       "    </tr>\n",
       "    <tr>\n",
       "      <th>19450</th>\n",
       "      <td>CA02</td>\n",
       "      <td>0100054351</td>\n",
       "      <td>UNF corp</td>\n",
       "      <td>2019-05-02</td>\n",
       "      <td>2019.0</td>\n",
       "      <td>9.500000e+09</td>\n",
       "      <td>2019-03-29</td>\n",
       "      <td>20190329</td>\n",
       "      <td>2019-03-14</td>\n",
       "      <td>2019-03-24</td>\n",
       "      <td>CAD</td>\n",
       "      <td>X2</td>\n",
       "      <td>1.0</td>\n",
       "      <td>5964.00</td>\n",
       "      <td>2019-03-14</td>\n",
       "      <td>CA10</td>\n",
       "      <td>NaN</td>\n",
       "      <td>0</td>\n",
       "    </tr>\n",
       "    <tr>\n",
       "      <th>30322</th>\n",
       "      <td>CA02</td>\n",
       "      <td>0140104429</td>\n",
       "      <td>COSTCO systems</td>\n",
       "      <td>2019-05-02</td>\n",
       "      <td>2019.0</td>\n",
       "      <td>9.500000e+09</td>\n",
       "      <td>2019-03-29</td>\n",
       "      <td>20190329</td>\n",
       "      <td>2019-02-19</td>\n",
       "      <td>2019-03-01</td>\n",
       "      <td>CAD</td>\n",
       "      <td>X2</td>\n",
       "      <td>1.0</td>\n",
       "      <td>5353.20</td>\n",
       "      <td>2019-02-19</td>\n",
       "      <td>CA10</td>\n",
       "      <td>NaN</td>\n",
       "      <td>0</td>\n",
       "    </tr>\n",
       "    <tr>\n",
       "      <th>31009</th>\n",
       "      <td>CA02</td>\n",
       "      <td>0140106054</td>\n",
       "      <td>TREE  llc</td>\n",
       "      <td>2019-05-06</td>\n",
       "      <td>2019.0</td>\n",
       "      <td>9.500000e+09</td>\n",
       "      <td>2019-03-29</td>\n",
       "      <td>20190329</td>\n",
       "      <td>2019-02-08</td>\n",
       "      <td>2019-02-18</td>\n",
       "      <td>CAD</td>\n",
       "      <td>X2</td>\n",
       "      <td>1.0</td>\n",
       "      <td>938.43</td>\n",
       "      <td>2019-02-08</td>\n",
       "      <td>CA10</td>\n",
       "      <td>NaN</td>\n",
       "      <td>0</td>\n",
       "    </tr>\n",
       "    <tr>\n",
       "      <th>38443</th>\n",
       "      <td>CA02</td>\n",
       "      <td>0140106054</td>\n",
       "      <td>TREE  in</td>\n",
       "      <td>2019-05-06</td>\n",
       "      <td>2019.0</td>\n",
       "      <td>9.500000e+09</td>\n",
       "      <td>2019-03-29</td>\n",
       "      <td>20190329</td>\n",
       "      <td>2019-01-28</td>\n",
       "      <td>2019-02-07</td>\n",
       "      <td>CAD</td>\n",
       "      <td>X2</td>\n",
       "      <td>1.0</td>\n",
       "      <td>12636.00</td>\n",
       "      <td>2019-01-28</td>\n",
       "      <td>CA10</td>\n",
       "      <td>NaN</td>\n",
       "      <td>0</td>\n",
       "    </tr>\n",
       "    <tr>\n",
       "      <th>44500</th>\n",
       "      <td>CA02</td>\n",
       "      <td>0140106054</td>\n",
       "      <td>TREE  in</td>\n",
       "      <td>2019-05-06</td>\n",
       "      <td>2019.0</td>\n",
       "      <td>9.500000e+09</td>\n",
       "      <td>2019-03-29</td>\n",
       "      <td>20190329</td>\n",
       "      <td>2019-01-31</td>\n",
       "      <td>2019-02-10</td>\n",
       "      <td>CAD</td>\n",
       "      <td>X2</td>\n",
       "      <td>1.0</td>\n",
       "      <td>216.80</td>\n",
       "      <td>2019-01-31</td>\n",
       "      <td>CA10</td>\n",
       "      <td>NaN</td>\n",
       "      <td>0</td>\n",
       "    </tr>\n",
       "  </tbody>\n",
       "</table>\n",
       "</div>"
      ],
      "text/plain": [
       "      business_code cust_number   name_customer clear_date  buisness_year  \\\n",
       "5095           CA02  0140106054        TREE  us 2019-05-31         2019.0   \n",
       "19450          CA02  0100054351        UNF corp 2019-05-02         2019.0   \n",
       "30322          CA02  0140104429  COSTCO systems 2019-05-02         2019.0   \n",
       "31009          CA02  0140106054       TREE  llc 2019-05-06         2019.0   \n",
       "38443          CA02  0140106054        TREE  in 2019-05-06         2019.0   \n",
       "44500          CA02  0140106054        TREE  in 2019-05-06         2019.0   \n",
       "\n",
       "             doc_id posting_date  document_create_date document_create_date.1  \\\n",
       "5095   9.500000e+09   2019-03-29              20190329             2019-03-06   \n",
       "19450  9.500000e+09   2019-03-29              20190329             2019-03-14   \n",
       "30322  9.500000e+09   2019-03-29              20190329             2019-02-19   \n",
       "31009  9.500000e+09   2019-03-29              20190329             2019-02-08   \n",
       "38443  9.500000e+09   2019-03-29              20190329             2019-01-28   \n",
       "44500  9.500000e+09   2019-03-29              20190329             2019-01-31   \n",
       "\n",
       "      due_in_date invoice_currency document type  posting_id  \\\n",
       "5095   2019-03-16              CAD            X2         1.0   \n",
       "19450  2019-03-24              CAD            X2         1.0   \n",
       "30322  2019-03-01              CAD            X2         1.0   \n",
       "31009  2019-02-18              CAD            X2         1.0   \n",
       "38443  2019-02-07              CAD            X2         1.0   \n",
       "44500  2019-02-10              CAD            X2         1.0   \n",
       "\n",
       "       total_open_amount baseline_create_date cust_payment_terms  invoice_id  \\\n",
       "5095             1570.59           2019-03-06               CA10         NaN   \n",
       "19450            5964.00           2019-03-14               CA10         NaN   \n",
       "30322            5353.20           2019-02-19               CA10         NaN   \n",
       "31009             938.43           2019-02-08               CA10         NaN   \n",
       "38443           12636.00           2019-01-28               CA10         NaN   \n",
       "44500             216.80           2019-01-31               CA10         NaN   \n",
       "\n",
       "       isOpen  \n",
       "5095        0  \n",
       "19450       0  \n",
       "30322       0  \n",
       "31009       0  \n",
       "38443       0  \n",
       "44500       0  "
      ]
     },
     "execution_count": 247,
     "metadata": {},
     "output_type": "execute_result"
    }
   ],
   "source": [
    "df[df['invoice_id'].isnull()]\n"
   ]
  },
  {
   "cell_type": "code",
   "execution_count": 248,
   "metadata": {},
   "outputs": [
    {
     "data": {
      "text/plain": [
       "RV    49994\n",
       "X2        6\n",
       "Name: document type, dtype: int64"
      ]
     },
     "execution_count": 248,
     "metadata": {},
     "output_type": "execute_result"
    }
   ],
   "source": [
    "df['document type'].value_counts()\n"
   ]
  },
  {
   "cell_type": "markdown",
   "metadata": {},
   "source": [
    "#### We can see that wherever the invoice id is missing the document type is X2 and posting date is different from document create date.1. Since there are only 6 values and invoice_id needs to be unique we can drop these rows"
   ]
  },
  {
   "cell_type": "code",
   "execution_count": 249,
   "metadata": {},
   "outputs": [
    {
     "name": "stdout",
     "output_type": "stream",
     "text": [
      "invoice_id is Deleted \n",
      " (50000-6(ROWS), 18(COLUMNS))\n",
      " (49994, 18)\n"
     ]
    }
   ],
   "source": [
    "# Deleting those rows(axis = 0) whose invoiceid is NULL\n",
    "df.dropna(axis=0, subset=['invoice_id'], inplace=True)\n",
    "# remove own index with default index (0,1,2,3.....)\n",
    "df.reset_index(drop=True, inplace=True)\n",
    "print(\"invoice_id is Deleted \\n (50000-6(ROWS), 18(COLUMNS))\\n\", df.shape)\n"
   ]
  },
  {
   "cell_type": "markdown",
   "metadata": {},
   "source": [
    "#### There is No NULL value inside invoice_id:"
   ]
  },
  {
   "cell_type": "code",
   "execution_count": 250,
   "metadata": {},
   "outputs": [
    {
     "data": {
      "text/html": [
       "<div>\n",
       "<style scoped>\n",
       "    .dataframe tbody tr th:only-of-type {\n",
       "        vertical-align: middle;\n",
       "    }\n",
       "\n",
       "    .dataframe tbody tr th {\n",
       "        vertical-align: top;\n",
       "    }\n",
       "\n",
       "    .dataframe thead th {\n",
       "        text-align: right;\n",
       "    }\n",
       "</style>\n",
       "<table border=\"1\" class=\"dataframe\">\n",
       "  <thead>\n",
       "    <tr style=\"text-align: right;\">\n",
       "      <th></th>\n",
       "      <th>business_code</th>\n",
       "      <th>cust_number</th>\n",
       "      <th>name_customer</th>\n",
       "      <th>clear_date</th>\n",
       "      <th>buisness_year</th>\n",
       "      <th>doc_id</th>\n",
       "      <th>posting_date</th>\n",
       "      <th>document_create_date</th>\n",
       "      <th>document_create_date.1</th>\n",
       "      <th>due_in_date</th>\n",
       "      <th>invoice_currency</th>\n",
       "      <th>document type</th>\n",
       "      <th>posting_id</th>\n",
       "      <th>total_open_amount</th>\n",
       "      <th>baseline_create_date</th>\n",
       "      <th>cust_payment_terms</th>\n",
       "      <th>invoice_id</th>\n",
       "      <th>isOpen</th>\n",
       "    </tr>\n",
       "  </thead>\n",
       "  <tbody>\n",
       "  </tbody>\n",
       "</table>\n",
       "</div>"
      ],
      "text/plain": [
       "Empty DataFrame\n",
       "Columns: [business_code, cust_number, name_customer, clear_date, buisness_year, doc_id, posting_date, document_create_date, document_create_date.1, due_in_date, invoice_currency, document type, posting_id, total_open_amount, baseline_create_date, cust_payment_terms, invoice_id, isOpen]\n",
       "Index: []"
      ]
     },
     "execution_count": 250,
     "metadata": {},
     "output_type": "execute_result"
    }
   ],
   "source": [
    "df[df['invoice_id'].isnull()]\n"
   ]
  },
  {
   "cell_type": "markdown",
   "metadata": {},
   "source": [
    "### 1.2.3 Checking for Unique Values In Each Column"
   ]
  },
  {
   "cell_type": "code",
   "execution_count": 251,
   "metadata": {},
   "outputs": [
    {
     "name": "stdout",
     "output_type": "stream",
     "text": [
      "business_code : 6\n",
      "cust_number : 1424\n",
      "name_customer : 4193\n",
      "clear_date : 403\n",
      "buisness_year : 2\n",
      "doc_id : 48833\n",
      "posting_date : 506\n",
      "document_create_date : 507\n",
      "document_create_date.1 : 506\n",
      "due_in_date : 547\n",
      "invoice_currency : 2\n",
      "document type : 1\n",
      "posting_id : 1\n",
      "total_open_amount : 44344\n",
      "baseline_create_date : 506\n",
      "cust_payment_terms : 74\n",
      "invoice_id : 48833\n",
      "isOpen : 2\n"
     ]
    }
   ],
   "source": [
    "for cols in df.columns:\n",
    "    print(f\"{cols} : {df[f'{cols}'].nunique()}\")\n"
   ]
  },
  {
   "cell_type": "markdown",
   "metadata": {},
   "source": [
    "#### In \"document_type\" and \"posting_id\" we can see that there is only one value throughtout the col .... so these col is of no use for predection ....we can remove it"
   ]
  },
  {
   "cell_type": "code",
   "execution_count": 252,
   "metadata": {},
   "outputs": [
    {
     "name": "stdout",
     "output_type": "stream",
     "text": [
      "Total number Of Columns :  18\n",
      "Unique_columns :  ['document type', 'posting_id']\n",
      "unique_columns Removed...\n",
      "Total number Of Columns :  16\n"
     ]
    }
   ],
   "source": [
    "print(\"Total number Of Columns : \", df.shape[1])\n",
    "\n",
    "# storing and printing those cols whose values are same throughout the col(nunique == 1)\n",
    "unique_cols = [x for x in df.columns if df[x].nunique() == 1]\n",
    "print(\"Unique_columns : \", unique_cols)\n",
    "\n",
    "# Droping these columns\n",
    "df.drop(unique_cols, axis=1, inplace=True)\n",
    "\n",
    "print(\"unique_columns Removed...\")\n",
    "\n",
    "print(\"Total number Of Columns : \", df.shape[1])\n"
   ]
  },
  {
   "cell_type": "code",
   "execution_count": 253,
   "metadata": {},
   "outputs": [
    {
     "data": {
      "text/plain": [
       "(49994, 16)"
      ]
     },
     "execution_count": 253,
     "metadata": {},
     "output_type": "execute_result"
    }
   ],
   "source": [
    "df.shape"
   ]
  },
  {
   "cell_type": "markdown",
   "metadata": {},
   "source": [
    "#### Lets check the Null Values Again : "
   ]
  },
  {
   "cell_type": "code",
   "execution_count": 254,
   "metadata": {},
   "outputs": [
    {
     "data": {
      "text/plain": [
       "business_code                 0\n",
       "cust_number                   0\n",
       "name_customer                 0\n",
       "clear_date                10000\n",
       "buisness_year                 0\n",
       "doc_id                        0\n",
       "posting_date                  0\n",
       "document_create_date          0\n",
       "document_create_date.1        0\n",
       "due_in_date                   0\n",
       "invoice_currency              0\n",
       "total_open_amount             0\n",
       "baseline_create_date          0\n",
       "cust_payment_terms            0\n",
       "invoice_id                    0\n",
       "isOpen                        0\n",
       "dtype: int64"
      ]
     },
     "execution_count": 254,
     "metadata": {},
     "output_type": "execute_result"
    }
   ],
   "source": [
    "df.isnull().sum()\n"
   ]
  },
  {
   "cell_type": "markdown",
   "metadata": {},
   "source": [
    "#### No null values (except clear-date) so moving on to removing duplicate columns. clear_date will be handled later"
   ]
  },
  {
   "cell_type": "markdown",
   "metadata": {},
   "source": [
    "# 1.3 Duplicate Column Removal"
   ]
  },
  {
   "cell_type": "code",
   "execution_count": 255,
   "metadata": {},
   "outputs": [
    {
     "data": {
      "text/plain": [
       "['doc_id', 'posting_date']"
      ]
     },
     "execution_count": 255,
     "metadata": {},
     "output_type": "execute_result"
    }
   ],
   "source": [
    "# Function to find Duplicate Column :\n",
    "\n",
    "def findDuplicateColumns(df):\n",
    "    duplicatecolumns = set()\n",
    "    for x in range(df.shape[1]):\n",
    "        col1 = df.iloc[:, x]\n",
    "        for y in range(x+1, df.shape[1]):\n",
    "            col2 = df.iloc[:, y]\n",
    "            if col1.equals(col2):\n",
    "                duplicatecolumns.add(df.columns.values[x])\n",
    "    return list(duplicatecolumns)\n",
    "\n",
    "dupCol = findDuplicateColumns(df)\n",
    "dupCol\n"
   ]
  },
  {
   "cell_type": "markdown",
   "metadata": {},
   "source": [
    "#### \"doc_id\" values are same as \"invoice_id\"\n",
    "####  AND\n",
    "#### \"posting_date\" values are same as \"document_create_date.1\""
   ]
  },
  {
   "cell_type": "code",
   "execution_count": 256,
   "metadata": {},
   "outputs": [],
   "source": [
    "# Removing \"doc_id\" and \"posting_date\"\n",
    "df.drop(columns=dupCol, inplace=True)\n"
   ]
  },
  {
   "cell_type": "code",
   "execution_count": 257,
   "metadata": {},
   "outputs": [
    {
     "data": {
      "text/plain": [
       "(49994, 14)"
      ]
     },
     "execution_count": 257,
     "metadata": {},
     "output_type": "execute_result"
    }
   ],
   "source": [
    "df.shape\n",
    "# previouly we had 16 columns as we deleted two more columns\n",
    "# total cols = 14\n"
   ]
  },
  {
   "cell_type": "markdown",
   "metadata": {},
   "source": [
    "#### Now, to avoid discrepancy between document_create_date and document_create_date.1 we drop document_create_date and instead use document_create_date.1, because we will use document_create_date.1 for spliting the data and also document_create_date.1 is normalized version of document_create_date (Refer Dataset-info.md)"
   ]
  },
  {
   "cell_type": "code",
   "execution_count": 258,
   "metadata": {},
   "outputs": [],
   "source": [
    "df.drop(columns=['document_create_date'], inplace=True)\n"
   ]
  },
  {
   "cell_type": "code",
   "execution_count": 259,
   "metadata": {},
   "outputs": [
    {
     "data": {
      "text/plain": [
       "(49994, 13)"
      ]
     },
     "execution_count": 259,
     "metadata": {},
     "output_type": "execute_result"
    }
   ],
   "source": [
    "df.shape\n",
    "# previouly we had 14 columns as we deleted one more column\n",
    "# total cols = 13"
   ]
  },
  {
   "cell_type": "markdown",
   "metadata": {},
   "source": [
    "#### Also, invoice id is unique for each transaction and don't affect the sales, so we drop it."
   ]
  },
  {
   "cell_type": "code",
   "execution_count": 260,
   "metadata": {},
   "outputs": [],
   "source": [
    "df.drop(columns=['invoice_id'], inplace=True)"
   ]
  },
  {
   "cell_type": "code",
   "execution_count": 261,
   "metadata": {},
   "outputs": [
    {
     "data": {
      "text/plain": [
       "(49994, 12)"
      ]
     },
     "execution_count": 261,
     "metadata": {},
     "output_type": "execute_result"
    }
   ],
   "source": [
    "df.shape\n",
    "# previouly we had 13 columns as we deleted one more column\n",
    "# total cols = 12\n"
   ]
  },
  {
   "cell_type": "code",
   "execution_count": 262,
   "metadata": {},
   "outputs": [
    {
     "name": "stdout",
     "output_type": "stream",
     "text": [
      "<class 'pandas.core.frame.DataFrame'>\n",
      "RangeIndex: 49994 entries, 0 to 49993\n",
      "Data columns (total 12 columns):\n",
      " #   Column                  Non-Null Count  Dtype         \n",
      "---  ------                  --------------  -----         \n",
      " 0   business_code           49994 non-null  object        \n",
      " 1   cust_number             49994 non-null  object        \n",
      " 2   name_customer           49994 non-null  object        \n",
      " 3   clear_date              39994 non-null  datetime64[ns]\n",
      " 4   buisness_year           49994 non-null  float64       \n",
      " 5   document_create_date.1  49994 non-null  datetime64[ns]\n",
      " 6   due_in_date             49994 non-null  datetime64[ns]\n",
      " 7   invoice_currency        49994 non-null  object        \n",
      " 8   total_open_amount       49994 non-null  float64       \n",
      " 9   baseline_create_date    49994 non-null  datetime64[ns]\n",
      " 10  cust_payment_terms      49994 non-null  object        \n",
      " 11  isOpen                  49994 non-null  int64         \n",
      "dtypes: datetime64[ns](4), float64(2), int64(1), object(5)\n",
      "memory usage: 4.6+ MB\n"
     ]
    }
   ],
   "source": [
    "df.info()\n"
   ]
  },
  {
   "cell_type": "markdown",
   "metadata": {},
   "source": [
    "# 1.4 TARGET VARIABLE AND SORT"
   ]
  },
  {
   "cell_type": "markdown",
   "metadata": {},
   "source": [
    "### Our model cannot take in dates for prediction so our target column will not be clear_date. Instead it will be the delay column, as delay will be in int format which our model can predict easily.\n",
    "\n",
    "### Delay = [clear_date - due_date] will tell us how much delay was there in paying. \n",
    " \n",
    " ### \"-\" indicates it has been paid off before due date. \n",
    " ### \"+\" indicates it has been paid off after the due date"
   ]
  },
  {
   "cell_type": "code",
   "execution_count": 263,
   "metadata": {},
   "outputs": [],
   "source": [
    "# Adding column \"delay\" using above formula :\n",
    "# delay will be in integer and specify no of days\n",
    "\n",
    "df['delay'] = (df['clear_date'] - df['due_in_date']).dt.days\n"
   ]
  },
  {
   "cell_type": "code",
   "execution_count": 264,
   "metadata": {},
   "outputs": [
    {
     "data": {
      "text/plain": [
       "(49994, 13)"
      ]
     },
     "execution_count": 264,
     "metadata": {},
     "output_type": "execute_result"
    }
   ],
   "source": [
    "df.shape\n",
    "# previouly we had 12 columns as we added one more column\n",
    "# total cols = 13\n"
   ]
  },
  {
   "cell_type": "code",
   "execution_count": 265,
   "metadata": {},
   "outputs": [
    {
     "data": {
      "text/html": [
       "<div>\n",
       "<style scoped>\n",
       "    .dataframe tbody tr th:only-of-type {\n",
       "        vertical-align: middle;\n",
       "    }\n",
       "\n",
       "    .dataframe tbody tr th {\n",
       "        vertical-align: top;\n",
       "    }\n",
       "\n",
       "    .dataframe thead th {\n",
       "        text-align: right;\n",
       "    }\n",
       "</style>\n",
       "<table border=\"1\" class=\"dataframe\">\n",
       "  <thead>\n",
       "    <tr style=\"text-align: right;\">\n",
       "      <th></th>\n",
       "      <th>business_code</th>\n",
       "      <th>cust_number</th>\n",
       "      <th>name_customer</th>\n",
       "      <th>clear_date</th>\n",
       "      <th>buisness_year</th>\n",
       "      <th>document_create_date.1</th>\n",
       "      <th>due_in_date</th>\n",
       "      <th>invoice_currency</th>\n",
       "      <th>total_open_amount</th>\n",
       "      <th>baseline_create_date</th>\n",
       "      <th>cust_payment_terms</th>\n",
       "      <th>isOpen</th>\n",
       "      <th>delay</th>\n",
       "    </tr>\n",
       "  </thead>\n",
       "  <tbody>\n",
       "    <tr>\n",
       "      <th>0</th>\n",
       "      <td>U001</td>\n",
       "      <td>0200769623</td>\n",
       "      <td>WAL-MAR corp</td>\n",
       "      <td>2020-02-11</td>\n",
       "      <td>2020.0</td>\n",
       "      <td>2020-01-26</td>\n",
       "      <td>2020-02-10</td>\n",
       "      <td>USD</td>\n",
       "      <td>54273.28</td>\n",
       "      <td>2020-01-26</td>\n",
       "      <td>NAH4</td>\n",
       "      <td>0</td>\n",
       "      <td>1.0</td>\n",
       "    </tr>\n",
       "    <tr>\n",
       "      <th>1</th>\n",
       "      <td>U001</td>\n",
       "      <td>0200980828</td>\n",
       "      <td>BEN E</td>\n",
       "      <td>2019-08-08</td>\n",
       "      <td>2019.0</td>\n",
       "      <td>2019-07-22</td>\n",
       "      <td>2019-08-11</td>\n",
       "      <td>USD</td>\n",
       "      <td>79656.60</td>\n",
       "      <td>2019-07-22</td>\n",
       "      <td>NAD1</td>\n",
       "      <td>0</td>\n",
       "      <td>-3.0</td>\n",
       "    </tr>\n",
       "    <tr>\n",
       "      <th>2</th>\n",
       "      <td>U001</td>\n",
       "      <td>0200792734</td>\n",
       "      <td>MDV/ trust</td>\n",
       "      <td>2019-12-30</td>\n",
       "      <td>2019.0</td>\n",
       "      <td>2019-09-14</td>\n",
       "      <td>2019-09-29</td>\n",
       "      <td>USD</td>\n",
       "      <td>2253.86</td>\n",
       "      <td>2019-09-14</td>\n",
       "      <td>NAA8</td>\n",
       "      <td>0</td>\n",
       "      <td>92.0</td>\n",
       "    </tr>\n",
       "    <tr>\n",
       "      <th>3</th>\n",
       "      <td>CA02</td>\n",
       "      <td>0140105686</td>\n",
       "      <td>SYSC llc</td>\n",
       "      <td>NaT</td>\n",
       "      <td>2020.0</td>\n",
       "      <td>2020-03-30</td>\n",
       "      <td>2020-04-10</td>\n",
       "      <td>CAD</td>\n",
       "      <td>3299.70</td>\n",
       "      <td>2020-03-31</td>\n",
       "      <td>CA10</td>\n",
       "      <td>1</td>\n",
       "      <td>NaN</td>\n",
       "    </tr>\n",
       "    <tr>\n",
       "      <th>4</th>\n",
       "      <td>U001</td>\n",
       "      <td>0200769623</td>\n",
       "      <td>WAL-MAR foundation</td>\n",
       "      <td>2019-11-25</td>\n",
       "      <td>2019.0</td>\n",
       "      <td>2019-11-13</td>\n",
       "      <td>2019-11-28</td>\n",
       "      <td>USD</td>\n",
       "      <td>33133.29</td>\n",
       "      <td>2019-11-13</td>\n",
       "      <td>NAH4</td>\n",
       "      <td>0</td>\n",
       "      <td>-3.0</td>\n",
       "    </tr>\n",
       "  </tbody>\n",
       "</table>\n",
       "</div>"
      ],
      "text/plain": [
       "  business_code cust_number       name_customer clear_date  buisness_year  \\\n",
       "0          U001  0200769623        WAL-MAR corp 2020-02-11         2020.0   \n",
       "1          U001  0200980828              BEN E  2019-08-08         2019.0   \n",
       "2          U001  0200792734          MDV/ trust 2019-12-30         2019.0   \n",
       "3          CA02  0140105686            SYSC llc        NaT         2020.0   \n",
       "4          U001  0200769623  WAL-MAR foundation 2019-11-25         2019.0   \n",
       "\n",
       "  document_create_date.1 due_in_date invoice_currency  total_open_amount  \\\n",
       "0             2020-01-26  2020-02-10              USD           54273.28   \n",
       "1             2019-07-22  2019-08-11              USD           79656.60   \n",
       "2             2019-09-14  2019-09-29              USD            2253.86   \n",
       "3             2020-03-30  2020-04-10              CAD            3299.70   \n",
       "4             2019-11-13  2019-11-28              USD           33133.29   \n",
       "\n",
       "  baseline_create_date cust_payment_terms  isOpen  delay  \n",
       "0           2020-01-26               NAH4       0    1.0  \n",
       "1           2019-07-22               NAD1       0   -3.0  \n",
       "2           2019-09-14               NAA8       0   92.0  \n",
       "3           2020-03-31               CA10       1    NaN  \n",
       "4           2019-11-13               NAH4       0   -3.0  "
      ]
     },
     "execution_count": 265,
     "metadata": {},
     "output_type": "execute_result"
    }
   ],
   "source": [
    "# you can see here delay column is added\n",
    "df.head(5)\n"
   ]
  },
  {
   "cell_type": "code",
   "execution_count": 266,
   "metadata": {},
   "outputs": [
    {
     "data": {
      "text/plain": [
       "(49994, 13)"
      ]
     },
     "execution_count": 266,
     "metadata": {},
     "output_type": "execute_result"
    }
   ],
   "source": [
    "df.shape"
   ]
  },
  {
   "cell_type": "markdown",
   "metadata": {},
   "source": [
    "### Sorting in ascending order by document_create_date.1"
   ]
  },
  {
   "cell_type": "code",
   "execution_count": 267,
   "metadata": {},
   "outputs": [
    {
     "data": {
      "text/html": [
       "<div>\n",
       "<style scoped>\n",
       "    .dataframe tbody tr th:only-of-type {\n",
       "        vertical-align: middle;\n",
       "    }\n",
       "\n",
       "    .dataframe tbody tr th {\n",
       "        vertical-align: top;\n",
       "    }\n",
       "\n",
       "    .dataframe thead th {\n",
       "        text-align: right;\n",
       "    }\n",
       "</style>\n",
       "<table border=\"1\" class=\"dataframe\">\n",
       "  <thead>\n",
       "    <tr style=\"text-align: right;\">\n",
       "      <th></th>\n",
       "      <th>business_code</th>\n",
       "      <th>cust_number</th>\n",
       "      <th>name_customer</th>\n",
       "      <th>clear_date</th>\n",
       "      <th>buisness_year</th>\n",
       "      <th>document_create_date.1</th>\n",
       "      <th>due_in_date</th>\n",
       "      <th>invoice_currency</th>\n",
       "      <th>total_open_amount</th>\n",
       "      <th>baseline_create_date</th>\n",
       "      <th>cust_payment_terms</th>\n",
       "      <th>isOpen</th>\n",
       "      <th>delay</th>\n",
       "    </tr>\n",
       "  </thead>\n",
       "  <tbody>\n",
       "    <tr>\n",
       "      <th>43098</th>\n",
       "      <td>U001</td>\n",
       "      <td>0200769623</td>\n",
       "      <td>WAL-MAR foundation</td>\n",
       "      <td>2019-01-09</td>\n",
       "      <td>2019.0</td>\n",
       "      <td>2018-12-30</td>\n",
       "      <td>2019-01-14</td>\n",
       "      <td>USD</td>\n",
       "      <td>14559.00</td>\n",
       "      <td>2018-12-30</td>\n",
       "      <td>NAH4</td>\n",
       "      <td>0</td>\n",
       "      <td>-5.0</td>\n",
       "    </tr>\n",
       "    <tr>\n",
       "      <th>32817</th>\n",
       "      <td>U001</td>\n",
       "      <td>0200769623</td>\n",
       "      <td>WAL-MAR foundation</td>\n",
       "      <td>2019-01-09</td>\n",
       "      <td>2019.0</td>\n",
       "      <td>2018-12-30</td>\n",
       "      <td>2019-01-14</td>\n",
       "      <td>USD</td>\n",
       "      <td>25749.68</td>\n",
       "      <td>2018-12-30</td>\n",
       "      <td>NAH4</td>\n",
       "      <td>0</td>\n",
       "      <td>-5.0</td>\n",
       "    </tr>\n",
       "    <tr>\n",
       "      <th>44611</th>\n",
       "      <td>U001</td>\n",
       "      <td>0200726979</td>\n",
       "      <td>BJ'S  systems</td>\n",
       "      <td>2019-01-15</td>\n",
       "      <td>2019.0</td>\n",
       "      <td>2018-12-30</td>\n",
       "      <td>2019-01-14</td>\n",
       "      <td>USD</td>\n",
       "      <td>58.18</td>\n",
       "      <td>2018-12-30</td>\n",
       "      <td>NAA8</td>\n",
       "      <td>0</td>\n",
       "      <td>1.0</td>\n",
       "    </tr>\n",
       "    <tr>\n",
       "      <th>15510</th>\n",
       "      <td>U001</td>\n",
       "      <td>0200769623</td>\n",
       "      <td>WAL-MAR associates</td>\n",
       "      <td>2019-01-09</td>\n",
       "      <td>2019.0</td>\n",
       "      <td>2018-12-30</td>\n",
       "      <td>2019-01-14</td>\n",
       "      <td>USD</td>\n",
       "      <td>4890.99</td>\n",
       "      <td>2018-12-30</td>\n",
       "      <td>NAH4</td>\n",
       "      <td>0</td>\n",
       "      <td>-5.0</td>\n",
       "    </tr>\n",
       "    <tr>\n",
       "      <th>1268</th>\n",
       "      <td>U001</td>\n",
       "      <td>0200769623</td>\n",
       "      <td>WAL-MAR associates</td>\n",
       "      <td>2019-01-15</td>\n",
       "      <td>2019.0</td>\n",
       "      <td>2018-12-30</td>\n",
       "      <td>2019-01-14</td>\n",
       "      <td>USD</td>\n",
       "      <td>9785.88</td>\n",
       "      <td>2018-12-30</td>\n",
       "      <td>NAH4</td>\n",
       "      <td>0</td>\n",
       "      <td>1.0</td>\n",
       "    </tr>\n",
       "    <tr>\n",
       "      <th>...</th>\n",
       "      <td>...</td>\n",
       "      <td>...</td>\n",
       "      <td>...</td>\n",
       "      <td>...</td>\n",
       "      <td>...</td>\n",
       "      <td>...</td>\n",
       "      <td>...</td>\n",
       "      <td>...</td>\n",
       "      <td>...</td>\n",
       "      <td>...</td>\n",
       "      <td>...</td>\n",
       "      <td>...</td>\n",
       "      <td>...</td>\n",
       "    </tr>\n",
       "    <tr>\n",
       "      <th>1351</th>\n",
       "      <td>U001</td>\n",
       "      <td>0200541916</td>\n",
       "      <td>VF G corp</td>\n",
       "      <td>NaT</td>\n",
       "      <td>2020.0</td>\n",
       "      <td>2020-05-15</td>\n",
       "      <td>2020-05-30</td>\n",
       "      <td>USD</td>\n",
       "      <td>34301.32</td>\n",
       "      <td>2020-05-15</td>\n",
       "      <td>NAA8</td>\n",
       "      <td>1</td>\n",
       "      <td>NaN</td>\n",
       "    </tr>\n",
       "    <tr>\n",
       "      <th>7528</th>\n",
       "      <td>U001</td>\n",
       "      <td>0200759878</td>\n",
       "      <td>SA associates</td>\n",
       "      <td>NaT</td>\n",
       "      <td>2020.0</td>\n",
       "      <td>2020-05-17</td>\n",
       "      <td>2020-06-01</td>\n",
       "      <td>USD</td>\n",
       "      <td>22835.50</td>\n",
       "      <td>2020-05-17</td>\n",
       "      <td>NAH4</td>\n",
       "      <td>1</td>\n",
       "      <td>NaN</td>\n",
       "    </tr>\n",
       "    <tr>\n",
       "      <th>48269</th>\n",
       "      <td>U001</td>\n",
       "      <td>0200915438</td>\n",
       "      <td>GROC foundation</td>\n",
       "      <td>NaT</td>\n",
       "      <td>2020.0</td>\n",
       "      <td>2020-05-18</td>\n",
       "      <td>2020-06-02</td>\n",
       "      <td>USD</td>\n",
       "      <td>1232.00</td>\n",
       "      <td>2020-05-18</td>\n",
       "      <td>NAA8</td>\n",
       "      <td>1</td>\n",
       "      <td>NaN</td>\n",
       "    </tr>\n",
       "    <tr>\n",
       "      <th>411</th>\n",
       "      <td>CA02</td>\n",
       "      <td>0100027744</td>\n",
       "      <td>OMEGA AD in</td>\n",
       "      <td>NaT</td>\n",
       "      <td>2020.0</td>\n",
       "      <td>2020-05-19</td>\n",
       "      <td>2020-05-19</td>\n",
       "      <td>CAD</td>\n",
       "      <td>7035.00</td>\n",
       "      <td>2020-05-19</td>\n",
       "      <td>CAB1</td>\n",
       "      <td>1</td>\n",
       "      <td>NaN</td>\n",
       "    </tr>\n",
       "    <tr>\n",
       "      <th>4120</th>\n",
       "      <td>U001</td>\n",
       "      <td>0200756072</td>\n",
       "      <td>REINHA us</td>\n",
       "      <td>NaT</td>\n",
       "      <td>2020.0</td>\n",
       "      <td>2020-05-22</td>\n",
       "      <td>2020-06-21</td>\n",
       "      <td>USD</td>\n",
       "      <td>1.17</td>\n",
       "      <td>2020-05-22</td>\n",
       "      <td>NAD5</td>\n",
       "      <td>1</td>\n",
       "      <td>NaN</td>\n",
       "    </tr>\n",
       "  </tbody>\n",
       "</table>\n",
       "<p>49994 rows × 13 columns</p>\n",
       "</div>"
      ],
      "text/plain": [
       "      business_code cust_number       name_customer clear_date  buisness_year  \\\n",
       "43098          U001  0200769623  WAL-MAR foundation 2019-01-09         2019.0   \n",
       "32817          U001  0200769623  WAL-MAR foundation 2019-01-09         2019.0   \n",
       "44611          U001  0200726979       BJ'S  systems 2019-01-15         2019.0   \n",
       "15510          U001  0200769623  WAL-MAR associates 2019-01-09         2019.0   \n",
       "1268           U001  0200769623  WAL-MAR associates 2019-01-15         2019.0   \n",
       "...             ...         ...                 ...        ...            ...   \n",
       "1351           U001  0200541916           VF G corp        NaT         2020.0   \n",
       "7528           U001  0200759878       SA associates        NaT         2020.0   \n",
       "48269          U001  0200915438     GROC foundation        NaT         2020.0   \n",
       "411            CA02  0100027744         OMEGA AD in        NaT         2020.0   \n",
       "4120           U001  0200756072           REINHA us        NaT         2020.0   \n",
       "\n",
       "      document_create_date.1 due_in_date invoice_currency  total_open_amount  \\\n",
       "43098             2018-12-30  2019-01-14              USD           14559.00   \n",
       "32817             2018-12-30  2019-01-14              USD           25749.68   \n",
       "44611             2018-12-30  2019-01-14              USD              58.18   \n",
       "15510             2018-12-30  2019-01-14              USD            4890.99   \n",
       "1268              2018-12-30  2019-01-14              USD            9785.88   \n",
       "...                      ...         ...              ...                ...   \n",
       "1351              2020-05-15  2020-05-30              USD           34301.32   \n",
       "7528              2020-05-17  2020-06-01              USD           22835.50   \n",
       "48269             2020-05-18  2020-06-02              USD            1232.00   \n",
       "411               2020-05-19  2020-05-19              CAD            7035.00   \n",
       "4120              2020-05-22  2020-06-21              USD               1.17   \n",
       "\n",
       "      baseline_create_date cust_payment_terms  isOpen  delay  \n",
       "43098           2018-12-30               NAH4       0   -5.0  \n",
       "32817           2018-12-30               NAH4       0   -5.0  \n",
       "44611           2018-12-30               NAA8       0    1.0  \n",
       "15510           2018-12-30               NAH4       0   -5.0  \n",
       "1268            2018-12-30               NAH4       0    1.0  \n",
       "...                    ...                ...     ...    ...  \n",
       "1351            2020-05-15               NAA8       1    NaN  \n",
       "7528            2020-05-17               NAH4       1    NaN  \n",
       "48269           2020-05-18               NAA8       1    NaN  \n",
       "411             2020-05-19               CAB1       1    NaN  \n",
       "4120            2020-05-22               NAD5       1    NaN  \n",
       "\n",
       "[49994 rows x 13 columns]"
      ]
     },
     "execution_count": 267,
     "metadata": {},
     "output_type": "execute_result"
    }
   ],
   "source": [
    "df.sort_values(by='document_create_date.1', inplace=True)\n",
    "# sorting document_create_date.1 in ascending order\n",
    "df\n"
   ]
  },
  {
   "cell_type": "markdown",
   "metadata": {},
   "source": [
    "# 1.5 SPLITTING\n",
    "\n",
    "## Creating test set on null clear_date"
   ]
  },
  {
   "cell_type": "code",
   "execution_count": 268,
   "metadata": {},
   "outputs": [
    {
     "data": {
      "text/plain": [
       "10000"
      ]
     },
     "execution_count": 268,
     "metadata": {},
     "output_type": "execute_result"
    }
   ],
   "source": [
    "df.clear_date.isnull().sum()\n"
   ]
  },
  {
   "cell_type": "code",
   "execution_count": 269,
   "metadata": {},
   "outputs": [
    {
     "data": {
      "text/html": [
       "<div>\n",
       "<style scoped>\n",
       "    .dataframe tbody tr th:only-of-type {\n",
       "        vertical-align: middle;\n",
       "    }\n",
       "\n",
       "    .dataframe tbody tr th {\n",
       "        vertical-align: top;\n",
       "    }\n",
       "\n",
       "    .dataframe thead th {\n",
       "        text-align: right;\n",
       "    }\n",
       "</style>\n",
       "<table border=\"1\" class=\"dataframe\">\n",
       "  <thead>\n",
       "    <tr style=\"text-align: right;\">\n",
       "      <th></th>\n",
       "      <th>business_code</th>\n",
       "      <th>cust_number</th>\n",
       "      <th>name_customer</th>\n",
       "      <th>clear_date</th>\n",
       "      <th>buisness_year</th>\n",
       "      <th>document_create_date.1</th>\n",
       "      <th>due_in_date</th>\n",
       "      <th>invoice_currency</th>\n",
       "      <th>total_open_amount</th>\n",
       "      <th>baseline_create_date</th>\n",
       "      <th>cust_payment_terms</th>\n",
       "      <th>isOpen</th>\n",
       "      <th>delay</th>\n",
       "    </tr>\n",
       "  </thead>\n",
       "  <tbody>\n",
       "    <tr>\n",
       "      <th>0</th>\n",
       "      <td>U001</td>\n",
       "      <td>0200769623</td>\n",
       "      <td>WAL-MAR in</td>\n",
       "      <td>NaT</td>\n",
       "      <td>2020.0</td>\n",
       "      <td>2020-02-27</td>\n",
       "      <td>2020-03-13</td>\n",
       "      <td>USD</td>\n",
       "      <td>32922.51</td>\n",
       "      <td>2020-02-27</td>\n",
       "      <td>NAH4</td>\n",
       "      <td>1</td>\n",
       "      <td>NaN</td>\n",
       "    </tr>\n",
       "    <tr>\n",
       "      <th>1</th>\n",
       "      <td>U001</td>\n",
       "      <td>0200806580</td>\n",
       "      <td>BE systems</td>\n",
       "      <td>NaT</td>\n",
       "      <td>2020.0</td>\n",
       "      <td>2020-02-27</td>\n",
       "      <td>2020-03-13</td>\n",
       "      <td>USD</td>\n",
       "      <td>4827.34</td>\n",
       "      <td>2020-02-27</td>\n",
       "      <td>NAA8</td>\n",
       "      <td>1</td>\n",
       "      <td>NaN</td>\n",
       "    </tr>\n",
       "    <tr>\n",
       "      <th>2</th>\n",
       "      <td>U001</td>\n",
       "      <td>0200769623</td>\n",
       "      <td>WAL-MAR trust</td>\n",
       "      <td>NaT</td>\n",
       "      <td>2020.0</td>\n",
       "      <td>2020-02-27</td>\n",
       "      <td>2020-03-13</td>\n",
       "      <td>USD</td>\n",
       "      <td>14706.47</td>\n",
       "      <td>2020-02-27</td>\n",
       "      <td>NAH4</td>\n",
       "      <td>1</td>\n",
       "      <td>NaN</td>\n",
       "    </tr>\n",
       "    <tr>\n",
       "      <th>3</th>\n",
       "      <td>U001</td>\n",
       "      <td>0200726979</td>\n",
       "      <td>BJ'S  us</td>\n",
       "      <td>NaT</td>\n",
       "      <td>2020.0</td>\n",
       "      <td>2020-02-27</td>\n",
       "      <td>2020-03-13</td>\n",
       "      <td>USD</td>\n",
       "      <td>413.83</td>\n",
       "      <td>2020-02-27</td>\n",
       "      <td>NAA8</td>\n",
       "      <td>1</td>\n",
       "      <td>NaN</td>\n",
       "    </tr>\n",
       "    <tr>\n",
       "      <th>4</th>\n",
       "      <td>U001</td>\n",
       "      <td>0200014556</td>\n",
       "      <td>ALBER corporation</td>\n",
       "      <td>NaT</td>\n",
       "      <td>2020.0</td>\n",
       "      <td>2020-02-27</td>\n",
       "      <td>2020-05-02</td>\n",
       "      <td>USD</td>\n",
       "      <td>15651.65</td>\n",
       "      <td>2020-02-27</td>\n",
       "      <td>NAGD</td>\n",
       "      <td>1</td>\n",
       "      <td>NaN</td>\n",
       "    </tr>\n",
       "    <tr>\n",
       "      <th>...</th>\n",
       "      <td>...</td>\n",
       "      <td>...</td>\n",
       "      <td>...</td>\n",
       "      <td>...</td>\n",
       "      <td>...</td>\n",
       "      <td>...</td>\n",
       "      <td>...</td>\n",
       "      <td>...</td>\n",
       "      <td>...</td>\n",
       "      <td>...</td>\n",
       "      <td>...</td>\n",
       "      <td>...</td>\n",
       "      <td>...</td>\n",
       "    </tr>\n",
       "    <tr>\n",
       "      <th>9995</th>\n",
       "      <td>U001</td>\n",
       "      <td>0200541916</td>\n",
       "      <td>VF G corp</td>\n",
       "      <td>NaT</td>\n",
       "      <td>2020.0</td>\n",
       "      <td>2020-05-15</td>\n",
       "      <td>2020-05-30</td>\n",
       "      <td>USD</td>\n",
       "      <td>34301.32</td>\n",
       "      <td>2020-05-15</td>\n",
       "      <td>NAA8</td>\n",
       "      <td>1</td>\n",
       "      <td>NaN</td>\n",
       "    </tr>\n",
       "    <tr>\n",
       "      <th>9996</th>\n",
       "      <td>U001</td>\n",
       "      <td>0200759878</td>\n",
       "      <td>SA associates</td>\n",
       "      <td>NaT</td>\n",
       "      <td>2020.0</td>\n",
       "      <td>2020-05-17</td>\n",
       "      <td>2020-06-01</td>\n",
       "      <td>USD</td>\n",
       "      <td>22835.50</td>\n",
       "      <td>2020-05-17</td>\n",
       "      <td>NAH4</td>\n",
       "      <td>1</td>\n",
       "      <td>NaN</td>\n",
       "    </tr>\n",
       "    <tr>\n",
       "      <th>9997</th>\n",
       "      <td>U001</td>\n",
       "      <td>0200915438</td>\n",
       "      <td>GROC foundation</td>\n",
       "      <td>NaT</td>\n",
       "      <td>2020.0</td>\n",
       "      <td>2020-05-18</td>\n",
       "      <td>2020-06-02</td>\n",
       "      <td>USD</td>\n",
       "      <td>1232.00</td>\n",
       "      <td>2020-05-18</td>\n",
       "      <td>NAA8</td>\n",
       "      <td>1</td>\n",
       "      <td>NaN</td>\n",
       "    </tr>\n",
       "    <tr>\n",
       "      <th>9998</th>\n",
       "      <td>CA02</td>\n",
       "      <td>0100027744</td>\n",
       "      <td>OMEGA AD in</td>\n",
       "      <td>NaT</td>\n",
       "      <td>2020.0</td>\n",
       "      <td>2020-05-19</td>\n",
       "      <td>2020-05-19</td>\n",
       "      <td>CAD</td>\n",
       "      <td>7035.00</td>\n",
       "      <td>2020-05-19</td>\n",
       "      <td>CAB1</td>\n",
       "      <td>1</td>\n",
       "      <td>NaN</td>\n",
       "    </tr>\n",
       "    <tr>\n",
       "      <th>9999</th>\n",
       "      <td>U001</td>\n",
       "      <td>0200756072</td>\n",
       "      <td>REINHA us</td>\n",
       "      <td>NaT</td>\n",
       "      <td>2020.0</td>\n",
       "      <td>2020-05-22</td>\n",
       "      <td>2020-06-21</td>\n",
       "      <td>USD</td>\n",
       "      <td>1.17</td>\n",
       "      <td>2020-05-22</td>\n",
       "      <td>NAD5</td>\n",
       "      <td>1</td>\n",
       "      <td>NaN</td>\n",
       "    </tr>\n",
       "  </tbody>\n",
       "</table>\n",
       "<p>10000 rows × 13 columns</p>\n",
       "</div>"
      ],
      "text/plain": [
       "     business_code cust_number      name_customer clear_date  buisness_year  \\\n",
       "0             U001  0200769623         WAL-MAR in        NaT         2020.0   \n",
       "1             U001  0200806580         BE systems        NaT         2020.0   \n",
       "2             U001  0200769623      WAL-MAR trust        NaT         2020.0   \n",
       "3             U001  0200726979           BJ'S  us        NaT         2020.0   \n",
       "4             U001  0200014556  ALBER corporation        NaT         2020.0   \n",
       "...            ...         ...                ...        ...            ...   \n",
       "9995          U001  0200541916          VF G corp        NaT         2020.0   \n",
       "9996          U001  0200759878      SA associates        NaT         2020.0   \n",
       "9997          U001  0200915438    GROC foundation        NaT         2020.0   \n",
       "9998          CA02  0100027744        OMEGA AD in        NaT         2020.0   \n",
       "9999          U001  0200756072          REINHA us        NaT         2020.0   \n",
       "\n",
       "     document_create_date.1 due_in_date invoice_currency  total_open_amount  \\\n",
       "0                2020-02-27  2020-03-13              USD           32922.51   \n",
       "1                2020-02-27  2020-03-13              USD            4827.34   \n",
       "2                2020-02-27  2020-03-13              USD           14706.47   \n",
       "3                2020-02-27  2020-03-13              USD             413.83   \n",
       "4                2020-02-27  2020-05-02              USD           15651.65   \n",
       "...                     ...         ...              ...                ...   \n",
       "9995             2020-05-15  2020-05-30              USD           34301.32   \n",
       "9996             2020-05-17  2020-06-01              USD           22835.50   \n",
       "9997             2020-05-18  2020-06-02              USD            1232.00   \n",
       "9998             2020-05-19  2020-05-19              CAD            7035.00   \n",
       "9999             2020-05-22  2020-06-21              USD               1.17   \n",
       "\n",
       "     baseline_create_date cust_payment_terms  isOpen  delay  \n",
       "0              2020-02-27               NAH4       1    NaN  \n",
       "1              2020-02-27               NAA8       1    NaN  \n",
       "2              2020-02-27               NAH4       1    NaN  \n",
       "3              2020-02-27               NAA8       1    NaN  \n",
       "4              2020-02-27               NAGD       1    NaN  \n",
       "...                   ...                ...     ...    ...  \n",
       "9995           2020-05-15               NAA8       1    NaN  \n",
       "9996           2020-05-17               NAH4       1    NaN  \n",
       "9997           2020-05-18               NAA8       1    NaN  \n",
       "9998           2020-05-19               CAB1       1    NaN  \n",
       "9999           2020-05-22               NAD5       1    NaN  \n",
       "\n",
       "[10000 rows x 13 columns]"
      ]
     },
     "execution_count": 269,
     "metadata": {},
     "output_type": "execute_result"
    }
   ],
   "source": [
    "# As there were Total 10K NULL values in clear_date...we use this for test our dataset\n",
    "\n",
    "test_data = df[df.clear_date.isnull()].reset_index()\n",
    "test_data.drop(columns=['index'], inplace=True)\n",
    "test_data\n"
   ]
  },
  {
   "cell_type": "markdown",
   "metadata": {},
   "source": [
    "### Splitting Our test_data into x_test and y_test\n",
    "### x_test: will contain remaining columns (not delay column \n",
    "### y_test: will contain delay which is fully NULL"
   ]
  },
  {
   "cell_type": "code",
   "execution_count": 270,
   "metadata": {},
   "outputs": [],
   "source": [
    "ts = test_data.copy()"
   ]
  },
  {
   "cell_type": "code",
   "execution_count": 271,
   "metadata": {},
   "outputs": [
    {
     "name": "stdout",
     "output_type": "stream",
     "text": [
      "<class 'pandas.core.frame.DataFrame'>\n",
      "RangeIndex: 10000 entries, 0 to 9999\n",
      "Data columns (total 12 columns):\n",
      " #   Column                  Non-Null Count  Dtype         \n",
      "---  ------                  --------------  -----         \n",
      " 0   business_code           10000 non-null  object        \n",
      " 1   cust_number             10000 non-null  object        \n",
      " 2   name_customer           10000 non-null  object        \n",
      " 3   clear_date              0 non-null      datetime64[ns]\n",
      " 4   buisness_year           10000 non-null  float64       \n",
      " 5   document_create_date.1  10000 non-null  datetime64[ns]\n",
      " 6   due_in_date             10000 non-null  datetime64[ns]\n",
      " 7   invoice_currency        10000 non-null  object        \n",
      " 8   total_open_amount       10000 non-null  float64       \n",
      " 9   baseline_create_date    10000 non-null  datetime64[ns]\n",
      " 10  cust_payment_terms      10000 non-null  object        \n",
      " 11  isOpen                  10000 non-null  int64         \n",
      "dtypes: datetime64[ns](4), float64(2), int64(1), object(5)\n",
      "memory usage: 937.6+ KB\n"
     ]
    }
   ],
   "source": [
    "x_test = test_data.iloc[:, :-1].copy()\n",
    "x_test.info()\n"
   ]
  },
  {
   "cell_type": "code",
   "execution_count": 272,
   "metadata": {},
   "outputs": [
    {
     "name": "stdout",
     "output_type": "stream",
     "text": [
      "<class 'pandas.core.series.Series'>\n",
      "RangeIndex: 10000 entries, 0 to 9999\n",
      "Series name: delay\n",
      "Non-Null Count  Dtype  \n",
      "--------------  -----  \n",
      "0 non-null      float64\n",
      "dtypes: float64(1)\n",
      "memory usage: 78.2 KB\n"
     ]
    }
   ],
   "source": [
    "y_test = test_data[\"delay\"]\n",
    "y_test.info()\n"
   ]
  },
  {
   "cell_type": "markdown",
   "metadata": {},
   "source": [
    "### Creating a seprate data frame out of which we will extract val1, val2 and final train set.\n",
    "WHOLE DATA ---> [TRAIN_DATA + VAL1 (1.5 MONTHS) + VAL2 (1.5 MONTHS)] + TEST_DATA"
   ]
  },
  {
   "cell_type": "code",
   "execution_count": 273,
   "metadata": {},
   "outputs": [
    {
     "data": {
      "text/html": [
       "<div>\n",
       "<style scoped>\n",
       "    .dataframe tbody tr th:only-of-type {\n",
       "        vertical-align: middle;\n",
       "    }\n",
       "\n",
       "    .dataframe tbody tr th {\n",
       "        vertical-align: top;\n",
       "    }\n",
       "\n",
       "    .dataframe thead th {\n",
       "        text-align: right;\n",
       "    }\n",
       "</style>\n",
       "<table border=\"1\" class=\"dataframe\">\n",
       "  <thead>\n",
       "    <tr style=\"text-align: right;\">\n",
       "      <th></th>\n",
       "      <th>business_code</th>\n",
       "      <th>cust_number</th>\n",
       "      <th>name_customer</th>\n",
       "      <th>clear_date</th>\n",
       "      <th>buisness_year</th>\n",
       "      <th>document_create_date.1</th>\n",
       "      <th>due_in_date</th>\n",
       "      <th>invoice_currency</th>\n",
       "      <th>total_open_amount</th>\n",
       "      <th>baseline_create_date</th>\n",
       "      <th>cust_payment_terms</th>\n",
       "      <th>isOpen</th>\n",
       "      <th>delay</th>\n",
       "    </tr>\n",
       "  </thead>\n",
       "  <tbody>\n",
       "    <tr>\n",
       "      <th>0</th>\n",
       "      <td>U001</td>\n",
       "      <td>0200769623</td>\n",
       "      <td>WAL-MAR foundation</td>\n",
       "      <td>2019-01-09</td>\n",
       "      <td>2019.0</td>\n",
       "      <td>2018-12-30</td>\n",
       "      <td>2019-01-14</td>\n",
       "      <td>USD</td>\n",
       "      <td>14559.00</td>\n",
       "      <td>2018-12-30</td>\n",
       "      <td>NAH4</td>\n",
       "      <td>0</td>\n",
       "      <td>-5.0</td>\n",
       "    </tr>\n",
       "    <tr>\n",
       "      <th>1</th>\n",
       "      <td>U001</td>\n",
       "      <td>0200769623</td>\n",
       "      <td>WAL-MAR foundation</td>\n",
       "      <td>2019-01-09</td>\n",
       "      <td>2019.0</td>\n",
       "      <td>2018-12-30</td>\n",
       "      <td>2019-01-14</td>\n",
       "      <td>USD</td>\n",
       "      <td>25749.68</td>\n",
       "      <td>2018-12-30</td>\n",
       "      <td>NAH4</td>\n",
       "      <td>0</td>\n",
       "      <td>-5.0</td>\n",
       "    </tr>\n",
       "    <tr>\n",
       "      <th>2</th>\n",
       "      <td>U001</td>\n",
       "      <td>0200726979</td>\n",
       "      <td>BJ'S  systems</td>\n",
       "      <td>2019-01-15</td>\n",
       "      <td>2019.0</td>\n",
       "      <td>2018-12-30</td>\n",
       "      <td>2019-01-14</td>\n",
       "      <td>USD</td>\n",
       "      <td>58.18</td>\n",
       "      <td>2018-12-30</td>\n",
       "      <td>NAA8</td>\n",
       "      <td>0</td>\n",
       "      <td>1.0</td>\n",
       "    </tr>\n",
       "    <tr>\n",
       "      <th>3</th>\n",
       "      <td>U001</td>\n",
       "      <td>0200769623</td>\n",
       "      <td>WAL-MAR associates</td>\n",
       "      <td>2019-01-09</td>\n",
       "      <td>2019.0</td>\n",
       "      <td>2018-12-30</td>\n",
       "      <td>2019-01-14</td>\n",
       "      <td>USD</td>\n",
       "      <td>4890.99</td>\n",
       "      <td>2018-12-30</td>\n",
       "      <td>NAH4</td>\n",
       "      <td>0</td>\n",
       "      <td>-5.0</td>\n",
       "    </tr>\n",
       "    <tr>\n",
       "      <th>4</th>\n",
       "      <td>U001</td>\n",
       "      <td>0200769623</td>\n",
       "      <td>WAL-MAR associates</td>\n",
       "      <td>2019-01-15</td>\n",
       "      <td>2019.0</td>\n",
       "      <td>2018-12-30</td>\n",
       "      <td>2019-01-14</td>\n",
       "      <td>USD</td>\n",
       "      <td>9785.88</td>\n",
       "      <td>2018-12-30</td>\n",
       "      <td>NAH4</td>\n",
       "      <td>0</td>\n",
       "      <td>1.0</td>\n",
       "    </tr>\n",
       "    <tr>\n",
       "      <th>...</th>\n",
       "      <td>...</td>\n",
       "      <td>...</td>\n",
       "      <td>...</td>\n",
       "      <td>...</td>\n",
       "      <td>...</td>\n",
       "      <td>...</td>\n",
       "      <td>...</td>\n",
       "      <td>...</td>\n",
       "      <td>...</td>\n",
       "      <td>...</td>\n",
       "      <td>...</td>\n",
       "      <td>...</td>\n",
       "      <td>...</td>\n",
       "    </tr>\n",
       "    <tr>\n",
       "      <th>39989</th>\n",
       "      <td>U001</td>\n",
       "      <td>0200571849</td>\n",
       "      <td>US  in</td>\n",
       "      <td>2020-03-11</td>\n",
       "      <td>2020.0</td>\n",
       "      <td>2020-02-26</td>\n",
       "      <td>2020-03-12</td>\n",
       "      <td>USD</td>\n",
       "      <td>44450.82</td>\n",
       "      <td>2020-02-26</td>\n",
       "      <td>NAA8</td>\n",
       "      <td>0</td>\n",
       "      <td>-1.0</td>\n",
       "    </tr>\n",
       "    <tr>\n",
       "      <th>39990</th>\n",
       "      <td>U001</td>\n",
       "      <td>0200769623</td>\n",
       "      <td>WAL-MAR associates</td>\n",
       "      <td>2020-03-09</td>\n",
       "      <td>2020.0</td>\n",
       "      <td>2020-02-26</td>\n",
       "      <td>2020-03-12</td>\n",
       "      <td>USD</td>\n",
       "      <td>67471.47</td>\n",
       "      <td>2020-02-26</td>\n",
       "      <td>NAH4</td>\n",
       "      <td>0</td>\n",
       "      <td>-3.0</td>\n",
       "    </tr>\n",
       "    <tr>\n",
       "      <th>39991</th>\n",
       "      <td>U001</td>\n",
       "      <td>0200418007</td>\n",
       "      <td>AM associates</td>\n",
       "      <td>2020-03-19</td>\n",
       "      <td>2020.0</td>\n",
       "      <td>2020-02-27</td>\n",
       "      <td>2020-03-13</td>\n",
       "      <td>USD</td>\n",
       "      <td>10349.36</td>\n",
       "      <td>2020-02-27</td>\n",
       "      <td>NAA8</td>\n",
       "      <td>0</td>\n",
       "      <td>6.0</td>\n",
       "    </tr>\n",
       "    <tr>\n",
       "      <th>39992</th>\n",
       "      <td>U001</td>\n",
       "      <td>0200759878</td>\n",
       "      <td>SA corp</td>\n",
       "      <td>2020-03-13</td>\n",
       "      <td>2020.0</td>\n",
       "      <td>2020-02-27</td>\n",
       "      <td>2020-03-13</td>\n",
       "      <td>USD</td>\n",
       "      <td>49290.19</td>\n",
       "      <td>2020-02-27</td>\n",
       "      <td>NAH4</td>\n",
       "      <td>0</td>\n",
       "      <td>0.0</td>\n",
       "    </tr>\n",
       "    <tr>\n",
       "      <th>39993</th>\n",
       "      <td>U001</td>\n",
       "      <td>0200739044</td>\n",
       "      <td>PERFOR corporation</td>\n",
       "      <td>2020-03-16</td>\n",
       "      <td>2020.0</td>\n",
       "      <td>2020-02-27</td>\n",
       "      <td>2020-03-13</td>\n",
       "      <td>USD</td>\n",
       "      <td>25143.02</td>\n",
       "      <td>2020-02-27</td>\n",
       "      <td>NAA8</td>\n",
       "      <td>0</td>\n",
       "      <td>3.0</td>\n",
       "    </tr>\n",
       "  </tbody>\n",
       "</table>\n",
       "<p>39994 rows × 13 columns</p>\n",
       "</div>"
      ],
      "text/plain": [
       "      business_code cust_number       name_customer clear_date  buisness_year  \\\n",
       "0              U001  0200769623  WAL-MAR foundation 2019-01-09         2019.0   \n",
       "1              U001  0200769623  WAL-MAR foundation 2019-01-09         2019.0   \n",
       "2              U001  0200726979       BJ'S  systems 2019-01-15         2019.0   \n",
       "3              U001  0200769623  WAL-MAR associates 2019-01-09         2019.0   \n",
       "4              U001  0200769623  WAL-MAR associates 2019-01-15         2019.0   \n",
       "...             ...         ...                 ...        ...            ...   \n",
       "39989          U001  0200571849              US  in 2020-03-11         2020.0   \n",
       "39990          U001  0200769623  WAL-MAR associates 2020-03-09         2020.0   \n",
       "39991          U001  0200418007       AM associates 2020-03-19         2020.0   \n",
       "39992          U001  0200759878             SA corp 2020-03-13         2020.0   \n",
       "39993          U001  0200739044  PERFOR corporation 2020-03-16         2020.0   \n",
       "\n",
       "      document_create_date.1 due_in_date invoice_currency  total_open_amount  \\\n",
       "0                 2018-12-30  2019-01-14              USD           14559.00   \n",
       "1                 2018-12-30  2019-01-14              USD           25749.68   \n",
       "2                 2018-12-30  2019-01-14              USD              58.18   \n",
       "3                 2018-12-30  2019-01-14              USD            4890.99   \n",
       "4                 2018-12-30  2019-01-14              USD            9785.88   \n",
       "...                      ...         ...              ...                ...   \n",
       "39989             2020-02-26  2020-03-12              USD           44450.82   \n",
       "39990             2020-02-26  2020-03-12              USD           67471.47   \n",
       "39991             2020-02-27  2020-03-13              USD           10349.36   \n",
       "39992             2020-02-27  2020-03-13              USD           49290.19   \n",
       "39993             2020-02-27  2020-03-13              USD           25143.02   \n",
       "\n",
       "      baseline_create_date cust_payment_terms  isOpen  delay  \n",
       "0               2018-12-30               NAH4       0   -5.0  \n",
       "1               2018-12-30               NAH4       0   -5.0  \n",
       "2               2018-12-30               NAA8       0    1.0  \n",
       "3               2018-12-30               NAH4       0   -5.0  \n",
       "4               2018-12-30               NAH4       0    1.0  \n",
       "...                    ...                ...     ...    ...  \n",
       "39989           2020-02-26               NAA8       0   -1.0  \n",
       "39990           2020-02-26               NAH4       0   -3.0  \n",
       "39991           2020-02-27               NAA8       0    6.0  \n",
       "39992           2020-02-27               NAH4       0    0.0  \n",
       "39993           2020-02-27               NAA8       0    3.0  \n",
       "\n",
       "[39994 rows x 13 columns]"
      ]
     },
     "execution_count": 273,
     "metadata": {},
     "output_type": "execute_result"
    }
   ],
   "source": [
    "train_data2 = df[df.clear_date.notnull()].reset_index()\n",
    "# train set on non-null clear date\n",
    "train_data2.drop(columns=['index'], inplace=True)\n",
    "train_data2\n"
   ]
  },
  {
   "cell_type": "markdown",
   "metadata": {},
   "source": [
    "# Creating Dataframe For Val2\n",
    "#### using train_data2"
   ]
  },
  {
   "cell_type": "code",
   "execution_count": 274,
   "metadata": {},
   "outputs": [
    {
     "name": "stdout",
     "output_type": "stream",
     "text": [
      "2020-01-12 00:00:00\n",
      "2020-01-12 00:00:00\n",
      "35838\n"
     ]
    }
   ],
   "source": [
    "x = train_data2['document_create_date.1'].iloc[-1] - pd.DateOffset(months=1, days=15)\n",
    "\n",
    "''' Above line is calculating 1.5 months prior to last date\n",
    "    of ordered(ascending) document_create_date.1\n",
    "    That is 2020-02-27\n",
    "    so calculated value will be 2020-01-12 '''\n",
    "print(x)  # 2020-01-12\n",
    "\n",
    "y = train_data2['document_create_date.1'].loc[train_data2['document_create_date.1'] <= x].iloc[-1]\n",
    "\n",
    "''' This line is selecting last date from ordered document_create_date.1\n",
    "    which should be less than or equal to x ie. 2020-01-12\n",
    "    and unfortunately last date in ordered document_create_date.1 is \n",
    "    same as x (2020-01-12) '''\n",
    "print(y)  # 2020-01-12\n",
    "\n",
    "\n",
    "lastLocOfVal2 = train_data2['document_create_date.1'].loc[train_data2['document_create_date.1']  == y].last_valid_index()\n",
    "\n",
    "'''this line will print the last location of date which is equal\n",
    "    to y (2020-01-12) from ordered document_create_date.1 '''\n",
    "print(lastLocOfVal2)\n"
   ]
  },
  {
   "cell_type": "markdown",
   "metadata": {},
   "source": [
    "#### val2 will start from 2020-01-13 to 2020-02-27"
   ]
  },
  {
   "cell_type": "code",
   "execution_count": 275,
   "metadata": {},
   "outputs": [
    {
     "name": "stdout",
     "output_type": "stream",
     "text": [
      "<class 'pandas.core.frame.DataFrame'>\n",
      "RangeIndex: 4155 entries, 0 to 4154\n",
      "Data columns (total 13 columns):\n",
      " #   Column                  Non-Null Count  Dtype         \n",
      "---  ------                  --------------  -----         \n",
      " 0   business_code           4155 non-null   object        \n",
      " 1   cust_number             4155 non-null   object        \n",
      " 2   name_customer           4155 non-null   object        \n",
      " 3   clear_date              4155 non-null   datetime64[ns]\n",
      " 4   buisness_year           4155 non-null   float64       \n",
      " 5   document_create_date.1  4155 non-null   datetime64[ns]\n",
      " 6   due_in_date             4155 non-null   datetime64[ns]\n",
      " 7   invoice_currency        4155 non-null   object        \n",
      " 8   total_open_amount       4155 non-null   float64       \n",
      " 9   baseline_create_date    4155 non-null   datetime64[ns]\n",
      " 10  cust_payment_terms      4155 non-null   object        \n",
      " 11  isOpen                  4155 non-null   int64         \n",
      " 12  delay                   4155 non-null   float64       \n",
      "dtypes: datetime64[ns](4), float64(3), int64(1), object(5)\n",
      "memory usage: 422.1+ KB\n"
     ]
    }
   ],
   "source": [
    "# Dataframe For val2\n",
    "val2 = train_data2.iloc[lastLocOfVal2+1: , :].copy()\n",
    "val2.reset_index(drop=True,inplace=True)\n",
    "val2.info()"
   ]
  },
  {
   "cell_type": "markdown",
   "metadata": {},
   "source": [
    "### Removing val2 from train_data2 and storing into new dataframe say train_data1 to extract val1 from it"
   ]
  },
  {
   "cell_type": "code",
   "execution_count": 276,
   "metadata": {},
   "outputs": [
    {
     "name": "stdout",
     "output_type": "stream",
     "text": [
      "<class 'pandas.core.frame.DataFrame'>\n",
      "Int64Index: 34303 entries, 0 to 35838\n",
      "Data columns (total 13 columns):\n",
      " #   Column                  Non-Null Count  Dtype         \n",
      "---  ------                  --------------  -----         \n",
      " 0   business_code           34303 non-null  object        \n",
      " 1   cust_number             34303 non-null  object        \n",
      " 2   name_customer           34303 non-null  object        \n",
      " 3   clear_date              34303 non-null  datetime64[ns]\n",
      " 4   buisness_year           34303 non-null  float64       \n",
      " 5   document_create_date.1  34303 non-null  datetime64[ns]\n",
      " 6   due_in_date             34303 non-null  datetime64[ns]\n",
      " 7   invoice_currency        34303 non-null  object        \n",
      " 8   total_open_amount       34303 non-null  float64       \n",
      " 9   baseline_create_date    34303 non-null  datetime64[ns]\n",
      " 10  cust_payment_terms      34303 non-null  object        \n",
      " 11  isOpen                  34303 non-null  int64         \n",
      " 12  delay                   34303 non-null  float64       \n",
      "dtypes: datetime64[ns](4), float64(3), int64(1), object(5)\n",
      "memory usage: 3.7+ MB\n"
     ]
    }
   ],
   "source": [
    "train_data1 = pd.concat([train_data2, val2]).drop_duplicates(keep=False)\n",
    "train_data1.info()"
   ]
  },
  {
   "cell_type": "markdown",
   "metadata": {},
   "source": [
    "# Creating Dataframe For Val1\n",
    "#### using train_data1"
   ]
  },
  {
   "cell_type": "code",
   "execution_count": 277,
   "metadata": {},
   "outputs": [
    {
     "name": "stdout",
     "output_type": "stream",
     "text": [
      "2019-11-27 00:00:00\n",
      "2019-11-27 00:00:00\n",
      "32958\n"
     ]
    }
   ],
   "source": [
    "x2 = train_data1['document_create_date.1'].iloc[-1] - pd.DateOffset(months=1, days=15)\n",
    "\n",
    "''' Above line is calculating 1.5 months prior to last date\n",
    "    of ordered(ascending) document_create_date.1\n",
    "    That is 2020-01-12\n",
    "    so calculated value will be 2019-11-27'''\n",
    "print(x2) # 2019-11-27\n",
    "\n",
    "y2 = train_data1['document_create_date.1'].loc[train_data1['document_create_date.1'] <= x2].iloc[-1]\n",
    "\n",
    "''' This line is selecting last date from ordered document_create_date.1\n",
    "    which should be less than or equal to x2 ie. 2019-11-27\n",
    "    and unfortunately last date in ordered document_create_date.1 is \n",
    "    same as x2 (2019-11-27) '''\n",
    "print(y2) # 2019-11-27\n",
    "\n",
    "\n",
    "lastLocOfVal1 = train_data1['document_create_date.1'].loc[train_data1['document_create_date.1'] == y2].last_valid_index() \n",
    "\n",
    "'''this line will print the last location of date which is equal\n",
    "    to y2 (2019-11-27) from ordered document_create_date.1 '''\n",
    "print(lastLocOfVal1)"
   ]
  },
  {
   "cell_type": "markdown",
   "metadata": {},
   "source": [
    "#### val1 will start from 2019-11-28 to 2020-01-12."
   ]
  },
  {
   "cell_type": "code",
   "execution_count": 278,
   "metadata": {},
   "outputs": [
    {
     "name": "stdout",
     "output_type": "stream",
     "text": [
      "<class 'pandas.core.frame.DataFrame'>\n",
      "RangeIndex: 1345 entries, 0 to 1344\n",
      "Data columns (total 13 columns):\n",
      " #   Column                  Non-Null Count  Dtype         \n",
      "---  ------                  --------------  -----         \n",
      " 0   business_code           1345 non-null   object        \n",
      " 1   cust_number             1345 non-null   object        \n",
      " 2   name_customer           1345 non-null   object        \n",
      " 3   clear_date              1345 non-null   datetime64[ns]\n",
      " 4   buisness_year           1345 non-null   float64       \n",
      " 5   document_create_date.1  1345 non-null   datetime64[ns]\n",
      " 6   due_in_date             1345 non-null   datetime64[ns]\n",
      " 7   invoice_currency        1345 non-null   object        \n",
      " 8   total_open_amount       1345 non-null   float64       \n",
      " 9   baseline_create_date    1345 non-null   datetime64[ns]\n",
      " 10  cust_payment_terms      1345 non-null   object        \n",
      " 11  isOpen                  1345 non-null   int64         \n",
      " 12  delay                   1345 non-null   float64       \n",
      "dtypes: datetime64[ns](4), float64(3), int64(1), object(5)\n",
      "memory usage: 136.7+ KB\n"
     ]
    }
   ],
   "source": [
    "# Dataframe For val1\n",
    "val1 = train_data1.iloc[lastLocOfVal1: , :].copy()\n",
    "val1.reset_index(drop=True,inplace=True)\n",
    "val1.info()"
   ]
  },
  {
   "cell_type": "markdown",
   "metadata": {},
   "source": [
    "### Removing val1 from the dataframe and making the final train set."
   ]
  },
  {
   "cell_type": "code",
   "execution_count": 279,
   "metadata": {},
   "outputs": [
    {
     "name": "stdout",
     "output_type": "stream",
     "text": [
      "<class 'pandas.core.frame.DataFrame'>\n",
      "Int64Index: 32958 entries, 0 to 34443\n",
      "Data columns (total 13 columns):\n",
      " #   Column                  Non-Null Count  Dtype         \n",
      "---  ------                  --------------  -----         \n",
      " 0   business_code           32958 non-null  object        \n",
      " 1   cust_number             32958 non-null  object        \n",
      " 2   name_customer           32958 non-null  object        \n",
      " 3   clear_date              32958 non-null  datetime64[ns]\n",
      " 4   buisness_year           32958 non-null  float64       \n",
      " 5   document_create_date.1  32958 non-null  datetime64[ns]\n",
      " 6   due_in_date             32958 non-null  datetime64[ns]\n",
      " 7   invoice_currency        32958 non-null  object        \n",
      " 8   total_open_amount       32958 non-null  float64       \n",
      " 9   baseline_create_date    32958 non-null  datetime64[ns]\n",
      " 10  cust_payment_terms      32958 non-null  object        \n",
      " 11  isOpen                  32958 non-null  int64         \n",
      " 12  delay                   32958 non-null  float64       \n",
      "dtypes: datetime64[ns](4), float64(3), int64(1), object(5)\n",
      "memory usage: 3.5+ MB\n"
     ]
    }
   ],
   "source": [
    "train_data = pd.concat([train_data1, val1]).drop_duplicates(keep=False)\n",
    "train_data.info()"
   ]
  },
  {
   "cell_type": "markdown",
   "metadata": {},
   "source": [
    "### We successfully splitted the data into train, val1, val2, and test set."
   ]
  },
  {
   "cell_type": "markdown",
   "metadata": {},
   "source": [
    "# 1.6 EDA on Train data Set"
   ]
  },
  {
   "cell_type": "markdown",
   "metadata": {},
   "source": [
    "# UNIVARIATE ANALYSIS"
   ]
  },
  {
   "cell_type": "code",
   "execution_count": 280,
   "metadata": {},
   "outputs": [
    {
     "name": "stdout",
     "output_type": "stream",
     "text": [
      "<class 'pandas.core.frame.DataFrame'>\n",
      "Int64Index: 32958 entries, 0 to 34443\n",
      "Data columns (total 13 columns):\n",
      " #   Column                  Non-Null Count  Dtype         \n",
      "---  ------                  --------------  -----         \n",
      " 0   business_code           32958 non-null  object        \n",
      " 1   cust_number             32958 non-null  object        \n",
      " 2   name_customer           32958 non-null  object        \n",
      " 3   clear_date              32958 non-null  datetime64[ns]\n",
      " 4   buisness_year           32958 non-null  float64       \n",
      " 5   document_create_date.1  32958 non-null  datetime64[ns]\n",
      " 6   due_in_date             32958 non-null  datetime64[ns]\n",
      " 7   invoice_currency        32958 non-null  object        \n",
      " 8   total_open_amount       32958 non-null  float64       \n",
      " 9   baseline_create_date    32958 non-null  datetime64[ns]\n",
      " 10  cust_payment_terms      32958 non-null  object        \n",
      " 11  isOpen                  32958 non-null  int64         \n",
      " 12  delay                   32958 non-null  float64       \n",
      "dtypes: datetime64[ns](4), float64(3), int64(1), object(5)\n",
      "memory usage: 3.5+ MB\n"
     ]
    }
   ],
   "source": [
    "train_data.info()"
   ]
  },
  {
   "cell_type": "markdown",
   "metadata": {},
   "source": [
    "### There are No NULL values in out Dataset\n",
    "### There are only 3 continuous variable column:"
   ]
  },
  {
   "cell_type": "markdown",
   "metadata": {},
   "source": [
    "### 1] \"business_code\" : company code of the account"
   ]
  },
  {
   "cell_type": "code",
   "execution_count": 281,
   "metadata": {},
   "outputs": [
    {
     "data": {
      "text/plain": [
       "U001    29745\n",
       "CA02     2676\n",
       "U013      421\n",
       "U002      105\n",
       "U005        9\n",
       "U007        2\n",
       "Name: business_code, dtype: int64"
      ]
     },
     "execution_count": 281,
     "metadata": {},
     "output_type": "execute_result"
    }
   ],
   "source": [
    "train_data.business_code.value_counts()"
   ]
  },
  {
   "cell_type": "code",
   "execution_count": 282,
   "metadata": {},
   "outputs": [
    {
     "name": "stdout",
     "output_type": "stream",
     "text": [
      "Unique Buisness Code:  6\n"
     ]
    }
   ],
   "source": [
    "print(\"Unique Buisness Code: \",len(dict(train_data.business_code.value_counts())))"
   ]
  },
  {
   "cell_type": "code",
   "execution_count": 283,
   "metadata": {},
   "outputs": [
    {
     "data": {
      "text/plain": [
       "<AxesSubplot:xlabel='business_code', ylabel='count'>"
      ]
     },
     "execution_count": 283,
     "metadata": {},
     "output_type": "execute_result"
    },
    {
     "data": {
      "image/png": "[encoded data removed]",
      "text/plain": [
       "<Figure size 432x288 with 1 Axes>"
      ]
     },
     "metadata": {
      "needs_background": "light"
     },
     "output_type": "display_data"
    }
   ],
   "source": [
    "sns.countplot(x =train_data['business_code'])"
   ]
  },
  {
   "cell_type": "markdown",
   "metadata": {},
   "source": [
    "### 2] \"cust_number\" : customer number given to all the customers of the Account."
   ]
  },
  {
   "cell_type": "code",
   "execution_count": 284,
   "metadata": {},
   "outputs": [
    {
     "data": {
      "text/plain": [
       "0200769623    7292\n",
       "0200726979    1195\n",
       "0200762301     972\n",
       "0200759878     863\n",
       "0200794332     722\n",
       "              ... \n",
       "0200758531       1\n",
       "0100043885       1\n",
       "200792283        1\n",
       "0200943457       1\n",
       "0200739074       1\n",
       "Name: cust_number, Length: 1279, dtype: int64"
      ]
     },
     "execution_count": 284,
     "metadata": {},
     "output_type": "execute_result"
    }
   ],
   "source": [
    "train_data.cust_number.value_counts()"
   ]
  },
  {
   "cell_type": "code",
   "execution_count": 285,
   "metadata": {},
   "outputs": [
    {
     "name": "stdout",
     "output_type": "stream",
     "text": [
      "Unique Customers:  1279\n"
     ]
    }
   ],
   "source": [
    "print(\"Unique Customers: \",len(dict(train_data.cust_number.value_counts())))"
   ]
  },
  {
   "cell_type": "markdown",
   "metadata": {},
   "source": [
    "#### There are 1279 unique customers or comapny that we have transactions with.\n",
    "\n",
    "#### cust_number represent account no of different companies. For eg WAL-MAR has many varities that is WAL-MAR corporation, WAL-MAR systems etc but they have the same cust_number."
   ]
  },
  {
   "cell_type": "markdown",
   "metadata": {},
   "source": [
    "### 3] \"name_customer\" : name of the customer."
   ]
  },
  {
   "cell_type": "code",
   "execution_count": 286,
   "metadata": {},
   "outputs": [
    {
     "data": {
      "text/plain": [
       "WAL-MAR trust          781\n",
       "WAL-MAR                745\n",
       "WAL-MAR in             743\n",
       "WAL-MAR corporation    736\n",
       "WAL-MAR corp           735\n",
       "                      ... \n",
       "CHIHAD co                1\n",
       "MARTIN  trust            1\n",
       "SYSCO IN us              1\n",
       "GLOBA us                 1\n",
       "TFC us                   1\n",
       "Name: name_customer, Length: 3596, dtype: int64"
      ]
     },
     "execution_count": 286,
     "metadata": {},
     "output_type": "execute_result"
    }
   ],
   "source": [
    "train_data.name_customer.value_counts()"
   ]
  },
  {
   "cell_type": "code",
   "execution_count": 287,
   "metadata": {},
   "outputs": [
    {
     "name": "stdout",
     "output_type": "stream",
     "text": [
      "Unique Customer_Name:  3596\n"
     ]
    }
   ],
   "source": [
    "print(\"Unique Customer_Name: \",len(dict(train_data.name_customer.value_counts())))"
   ]
  },
  {
   "cell_type": "markdown",
   "metadata": {},
   "source": [
    "### 4] \"clear_date\" : The date on which the customer clears an invoice, or in simple terms, they make the full payment."
   ]
  },
  {
   "cell_type": "code",
   "execution_count": 288,
   "metadata": {},
   "outputs": [
    {
     "data": {
      "text/plain": [
       "Timestamp('2019-01-03 00:00:00')"
      ]
     },
     "execution_count": 288,
     "metadata": {},
     "output_type": "execute_result"
    }
   ],
   "source": [
    "train_data.clear_date.min()"
   ]
  },
  {
   "cell_type": "code",
   "execution_count": 289,
   "metadata": {},
   "outputs": [
    {
     "data": {
      "text/plain": [
       "Timestamp('2019-12-31 00:00:00')"
      ]
     },
     "execution_count": 289,
     "metadata": {},
     "output_type": "execute_result"
    }
   ],
   "source": [
    "train_data.clear_date.max()"
   ]
  },
  {
   "cell_type": "markdown",
   "metadata": {},
   "source": [
    "##### Our clear_date rangess from 362 days"
   ]
  },
  {
   "cell_type": "code",
   "execution_count": 290,
   "metadata": {},
   "outputs": [
    {
     "data": {
      "text/plain": [
       "Timedelta('362 days 00:00:00')"
      ]
     },
     "execution_count": 290,
     "metadata": {},
     "output_type": "execute_result"
    }
   ],
   "source": [
    "clear_date_range = train_data.clear_date.max() - train_data.clear_date.min()\n",
    "clear_date_range"
   ]
  },
  {
   "cell_type": "code",
   "execution_count": 291,
   "metadata": {},
   "outputs": [
    {
     "data": {
      "text/plain": [
       "5     3246\n",
       "4     3044\n",
       "10    3008\n",
       "11    2981\n",
       "8     2944\n",
       "7     2927\n",
       "3     2849\n",
       "12    2813\n",
       "9     2798\n",
       "6     2679\n",
       "2     2379\n",
       "1     1290\n",
       "Name: clear_date, dtype: int64"
      ]
     },
     "execution_count": 291,
     "metadata": {},
     "output_type": "execute_result"
    }
   ],
   "source": [
    "clear_month = train_data.clear_date.dt.month\n",
    "clear_month.value_counts()"
   ]
  },
  {
   "cell_type": "markdown",
   "metadata": {},
   "source": [
    "#### May is the month where the companies completed their maximum transations."
   ]
  },
  {
   "cell_type": "code",
   "execution_count": 292,
   "metadata": {},
   "outputs": [
    {
     "data": {
      "text/plain": [
       "<AxesSubplot:xlabel='clear_date', ylabel='count'>"
      ]
     },
     "execution_count": 292,
     "metadata": {},
     "output_type": "execute_result"
    },
    {
     "data": {
      "image/png": "[encoded data removed]",
      "text/plain": [
       "<Figure size 432x288 with 1 Axes>"
      ]
     },
     "metadata": {
      "needs_background": "light"
     },
     "output_type": "display_data"
    }
   ],
   "source": [
    "sns.countplot(x=clear_month, palette=\"hls\")"
   ]
  },
  {
   "cell_type": "markdown",
   "metadata": {},
   "source": [
    "### 5] \"buisness_year\" : indicates the year of clear date"
   ]
  },
  {
   "cell_type": "code",
   "execution_count": 293,
   "metadata": {},
   "outputs": [
    {
     "data": {
      "text/plain": [
       "2019.0    32958\n",
       "Name: buisness_year, dtype: int64"
      ]
     },
     "execution_count": 293,
     "metadata": {},
     "output_type": "execute_result"
    }
   ],
   "source": [
    "train_data.buisness_year.value_counts()"
   ]
  },
  {
   "cell_type": "markdown",
   "metadata": {},
   "source": [
    "### 6] \"document_create_date.1\" : The date on which the invoice document was created"
   ]
  },
  {
   "cell_type": "code",
   "execution_count": 294,
   "metadata": {},
   "outputs": [
    {
     "data": {
      "text/plain": [
       "Timestamp('2018-12-30 00:00:00')"
      ]
     },
     "execution_count": 294,
     "metadata": {},
     "output_type": "execute_result"
    }
   ],
   "source": [
    "train_data[\"document_create_date.1\"].min()"
   ]
  },
  {
   "cell_type": "code",
   "execution_count": 295,
   "metadata": {},
   "outputs": [
    {
     "data": {
      "text/plain": [
       "Timestamp('2019-12-15 00:00:00')"
      ]
     },
     "execution_count": 295,
     "metadata": {},
     "output_type": "execute_result"
    }
   ],
   "source": [
    "train_data[\"document_create_date.1\"].max()"
   ]
  },
  {
   "cell_type": "markdown",
   "metadata": {},
   "source": [
    "#### It ranges for 350 days, almost less than a year"
   ]
  },
  {
   "cell_type": "code",
   "execution_count": 296,
   "metadata": {},
   "outputs": [
    {
     "data": {
      "text/plain": [
       "Timedelta('350 days 00:00:00')"
      ]
     },
     "execution_count": 296,
     "metadata": {},
     "output_type": "execute_result"
    }
   ],
   "source": [
    "document_create_date_1_range = train_data[\"document_create_date.1\"].max() - train_data[\"document_create_date.1\"].min()\n",
    "document_create_date_1_range"
   ]
  },
  {
   "cell_type": "markdown",
   "metadata": {},
   "source": [
    "### 7] \"invoice_currency\" : The currency of the invoice amount in the document for the invoice"
   ]
  },
  {
   "cell_type": "code",
   "execution_count": 297,
   "metadata": {},
   "outputs": [
    {
     "data": {
      "text/plain": [
       "USD    30280\n",
       "CAD     2678\n",
       "Name: invoice_currency, dtype: int64"
      ]
     },
     "execution_count": 297,
     "metadata": {},
     "output_type": "execute_result"
    }
   ],
   "source": [
    "train_data[\"invoice_currency\"].value_counts()"
   ]
  },
  {
   "cell_type": "markdown",
   "metadata": {},
   "source": [
    "##### As there are two currencies involved, we can convert either one them. However, as there is not much difference between USD and CAD, there is not much use of converting them."
   ]
  },
  {
   "cell_type": "markdown",
   "metadata": {},
   "source": [
    "### 8] \"total_open_amount\" : The amount that is yet to be paid for that invoice"
   ]
  },
  {
   "cell_type": "code",
   "execution_count": 298,
   "metadata": {},
   "outputs": [
    {
     "data": {
      "text/plain": [
       "count     32958.000000\n",
       "mean      32192.198099\n",
       "std       39984.661856\n",
       "min           0.790000\n",
       "25%        4688.977500\n",
       "50%       17238.615000\n",
       "75%       46542.090000\n",
       "max      668593.360000\n",
       "Name: total_open_amount, dtype: object"
      ]
     },
     "execution_count": 298,
     "metadata": {},
     "output_type": "execute_result"
    }
   ],
   "source": [
    "train_data['total_open_amount'].describe().apply(lambda x: format(x,'f'))"
   ]
  },
  {
   "cell_type": "markdown",
   "metadata": {},
   "source": [
    "### Automatically binning the amount using pd.qcut."
   ]
  },
  {
   "cell_type": "code",
   "execution_count": 299,
   "metadata": {},
   "outputs": [
    {
     "data": {
      "text/plain": [
       "(0.789, 828.458]          3296\n",
       "(828.458, 2945.162]       3296\n",
       "(2945.162, 6981.297]      3296\n",
       "(12783.288, 17238.615]    3296\n",
       "(17238.615, 25411.306]    3296\n",
       "(39300.594, 54979.266]    3296\n",
       "(54979.266, 82017.985]    3296\n",
       "(82017.985, 668593.36]    3296\n",
       "(6981.297, 12783.288]     3295\n",
       "(25411.306, 39300.594]    3295\n",
       "Name: total_open_amount, dtype: int64"
      ]
     },
     "execution_count": 299,
     "metadata": {},
     "output_type": "execute_result"
    }
   ],
   "source": [
    "open_amount_bins = pd.qcut(train_data['total_open_amount'],q=10)\n",
    "open_amount_bins.value_counts()"
   ]
  },
  {
   "cell_type": "code",
   "execution_count": 300,
   "metadata": {},
   "outputs": [],
   "source": [
    "amount_bins = [0,5000,10000,50000,100000,1100000]\n",
    "new_open_amount_bin = pd.cut(train_data['total_open_amount'], bins = amount_bins)"
   ]
  },
  {
   "cell_type": "code",
   "execution_count": 301,
   "metadata": {},
   "outputs": [
    {
     "data": {
      "text/plain": [
       "<AxesSubplot:xlabel='total_open_amount', ylabel='count'>"
      ]
     },
     "execution_count": 301,
     "metadata": {},
     "output_type": "execute_result"
    },
    {
     "data": {
      "image/png": "[encoded data removed]",
      "text/plain": [
       "<Figure size 432x288 with 1 Axes>"
      ]
     },
     "metadata": {
      "needs_background": "light"
     },
     "output_type": "display_data"
    }
   ],
   "source": [
    "plt.xticks(fontsize=10, rotation=90)\n",
    "sns.countplot(x=open_amount_bins, palette=\"hls\")"
   ]
  },
  {
   "cell_type": "markdown",
   "metadata": {},
   "source": [
    "### 9] \"baseline_create_date\" : The date on which the Invoice was created."
   ]
  },
  {
   "cell_type": "code",
   "execution_count": 302,
   "metadata": {},
   "outputs": [
    {
     "data": {
      "text/html": [
       "<div>\n",
       "<style scoped>\n",
       "    .dataframe tbody tr th:only-of-type {\n",
       "        vertical-align: middle;\n",
       "    }\n",
       "\n",
       "    .dataframe tbody tr th {\n",
       "        vertical-align: top;\n",
       "    }\n",
       "\n",
       "    .dataframe thead th {\n",
       "        text-align: right;\n",
       "    }\n",
       "</style>\n",
       "<table border=\"1\" class=\"dataframe\">\n",
       "  <thead>\n",
       "    <tr style=\"text-align: right;\">\n",
       "      <th></th>\n",
       "      <th>business_code</th>\n",
       "      <th>cust_number</th>\n",
       "      <th>name_customer</th>\n",
       "      <th>clear_date</th>\n",
       "      <th>buisness_year</th>\n",
       "      <th>document_create_date.1</th>\n",
       "      <th>due_in_date</th>\n",
       "      <th>invoice_currency</th>\n",
       "      <th>total_open_amount</th>\n",
       "      <th>baseline_create_date</th>\n",
       "      <th>cust_payment_terms</th>\n",
       "      <th>isOpen</th>\n",
       "      <th>delay</th>\n",
       "    </tr>\n",
       "  </thead>\n",
       "  <tbody>\n",
       "    <tr>\n",
       "      <th>30</th>\n",
       "      <td>CA02</td>\n",
       "      <td>0140106181</td>\n",
       "      <td>THE  corp</td>\n",
       "      <td>2019-05-01</td>\n",
       "      <td>2019.0</td>\n",
       "      <td>2018-12-30</td>\n",
       "      <td>2019-01-10</td>\n",
       "      <td>CAD</td>\n",
       "      <td>117723.35</td>\n",
       "      <td>2018-12-31</td>\n",
       "      <td>CA10</td>\n",
       "      <td>0</td>\n",
       "      <td>111.0</td>\n",
       "    </tr>\n",
       "    <tr>\n",
       "      <th>92</th>\n",
       "      <td>CA02</td>\n",
       "      <td>0140104423</td>\n",
       "      <td>METRO</td>\n",
       "      <td>2019-01-18</td>\n",
       "      <td>2019.0</td>\n",
       "      <td>2018-12-31</td>\n",
       "      <td>2019-01-12</td>\n",
       "      <td>CAD</td>\n",
       "      <td>71231.97</td>\n",
       "      <td>2019-01-02</td>\n",
       "      <td>CA10</td>\n",
       "      <td>0</td>\n",
       "      <td>6.0</td>\n",
       "    </tr>\n",
       "    <tr>\n",
       "      <th>127</th>\n",
       "      <td>CA02</td>\n",
       "      <td>0140104340</td>\n",
       "      <td>COLABOR  systems</td>\n",
       "      <td>2019-01-17</td>\n",
       "      <td>2019.0</td>\n",
       "      <td>2018-12-31</td>\n",
       "      <td>2019-01-13</td>\n",
       "      <td>CAD</td>\n",
       "      <td>1824.47</td>\n",
       "      <td>2019-01-03</td>\n",
       "      <td>CA10</td>\n",
       "      <td>0</td>\n",
       "      <td>4.0</td>\n",
       "    </tr>\n",
       "    <tr>\n",
       "      <th>167</th>\n",
       "      <td>CA02</td>\n",
       "      <td>0140105785</td>\n",
       "      <td>SHOPPE trust</td>\n",
       "      <td>2019-01-25</td>\n",
       "      <td>2019.0</td>\n",
       "      <td>2019-01-02</td>\n",
       "      <td>2019-01-21</td>\n",
       "      <td>CAD</td>\n",
       "      <td>45710.70</td>\n",
       "      <td>2019-01-11</td>\n",
       "      <td>CA10</td>\n",
       "      <td>0</td>\n",
       "      <td>4.0</td>\n",
       "    </tr>\n",
       "    <tr>\n",
       "      <th>169</th>\n",
       "      <td>CA02</td>\n",
       "      <td>0140104409</td>\n",
       "      <td>LOB corp</td>\n",
       "      <td>2019-01-18</td>\n",
       "      <td>2019.0</td>\n",
       "      <td>2019-01-02</td>\n",
       "      <td>2019-01-14</td>\n",
       "      <td>CAD</td>\n",
       "      <td>259891.02</td>\n",
       "      <td>2019-01-04</td>\n",
       "      <td>CA10</td>\n",
       "      <td>0</td>\n",
       "      <td>4.0</td>\n",
       "    </tr>\n",
       "    <tr>\n",
       "      <th>...</th>\n",
       "      <td>...</td>\n",
       "      <td>...</td>\n",
       "      <td>...</td>\n",
       "      <td>...</td>\n",
       "      <td>...</td>\n",
       "      <td>...</td>\n",
       "      <td>...</td>\n",
       "      <td>...</td>\n",
       "      <td>...</td>\n",
       "      <td>...</td>\n",
       "      <td>...</td>\n",
       "      <td>...</td>\n",
       "      <td>...</td>\n",
       "    </tr>\n",
       "    <tr>\n",
       "      <th>34343</th>\n",
       "      <td>CA02</td>\n",
       "      <td>0140104240</td>\n",
       "      <td>FEDER trust</td>\n",
       "      <td>2019-12-30</td>\n",
       "      <td>2019.0</td>\n",
       "      <td>2019-12-13</td>\n",
       "      <td>2019-12-29</td>\n",
       "      <td>CAD</td>\n",
       "      <td>174769.75</td>\n",
       "      <td>2019-12-19</td>\n",
       "      <td>CA10</td>\n",
       "      <td>0</td>\n",
       "      <td>1.0</td>\n",
       "    </tr>\n",
       "    <tr>\n",
       "      <th>34353</th>\n",
       "      <td>CA02</td>\n",
       "      <td>0140104440</td>\n",
       "      <td>SO associates</td>\n",
       "      <td>2019-12-31</td>\n",
       "      <td>2019.0</td>\n",
       "      <td>2019-12-13</td>\n",
       "      <td>2019-12-27</td>\n",
       "      <td>CAD</td>\n",
       "      <td>16832.57</td>\n",
       "      <td>2019-12-17</td>\n",
       "      <td>CA10</td>\n",
       "      <td>0</td>\n",
       "      <td>4.0</td>\n",
       "    </tr>\n",
       "    <tr>\n",
       "      <th>34404</th>\n",
       "      <td>CA02</td>\n",
       "      <td>0140104423</td>\n",
       "      <td>METRO  corp</td>\n",
       "      <td>2019-12-24</td>\n",
       "      <td>2019.0</td>\n",
       "      <td>2019-12-14</td>\n",
       "      <td>2019-12-26</td>\n",
       "      <td>CAD</td>\n",
       "      <td>285167.16</td>\n",
       "      <td>2019-12-16</td>\n",
       "      <td>CA10</td>\n",
       "      <td>0</td>\n",
       "      <td>-2.0</td>\n",
       "    </tr>\n",
       "    <tr>\n",
       "      <th>34437</th>\n",
       "      <td>CA02</td>\n",
       "      <td>0140106408</td>\n",
       "      <td>WAL-M us</td>\n",
       "      <td>2019-12-30</td>\n",
       "      <td>2019.0</td>\n",
       "      <td>2019-12-15</td>\n",
       "      <td>2019-12-26</td>\n",
       "      <td>CAD</td>\n",
       "      <td>119903.42</td>\n",
       "      <td>2019-12-16</td>\n",
       "      <td>CA10</td>\n",
       "      <td>0</td>\n",
       "      <td>4.0</td>\n",
       "    </tr>\n",
       "    <tr>\n",
       "      <th>34438</th>\n",
       "      <td>CA02</td>\n",
       "      <td>0140104429</td>\n",
       "      <td>COSTCO associates</td>\n",
       "      <td>2019-12-31</td>\n",
       "      <td>2019.0</td>\n",
       "      <td>2019-12-15</td>\n",
       "      <td>2019-12-26</td>\n",
       "      <td>CAD</td>\n",
       "      <td>43603.27</td>\n",
       "      <td>2019-12-16</td>\n",
       "      <td>CA10</td>\n",
       "      <td>0</td>\n",
       "      <td>5.0</td>\n",
       "    </tr>\n",
       "  </tbody>\n",
       "</table>\n",
       "<p>3692 rows × 13 columns</p>\n",
       "</div>"
      ],
      "text/plain": [
       "      business_code cust_number      name_customer clear_date  buisness_year  \\\n",
       "30             CA02  0140106181          THE  corp 2019-05-01         2019.0   \n",
       "92             CA02  0140104423            METRO   2019-01-18         2019.0   \n",
       "127            CA02  0140104340   COLABOR  systems 2019-01-17         2019.0   \n",
       "167            CA02  0140105785       SHOPPE trust 2019-01-25         2019.0   \n",
       "169            CA02  0140104409           LOB corp 2019-01-18         2019.0   \n",
       "...             ...         ...                ...        ...            ...   \n",
       "34343          CA02  0140104240        FEDER trust 2019-12-30         2019.0   \n",
       "34353          CA02  0140104440      SO associates 2019-12-31         2019.0   \n",
       "34404          CA02  0140104423        METRO  corp 2019-12-24         2019.0   \n",
       "34437          CA02  0140106408           WAL-M us 2019-12-30         2019.0   \n",
       "34438          CA02  0140104429  COSTCO associates 2019-12-31         2019.0   \n",
       "\n",
       "      document_create_date.1 due_in_date invoice_currency  total_open_amount  \\\n",
       "30                2018-12-30  2019-01-10              CAD          117723.35   \n",
       "92                2018-12-31  2019-01-12              CAD           71231.97   \n",
       "127               2018-12-31  2019-01-13              CAD            1824.47   \n",
       "167               2019-01-02  2019-01-21              CAD           45710.70   \n",
       "169               2019-01-02  2019-01-14              CAD          259891.02   \n",
       "...                      ...         ...              ...                ...   \n",
       "34343             2019-12-13  2019-12-29              CAD          174769.75   \n",
       "34353             2019-12-13  2019-12-27              CAD           16832.57   \n",
       "34404             2019-12-14  2019-12-26              CAD          285167.16   \n",
       "34437             2019-12-15  2019-12-26              CAD          119903.42   \n",
       "34438             2019-12-15  2019-12-26              CAD           43603.27   \n",
       "\n",
       "      baseline_create_date cust_payment_terms  isOpen  delay  \n",
       "30              2018-12-31               CA10       0  111.0  \n",
       "92              2019-01-02               CA10       0    6.0  \n",
       "127             2019-01-03               CA10       0    4.0  \n",
       "167             2019-01-11               CA10       0    4.0  \n",
       "169             2019-01-04               CA10       0    4.0  \n",
       "...                    ...                ...     ...    ...  \n",
       "34343           2019-12-19               CA10       0    1.0  \n",
       "34353           2019-12-17               CA10       0    4.0  \n",
       "34404           2019-12-16               CA10       0   -2.0  \n",
       "34437           2019-12-16               CA10       0    4.0  \n",
       "34438           2019-12-16               CA10       0    5.0  \n",
       "\n",
       "[3692 rows x 13 columns]"
      ]
     },
     "execution_count": 302,
     "metadata": {},
     "output_type": "execute_result"
    }
   ],
   "source": [
    "train_data.loc[train_data[\"document_create_date.1\"]!=train_data[\"baseline_create_date\"]]"
   ]
  },
  {
   "cell_type": "markdown",
   "metadata": {},
   "source": [
    "#### Baseline create date and document create date are same except if the company is canadian there is a delay in filing the document and creating an invoice. \n",
    "#### It's not that important to our model so we'll drop it."
   ]
  },
  {
   "cell_type": "markdown",
   "metadata": {},
   "source": [
    "### 10] \"cust_payment_terms\" : Business terms and agreements between customers and accounts on discounts and days of payment."
   ]
  },
  {
   "cell_type": "markdown",
   "metadata": {},
   "source": [
    "#### It is same as cust_number."
   ]
  },
  {
   "cell_type": "code",
   "execution_count": 303,
   "metadata": {},
   "outputs": [
    {
     "data": {
      "text/plain": [
       "NAA8    13176\n",
       "NAH4     8719\n",
       "CA10     2591\n",
       "NAC6     1099\n",
       "NAM4      870\n",
       "        ...  \n",
       "NAUW        1\n",
       "NAD8        1\n",
       "NABD        1\n",
       "NAUY        1\n",
       "CA60        1\n",
       "Name: cust_payment_terms, Length: 69, dtype: int64"
      ]
     },
     "execution_count": 303,
     "metadata": {},
     "output_type": "execute_result"
    }
   ],
   "source": [
    "train_data.cust_payment_terms.value_counts()"
   ]
  },
  {
   "cell_type": "code",
   "execution_count": 304,
   "metadata": {},
   "outputs": [
    {
     "data": {
      "text/plain": [
       "1279"
      ]
     },
     "execution_count": 304,
     "metadata": {},
     "output_type": "execute_result"
    }
   ],
   "source": [
    "len(dict(train_data.cust_number.value_counts()))"
   ]
  },
  {
   "cell_type": "markdown",
   "metadata": {},
   "source": [
    "### 11] \"isOpen\" : Tells whether a transaction is open or closed"
   ]
  },
  {
   "cell_type": "code",
   "execution_count": 305,
   "metadata": {},
   "outputs": [
    {
     "data": {
      "text/plain": [
       "0    32958\n",
       "Name: isOpen, dtype: int64"
      ]
     },
     "execution_count": 305,
     "metadata": {},
     "output_type": "execute_result"
    }
   ],
   "source": [
    "train_data.isOpen.value_counts()"
   ]
  },
  {
   "cell_type": "markdown",
   "metadata": {},
   "source": [
    "#### isOpen is 0 for all the train set as all the invoices has been closed. So we can drop this column."
   ]
  },
  {
   "cell_type": "markdown",
   "metadata": {},
   "source": [
    "### 12] \"Delay\" : The negative delay specifies that the amount was cleared before the due date and thus there was no delay. Therefore we have capped the negative values to 0."
   ]
  },
  {
   "cell_type": "code",
   "execution_count": 306,
   "metadata": {},
   "outputs": [
    {
     "data": {
      "text/plain": [
       "12051"
      ]
     },
     "execution_count": 306,
     "metadata": {},
     "output_type": "execute_result"
    }
   ],
   "source": [
    "train_data.delay[train_data.delay<0].count()"
   ]
  },
  {
   "cell_type": "code",
   "execution_count": 307,
   "metadata": {},
   "outputs": [
    {
     "data": {
      "text/plain": [
       "0"
      ]
     },
     "execution_count": 307,
     "metadata": {},
     "output_type": "execute_result"
    }
   ],
   "source": [
    "train_data['delay']=train_data.delay.apply(lambda x: 0 if x<0 else x)\n",
    "# Converting All the early payment (before due date) will set to Zero \n",
    "# Means no delay.\n",
    "train_data.delay[train_data.delay<0].count()"
   ]
  },
  {
   "cell_type": "code",
   "execution_count": 308,
   "metadata": {},
   "outputs": [
    {
     "data": {
      "text/plain": [
       "count    32958.000000\n",
       "mean         2.722131\n",
       "std          9.143224\n",
       "min          0.000000\n",
       "25%          0.000000\n",
       "50%          0.000000\n",
       "75%          2.000000\n",
       "max        204.000000\n",
       "Name: delay, dtype: float64"
      ]
     },
     "execution_count": 308,
     "metadata": {},
     "output_type": "execute_result"
    }
   ],
   "source": [
    "train_data.delay.describe()"
   ]
  },
  {
   "cell_type": "markdown",
   "metadata": {},
   "source": [
    "# MULTIVARIATE ANALYSIS"
   ]
  },
  {
   "cell_type": "markdown",
   "metadata": {},
   "source": [
    "## 1] Relation b/w \"business_code\" with \"invoice_currency\"."
   ]
  },
  {
   "cell_type": "code",
   "execution_count": 309,
   "metadata": {},
   "outputs": [
    {
     "data": {
      "text/plain": [
       "USD    30280\n",
       "CAD     2678\n",
       "Name: invoice_currency, dtype: int64"
      ]
     },
     "execution_count": 309,
     "metadata": {},
     "output_type": "execute_result"
    }
   ],
   "source": [
    "train_data['invoice_currency'].value_counts()"
   ]
  },
  {
   "cell_type": "code",
   "execution_count": 310,
   "metadata": {},
   "outputs": [
    {
     "data": {
      "text/plain": [
       "business_code  invoice_currency\n",
       "CA02           CAD                  2676\n",
       "U001           USD                 29745\n",
       "U002           USD                   105\n",
       "U005           USD                     9\n",
       "U007           USD                     2\n",
       "U013           USD                   419\n",
       "               CAD                     2\n",
       "Name: invoice_currency, dtype: int64"
      ]
     },
     "execution_count": 310,
     "metadata": {},
     "output_type": "execute_result"
    }
   ],
   "source": [
    "train_data.groupby(\"business_code\").invoice_currency.value_counts()"
   ]
  },
  {
   "cell_type": "markdown",
   "metadata": {},
   "source": [
    "### We see that business code first letter describes in which currency the transaction took place except for 2 entries. Let's explore them further"
   ]
  },
  {
   "cell_type": "code",
   "execution_count": 311,
   "metadata": {},
   "outputs": [
    {
     "data": {
      "text/plain": [
       "invoice_currency  business_code\n",
       "CAD               CA02              2676\n",
       "                  U013                 2\n",
       "USD               U001             29745\n",
       "                  U013               419\n",
       "                  U002               105\n",
       "                  U005                 9\n",
       "                  U007                 2\n",
       "Name: business_code, dtype: int64"
      ]
     },
     "execution_count": 311,
     "metadata": {},
     "output_type": "execute_result"
    }
   ],
   "source": [
    "train_data.groupby(\"invoice_currency\").business_code.value_counts()"
   ]
  },
  {
   "cell_type": "markdown",
   "metadata": {},
   "source": [
    "#### business_code U013 is an US based company but paying in CAD"
   ]
  },
  {
   "cell_type": "code",
   "execution_count": 312,
   "metadata": {},
   "outputs": [
    {
     "data": {
      "text/html": [
       "<div>\n",
       "<style scoped>\n",
       "    .dataframe tbody tr th:only-of-type {\n",
       "        vertical-align: middle;\n",
       "    }\n",
       "\n",
       "    .dataframe tbody tr th {\n",
       "        vertical-align: top;\n",
       "    }\n",
       "\n",
       "    .dataframe thead th {\n",
       "        text-align: right;\n",
       "    }\n",
       "</style>\n",
       "<table border=\"1\" class=\"dataframe\">\n",
       "  <thead>\n",
       "    <tr style=\"text-align: right;\">\n",
       "      <th></th>\n",
       "      <th>business_code</th>\n",
       "      <th>cust_number</th>\n",
       "      <th>name_customer</th>\n",
       "      <th>clear_date</th>\n",
       "      <th>buisness_year</th>\n",
       "      <th>document_create_date.1</th>\n",
       "      <th>due_in_date</th>\n",
       "      <th>invoice_currency</th>\n",
       "      <th>total_open_amount</th>\n",
       "      <th>baseline_create_date</th>\n",
       "      <th>cust_payment_terms</th>\n",
       "      <th>isOpen</th>\n",
       "      <th>delay</th>\n",
       "    </tr>\n",
       "  </thead>\n",
       "  <tbody>\n",
       "    <tr>\n",
       "      <th>704</th>\n",
       "      <td>U013</td>\n",
       "      <td>0100052318</td>\n",
       "      <td>PRATT' systems</td>\n",
       "      <td>2019-02-23</td>\n",
       "      <td>2019.0</td>\n",
       "      <td>2019-01-08</td>\n",
       "      <td>2019-02-07</td>\n",
       "      <td>CAD</td>\n",
       "      <td>3880.79</td>\n",
       "      <td>2019-01-08</td>\n",
       "      <td>NAVE</td>\n",
       "      <td>0</td>\n",
       "      <td>16.0</td>\n",
       "    </tr>\n",
       "    <tr>\n",
       "      <th>32790</th>\n",
       "      <td>U013</td>\n",
       "      <td>0100052318</td>\n",
       "      <td>PRATT' co</td>\n",
       "      <td>2019-12-24</td>\n",
       "      <td>2019.0</td>\n",
       "      <td>2019-11-26</td>\n",
       "      <td>2019-12-26</td>\n",
       "      <td>CAD</td>\n",
       "      <td>3373.05</td>\n",
       "      <td>2019-11-26</td>\n",
       "      <td>NAVE</td>\n",
       "      <td>0</td>\n",
       "      <td>0.0</td>\n",
       "    </tr>\n",
       "  </tbody>\n",
       "</table>\n",
       "</div>"
      ],
      "text/plain": [
       "      business_code cust_number   name_customer clear_date  buisness_year  \\\n",
       "704            U013  0100052318  PRATT' systems 2019-02-23         2019.0   \n",
       "32790          U013  0100052318       PRATT' co 2019-12-24         2019.0   \n",
       "\n",
       "      document_create_date.1 due_in_date invoice_currency  total_open_amount  \\\n",
       "704               2019-01-08  2019-02-07              CAD            3880.79   \n",
       "32790             2019-11-26  2019-12-26              CAD            3373.05   \n",
       "\n",
       "      baseline_create_date cust_payment_terms  isOpen  delay  \n",
       "704             2019-01-08               NAVE       0   16.0  \n",
       "32790           2019-11-26               NAVE       0    0.0  "
      ]
     },
     "execution_count": 312,
     "metadata": {},
     "output_type": "execute_result"
    }
   ],
   "source": [
    "temp = train_data.loc[train_data['business_code'] == 'U013']\n",
    "temp.loc[temp['invoice_currency']=='CAD']"
   ]
  },
  {
   "cell_type": "markdown",
   "metadata": {},
   "source": [
    "#### We see that only PRATT company is the only US based company paying in CAD.\n",
    "\n",
    "#### Morever they are only 2 transactions so it's not as significant. They don't even have any delay so this won't affect our model."
   ]
  },
  {
   "cell_type": "markdown",
   "metadata": {},
   "source": [
    "## 2] Relation between \"total_open_amount\" and \"delay\""
   ]
  },
  {
   "cell_type": "code",
   "execution_count": 313,
   "metadata": {},
   "outputs": [
    {
     "data": {
      "text/html": [
       "<div>\n",
       "<style scoped>\n",
       "    .dataframe tbody tr th:only-of-type {\n",
       "        vertical-align: middle;\n",
       "    }\n",
       "\n",
       "    .dataframe tbody tr th {\n",
       "        vertical-align: top;\n",
       "    }\n",
       "\n",
       "    .dataframe thead th {\n",
       "        text-align: right;\n",
       "    }\n",
       "</style>\n",
       "<table border=\"1\" class=\"dataframe\">\n",
       "  <thead>\n",
       "    <tr style=\"text-align: right;\">\n",
       "      <th>delay</th>\n",
       "      <th>(0, 15]</th>\n",
       "      <th>(15, 30]</th>\n",
       "      <th>(30, 45]</th>\n",
       "      <th>(45, 60]</th>\n",
       "      <th>(60, 300]</th>\n",
       "    </tr>\n",
       "    <tr>\n",
       "      <th>total_open_amount</th>\n",
       "      <th></th>\n",
       "      <th></th>\n",
       "      <th></th>\n",
       "      <th></th>\n",
       "      <th></th>\n",
       "    </tr>\n",
       "  </thead>\n",
       "  <tbody>\n",
       "    <tr>\n",
       "      <th>(0, 5000]</th>\n",
       "      <td>2830</td>\n",
       "      <td>93</td>\n",
       "      <td>84</td>\n",
       "      <td>68</td>\n",
       "      <td>88</td>\n",
       "    </tr>\n",
       "    <tr>\n",
       "      <th>(5000, 10000]</th>\n",
       "      <td>1277</td>\n",
       "      <td>56</td>\n",
       "      <td>62</td>\n",
       "      <td>37</td>\n",
       "      <td>24</td>\n",
       "    </tr>\n",
       "    <tr>\n",
       "      <th>(10000, 50000]</th>\n",
       "      <td>5430</td>\n",
       "      <td>239</td>\n",
       "      <td>151</td>\n",
       "      <td>86</td>\n",
       "      <td>59</td>\n",
       "    </tr>\n",
       "    <tr>\n",
       "      <th>(50000, 100000]</th>\n",
       "      <td>2197</td>\n",
       "      <td>42</td>\n",
       "      <td>15</td>\n",
       "      <td>7</td>\n",
       "      <td>12</td>\n",
       "    </tr>\n",
       "    <tr>\n",
       "      <th>(100000, 1100000]</th>\n",
       "      <td>1043</td>\n",
       "      <td>16</td>\n",
       "      <td>15</td>\n",
       "      <td>7</td>\n",
       "      <td>4</td>\n",
       "    </tr>\n",
       "  </tbody>\n",
       "</table>\n",
       "</div>"
      ],
      "text/plain": [
       "delay              (0, 15]  (15, 30]  (30, 45]  (45, 60]  (60, 300]\n",
       "total_open_amount                                                  \n",
       "(0, 5000]             2830        93        84        68         88\n",
       "(5000, 10000]         1277        56        62        37         24\n",
       "(10000, 50000]        5430       239       151        86         59\n",
       "(50000, 100000]       2197        42        15         7         12\n",
       "(100000, 1100000]     1043        16        15         7          4"
      ]
     },
     "execution_count": 313,
     "metadata": {},
     "output_type": "execute_result"
    }
   ],
   "source": [
    "delay_bins = [0,15,30,45,60,300]\n",
    "delay_bucket = pd.cut(train_data['delay'], bins = delay_bins)\n",
    "pd.crosstab(index = new_open_amount_bin, columns =delay_bucket)"
   ]
  },
  {
   "cell_type": "code",
   "execution_count": 314,
   "metadata": {},
   "outputs": [
    {
     "data": {
      "text/plain": [
       "<AxesSubplot:xlabel='total_open_amount', ylabel='count'>"
      ]
     },
     "execution_count": 314,
     "metadata": {},
     "output_type": "execute_result"
    },
    {
     "data": {
      "image/png": "[encoded data removed]",
      "text/plain": [
       "<Figure size 576x360 with 1 Axes>"
      ]
     },
     "metadata": {
      "needs_background": "light"
     },
     "output_type": "display_data"
    }
   ],
   "source": [
    "plt.figure(figsize=(8,5))\n",
    "plt.xlabel(\"Amount bin\")\n",
    "sns.countplot(x = new_open_amount_bin, hue=delay_bucket)"
   ]
  },
  {
   "cell_type": "markdown",
   "metadata": {},
   "source": [
    "#### As we can see from the graph for each bucket the amount was returned in 0-15 delay days."
   ]
  },
  {
   "cell_type": "code",
   "execution_count": 315,
   "metadata": {},
   "outputs": [
    {
     "data": {
      "text/html": [
       "<div>\n",
       "<style scoped>\n",
       "    .dataframe tbody tr th:only-of-type {\n",
       "        vertical-align: middle;\n",
       "    }\n",
       "\n",
       "    .dataframe tbody tr th {\n",
       "        vertical-align: top;\n",
       "    }\n",
       "\n",
       "    .dataframe thead th {\n",
       "        text-align: right;\n",
       "    }\n",
       "</style>\n",
       "<table border=\"1\" class=\"dataframe\">\n",
       "  <thead>\n",
       "    <tr style=\"text-align: right;\">\n",
       "      <th></th>\n",
       "      <th>buisness_year</th>\n",
       "      <th>total_open_amount</th>\n",
       "      <th>isOpen</th>\n",
       "      <th>delay</th>\n",
       "    </tr>\n",
       "  </thead>\n",
       "  <tbody>\n",
       "    <tr>\n",
       "      <th>buisness_year</th>\n",
       "      <td>NaN</td>\n",
       "      <td>NaN</td>\n",
       "      <td>NaN</td>\n",
       "      <td>NaN</td>\n",
       "    </tr>\n",
       "    <tr>\n",
       "      <th>total_open_amount</th>\n",
       "      <td>NaN</td>\n",
       "      <td>1.000000</td>\n",
       "      <td>NaN</td>\n",
       "      <td>-0.042408</td>\n",
       "    </tr>\n",
       "    <tr>\n",
       "      <th>isOpen</th>\n",
       "      <td>NaN</td>\n",
       "      <td>NaN</td>\n",
       "      <td>NaN</td>\n",
       "      <td>NaN</td>\n",
       "    </tr>\n",
       "    <tr>\n",
       "      <th>delay</th>\n",
       "      <td>NaN</td>\n",
       "      <td>-0.042408</td>\n",
       "      <td>NaN</td>\n",
       "      <td>1.000000</td>\n",
       "    </tr>\n",
       "  </tbody>\n",
       "</table>\n",
       "</div>"
      ],
      "text/plain": [
       "                   buisness_year  total_open_amount  isOpen     delay\n",
       "buisness_year                NaN                NaN     NaN       NaN\n",
       "total_open_amount            NaN           1.000000     NaN -0.042408\n",
       "isOpen                       NaN                NaN     NaN       NaN\n",
       "delay                        NaN          -0.042408     NaN  1.000000"
      ]
     },
     "execution_count": 315,
     "metadata": {},
     "output_type": "execute_result"
    }
   ],
   "source": [
    "train_data.corr()"
   ]
  },
  {
   "cell_type": "code",
   "execution_count": 316,
   "metadata": {},
   "outputs": [
    {
     "data": {
      "text/plain": [
       "<seaborn.axisgrid.PairGrid at 0x1ed0e1000a0>"
      ]
     },
     "execution_count": 316,
     "metadata": {},
     "output_type": "execute_result"
    },
    {
     "data": {
      "image/png": "[encoded data removed]",
      "text/plain": [
       "<Figure size 1152x1152 with 20 Axes>"
      ]
     },
     "metadata": {
      "needs_background": "light"
     },
     "output_type": "display_data"
    }
   ],
   "source": [
    "sns.pairplot(train_data, height=4)"
   ]
  },
  {
   "cell_type": "markdown",
   "metadata": {},
   "source": [
    "#### We can infer: The total open amount decreses as the delay increases. There is negative co-relation."
   ]
  },
  {
   "cell_type": "markdown",
   "metadata": {},
   "source": [
    "# FEATURE ENGINEERING"
   ]
  },
  {
   "cell_type": "code",
   "execution_count": 317,
   "metadata": {},
   "outputs": [
    {
     "data": {
      "text/html": [
       "<div>\n",
       "<style scoped>\n",
       "    .dataframe tbody tr th:only-of-type {\n",
       "        vertical-align: middle;\n",
       "    }\n",
       "\n",
       "    .dataframe tbody tr th {\n",
       "        vertical-align: top;\n",
       "    }\n",
       "\n",
       "    .dataframe thead th {\n",
       "        text-align: right;\n",
       "    }\n",
       "</style>\n",
       "<table border=\"1\" class=\"dataframe\">\n",
       "  <thead>\n",
       "    <tr style=\"text-align: right;\">\n",
       "      <th></th>\n",
       "      <th>cust_number</th>\n",
       "      <th>clear_date</th>\n",
       "      <th>document_create_date.1</th>\n",
       "      <th>due_in_date</th>\n",
       "      <th>total_open_amount</th>\n",
       "      <th>delay</th>\n",
       "    </tr>\n",
       "  </thead>\n",
       "  <tbody>\n",
       "    <tr>\n",
       "      <th>0</th>\n",
       "      <td>0200769623</td>\n",
       "      <td>2019-01-09</td>\n",
       "      <td>2018-12-30</td>\n",
       "      <td>2019-01-14</td>\n",
       "      <td>14559.00</td>\n",
       "      <td>0.0</td>\n",
       "    </tr>\n",
       "    <tr>\n",
       "      <th>1</th>\n",
       "      <td>0200769623</td>\n",
       "      <td>2019-01-09</td>\n",
       "      <td>2018-12-30</td>\n",
       "      <td>2019-01-14</td>\n",
       "      <td>25749.68</td>\n",
       "      <td>0.0</td>\n",
       "    </tr>\n",
       "    <tr>\n",
       "      <th>2</th>\n",
       "      <td>0200726979</td>\n",
       "      <td>2019-01-15</td>\n",
       "      <td>2018-12-30</td>\n",
       "      <td>2019-01-14</td>\n",
       "      <td>58.18</td>\n",
       "      <td>1.0</td>\n",
       "    </tr>\n",
       "    <tr>\n",
       "      <th>3</th>\n",
       "      <td>0200769623</td>\n",
       "      <td>2019-01-09</td>\n",
       "      <td>2018-12-30</td>\n",
       "      <td>2019-01-14</td>\n",
       "      <td>4890.99</td>\n",
       "      <td>0.0</td>\n",
       "    </tr>\n",
       "    <tr>\n",
       "      <th>4</th>\n",
       "      <td>0200769623</td>\n",
       "      <td>2019-01-15</td>\n",
       "      <td>2018-12-30</td>\n",
       "      <td>2019-01-14</td>\n",
       "      <td>9785.88</td>\n",
       "      <td>1.0</td>\n",
       "    </tr>\n",
       "    <tr>\n",
       "      <th>...</th>\n",
       "      <td>...</td>\n",
       "      <td>...</td>\n",
       "      <td>...</td>\n",
       "      <td>...</td>\n",
       "      <td>...</td>\n",
       "      <td>...</td>\n",
       "    </tr>\n",
       "    <tr>\n",
       "      <th>34439</th>\n",
       "      <td>0200769623</td>\n",
       "      <td>2019-12-27</td>\n",
       "      <td>2019-12-15</td>\n",
       "      <td>2019-12-30</td>\n",
       "      <td>71699.73</td>\n",
       "      <td>0.0</td>\n",
       "    </tr>\n",
       "    <tr>\n",
       "      <th>34440</th>\n",
       "      <td>0200776463</td>\n",
       "      <td>2019-12-30</td>\n",
       "      <td>2019-12-15</td>\n",
       "      <td>2019-12-30</td>\n",
       "      <td>19436.30</td>\n",
       "      <td>0.0</td>\n",
       "    </tr>\n",
       "    <tr>\n",
       "      <th>34441</th>\n",
       "      <td>0200148860</td>\n",
       "      <td>2019-12-30</td>\n",
       "      <td>2019-12-15</td>\n",
       "      <td>2019-12-30</td>\n",
       "      <td>14776.32</td>\n",
       "      <td>0.0</td>\n",
       "    </tr>\n",
       "    <tr>\n",
       "      <th>34442</th>\n",
       "      <td>0200706844</td>\n",
       "      <td>2019-12-31</td>\n",
       "      <td>2019-12-15</td>\n",
       "      <td>2019-12-30</td>\n",
       "      <td>18644.84</td>\n",
       "      <td>1.0</td>\n",
       "    </tr>\n",
       "    <tr>\n",
       "      <th>34443</th>\n",
       "      <td>0200769623</td>\n",
       "      <td>2019-12-26</td>\n",
       "      <td>2019-12-15</td>\n",
       "      <td>2019-12-30</td>\n",
       "      <td>24393.00</td>\n",
       "      <td>0.0</td>\n",
       "    </tr>\n",
       "  </tbody>\n",
       "</table>\n",
       "<p>32958 rows × 6 columns</p>\n",
       "</div>"
      ],
      "text/plain": [
       "      cust_number clear_date document_create_date.1 due_in_date  \\\n",
       "0      0200769623 2019-01-09             2018-12-30  2019-01-14   \n",
       "1      0200769623 2019-01-09             2018-12-30  2019-01-14   \n",
       "2      0200726979 2019-01-15             2018-12-30  2019-01-14   \n",
       "3      0200769623 2019-01-09             2018-12-30  2019-01-14   \n",
       "4      0200769623 2019-01-15             2018-12-30  2019-01-14   \n",
       "...           ...        ...                    ...         ...   \n",
       "34439  0200769623 2019-12-27             2019-12-15  2019-12-30   \n",
       "34440  0200776463 2019-12-30             2019-12-15  2019-12-30   \n",
       "34441  0200148860 2019-12-30             2019-12-15  2019-12-30   \n",
       "34442  0200706844 2019-12-31             2019-12-15  2019-12-30   \n",
       "34443  0200769623 2019-12-26             2019-12-15  2019-12-30   \n",
       "\n",
       "       total_open_amount  delay  \n",
       "0               14559.00    0.0  \n",
       "1               25749.68    0.0  \n",
       "2                  58.18    1.0  \n",
       "3                4890.99    0.0  \n",
       "4                9785.88    1.0  \n",
       "...                  ...    ...  \n",
       "34439           71699.73    0.0  \n",
       "34440           19436.30    0.0  \n",
       "34441           14776.32    0.0  \n",
       "34442           18644.84    1.0  \n",
       "34443           24393.00    0.0  \n",
       "\n",
       "[32958 rows x 6 columns]"
      ]
     },
     "execution_count": 317,
     "metadata": {},
     "output_type": "execute_result"
    }
   ],
   "source": [
    "train_data.drop(columns=['business_code', 'name_customer','buisness_year','invoice_currency','baseline_create_date', 'cust_payment_terms', 'isOpen'], inplace=True)\n",
    "train_data"
   ]
  },
  {
   "cell_type": "markdown",
   "metadata": {},
   "source": [
    "#### Extracting day and month from document_create_date.1 and due_in_date."
   ]
  },
  {
   "cell_type": "code",
   "execution_count": 318,
   "metadata": {},
   "outputs": [],
   "source": [
    "train_data[\"doc_create_day\"] = train_data[\"document_create_date.1\"].dt.day\n",
    "train_data[\"doc_create_month\"] = train_data[\"document_create_date.1\"].dt.month\n",
    "\n",
    "train_data[\"due_day\"] = train_data[\"due_in_date\"].dt.day\n",
    "train_data[\"due_month\"] = train_data[\"due_in_date\"].dt.month"
   ]
  },
  {
   "cell_type": "code",
   "execution_count": 319,
   "metadata": {},
   "outputs": [
    {
     "data": {
      "text/html": [
       "<div>\n",
       "<style scoped>\n",
       "    .dataframe tbody tr th:only-of-type {\n",
       "        vertical-align: middle;\n",
       "    }\n",
       "\n",
       "    .dataframe tbody tr th {\n",
       "        vertical-align: top;\n",
       "    }\n",
       "\n",
       "    .dataframe thead th {\n",
       "        text-align: right;\n",
       "    }\n",
       "</style>\n",
       "<table border=\"1\" class=\"dataframe\">\n",
       "  <thead>\n",
       "    <tr style=\"text-align: right;\">\n",
       "      <th></th>\n",
       "      <th>cust_number</th>\n",
       "      <th>clear_date</th>\n",
       "      <th>document_create_date.1</th>\n",
       "      <th>due_in_date</th>\n",
       "      <th>total_open_amount</th>\n",
       "      <th>delay</th>\n",
       "      <th>doc_create_day</th>\n",
       "      <th>doc_create_month</th>\n",
       "      <th>due_day</th>\n",
       "      <th>due_month</th>\n",
       "    </tr>\n",
       "  </thead>\n",
       "  <tbody>\n",
       "    <tr>\n",
       "      <th>0</th>\n",
       "      <td>0200769623</td>\n",
       "      <td>2019-01-09</td>\n",
       "      <td>2018-12-30</td>\n",
       "      <td>2019-01-14</td>\n",
       "      <td>14559.00</td>\n",
       "      <td>0.0</td>\n",
       "      <td>30</td>\n",
       "      <td>12</td>\n",
       "      <td>14</td>\n",
       "      <td>1</td>\n",
       "    </tr>\n",
       "    <tr>\n",
       "      <th>1</th>\n",
       "      <td>0200769623</td>\n",
       "      <td>2019-01-09</td>\n",
       "      <td>2018-12-30</td>\n",
       "      <td>2019-01-14</td>\n",
       "      <td>25749.68</td>\n",
       "      <td>0.0</td>\n",
       "      <td>30</td>\n",
       "      <td>12</td>\n",
       "      <td>14</td>\n",
       "      <td>1</td>\n",
       "    </tr>\n",
       "    <tr>\n",
       "      <th>2</th>\n",
       "      <td>0200726979</td>\n",
       "      <td>2019-01-15</td>\n",
       "      <td>2018-12-30</td>\n",
       "      <td>2019-01-14</td>\n",
       "      <td>58.18</td>\n",
       "      <td>1.0</td>\n",
       "      <td>30</td>\n",
       "      <td>12</td>\n",
       "      <td>14</td>\n",
       "      <td>1</td>\n",
       "    </tr>\n",
       "    <tr>\n",
       "      <th>3</th>\n",
       "      <td>0200769623</td>\n",
       "      <td>2019-01-09</td>\n",
       "      <td>2018-12-30</td>\n",
       "      <td>2019-01-14</td>\n",
       "      <td>4890.99</td>\n",
       "      <td>0.0</td>\n",
       "      <td>30</td>\n",
       "      <td>12</td>\n",
       "      <td>14</td>\n",
       "      <td>1</td>\n",
       "    </tr>\n",
       "    <tr>\n",
       "      <th>4</th>\n",
       "      <td>0200769623</td>\n",
       "      <td>2019-01-15</td>\n",
       "      <td>2018-12-30</td>\n",
       "      <td>2019-01-14</td>\n",
       "      <td>9785.88</td>\n",
       "      <td>1.0</td>\n",
       "      <td>30</td>\n",
       "      <td>12</td>\n",
       "      <td>14</td>\n",
       "      <td>1</td>\n",
       "    </tr>\n",
       "    <tr>\n",
       "      <th>...</th>\n",
       "      <td>...</td>\n",
       "      <td>...</td>\n",
       "      <td>...</td>\n",
       "      <td>...</td>\n",
       "      <td>...</td>\n",
       "      <td>...</td>\n",
       "      <td>...</td>\n",
       "      <td>...</td>\n",
       "      <td>...</td>\n",
       "      <td>...</td>\n",
       "    </tr>\n",
       "    <tr>\n",
       "      <th>34439</th>\n",
       "      <td>0200769623</td>\n",
       "      <td>2019-12-27</td>\n",
       "      <td>2019-12-15</td>\n",
       "      <td>2019-12-30</td>\n",
       "      <td>71699.73</td>\n",
       "      <td>0.0</td>\n",
       "      <td>15</td>\n",
       "      <td>12</td>\n",
       "      <td>30</td>\n",
       "      <td>12</td>\n",
       "    </tr>\n",
       "    <tr>\n",
       "      <th>34440</th>\n",
       "      <td>0200776463</td>\n",
       "      <td>2019-12-30</td>\n",
       "      <td>2019-12-15</td>\n",
       "      <td>2019-12-30</td>\n",
       "      <td>19436.30</td>\n",
       "      <td>0.0</td>\n",
       "      <td>15</td>\n",
       "      <td>12</td>\n",
       "      <td>30</td>\n",
       "      <td>12</td>\n",
       "    </tr>\n",
       "    <tr>\n",
       "      <th>34441</th>\n",
       "      <td>0200148860</td>\n",
       "      <td>2019-12-30</td>\n",
       "      <td>2019-12-15</td>\n",
       "      <td>2019-12-30</td>\n",
       "      <td>14776.32</td>\n",
       "      <td>0.0</td>\n",
       "      <td>15</td>\n",
       "      <td>12</td>\n",
       "      <td>30</td>\n",
       "      <td>12</td>\n",
       "    </tr>\n",
       "    <tr>\n",
       "      <th>34442</th>\n",
       "      <td>0200706844</td>\n",
       "      <td>2019-12-31</td>\n",
       "      <td>2019-12-15</td>\n",
       "      <td>2019-12-30</td>\n",
       "      <td>18644.84</td>\n",
       "      <td>1.0</td>\n",
       "      <td>15</td>\n",
       "      <td>12</td>\n",
       "      <td>30</td>\n",
       "      <td>12</td>\n",
       "    </tr>\n",
       "    <tr>\n",
       "      <th>34443</th>\n",
       "      <td>0200769623</td>\n",
       "      <td>2019-12-26</td>\n",
       "      <td>2019-12-15</td>\n",
       "      <td>2019-12-30</td>\n",
       "      <td>24393.00</td>\n",
       "      <td>0.0</td>\n",
       "      <td>15</td>\n",
       "      <td>12</td>\n",
       "      <td>30</td>\n",
       "      <td>12</td>\n",
       "    </tr>\n",
       "  </tbody>\n",
       "</table>\n",
       "<p>32958 rows × 10 columns</p>\n",
       "</div>"
      ],
      "text/plain": [
       "      cust_number clear_date document_create_date.1 due_in_date  \\\n",
       "0      0200769623 2019-01-09             2018-12-30  2019-01-14   \n",
       "1      0200769623 2019-01-09             2018-12-30  2019-01-14   \n",
       "2      0200726979 2019-01-15             2018-12-30  2019-01-14   \n",
       "3      0200769623 2019-01-09             2018-12-30  2019-01-14   \n",
       "4      0200769623 2019-01-15             2018-12-30  2019-01-14   \n",
       "...           ...        ...                    ...         ...   \n",
       "34439  0200769623 2019-12-27             2019-12-15  2019-12-30   \n",
       "34440  0200776463 2019-12-30             2019-12-15  2019-12-30   \n",
       "34441  0200148860 2019-12-30             2019-12-15  2019-12-30   \n",
       "34442  0200706844 2019-12-31             2019-12-15  2019-12-30   \n",
       "34443  0200769623 2019-12-26             2019-12-15  2019-12-30   \n",
       "\n",
       "       total_open_amount  delay  doc_create_day  doc_create_month  due_day  \\\n",
       "0               14559.00    0.0              30                12       14   \n",
       "1               25749.68    0.0              30                12       14   \n",
       "2                  58.18    1.0              30                12       14   \n",
       "3                4890.99    0.0              30                12       14   \n",
       "4                9785.88    1.0              30                12       14   \n",
       "...                  ...    ...             ...               ...      ...   \n",
       "34439           71699.73    0.0              15                12       30   \n",
       "34440           19436.30    0.0              15                12       30   \n",
       "34441           14776.32    0.0              15                12       30   \n",
       "34442           18644.84    1.0              15                12       30   \n",
       "34443           24393.00    0.0              15                12       30   \n",
       "\n",
       "       due_month  \n",
       "0              1  \n",
       "1              1  \n",
       "2              1  \n",
       "3              1  \n",
       "4              1  \n",
       "...          ...  \n",
       "34439         12  \n",
       "34440         12  \n",
       "34441         12  \n",
       "34442         12  \n",
       "34443         12  \n",
       "\n",
       "[32958 rows x 10 columns]"
      ]
     },
     "execution_count": 319,
     "metadata": {},
     "output_type": "execute_result"
    }
   ],
   "source": [
    "train_data"
   ]
  },
  {
   "cell_type": "code",
   "execution_count": 320,
   "metadata": {},
   "outputs": [
    {
     "data": {
      "text/html": [
       "<div>\n",
       "<style scoped>\n",
       "    .dataframe tbody tr th:only-of-type {\n",
       "        vertical-align: middle;\n",
       "    }\n",
       "\n",
       "    .dataframe tbody tr th {\n",
       "        vertical-align: top;\n",
       "    }\n",
       "\n",
       "    .dataframe thead th {\n",
       "        text-align: right;\n",
       "    }\n",
       "</style>\n",
       "<table border=\"1\" class=\"dataframe\">\n",
       "  <thead>\n",
       "    <tr style=\"text-align: right;\">\n",
       "      <th></th>\n",
       "      <th>cust_number</th>\n",
       "      <th>total_open_amount</th>\n",
       "      <th>delay</th>\n",
       "      <th>doc_create_day</th>\n",
       "      <th>doc_create_month</th>\n",
       "      <th>due_day</th>\n",
       "      <th>due_month</th>\n",
       "    </tr>\n",
       "  </thead>\n",
       "  <tbody>\n",
       "    <tr>\n",
       "      <th>0</th>\n",
       "      <td>0200769623</td>\n",
       "      <td>14559.00</td>\n",
       "      <td>0.0</td>\n",
       "      <td>30</td>\n",
       "      <td>12</td>\n",
       "      <td>14</td>\n",
       "      <td>1</td>\n",
       "    </tr>\n",
       "    <tr>\n",
       "      <th>1</th>\n",
       "      <td>0200769623</td>\n",
       "      <td>25749.68</td>\n",
       "      <td>0.0</td>\n",
       "      <td>30</td>\n",
       "      <td>12</td>\n",
       "      <td>14</td>\n",
       "      <td>1</td>\n",
       "    </tr>\n",
       "    <tr>\n",
       "      <th>2</th>\n",
       "      <td>0200726979</td>\n",
       "      <td>58.18</td>\n",
       "      <td>1.0</td>\n",
       "      <td>30</td>\n",
       "      <td>12</td>\n",
       "      <td>14</td>\n",
       "      <td>1</td>\n",
       "    </tr>\n",
       "    <tr>\n",
       "      <th>3</th>\n",
       "      <td>0200769623</td>\n",
       "      <td>4890.99</td>\n",
       "      <td>0.0</td>\n",
       "      <td>30</td>\n",
       "      <td>12</td>\n",
       "      <td>14</td>\n",
       "      <td>1</td>\n",
       "    </tr>\n",
       "    <tr>\n",
       "      <th>4</th>\n",
       "      <td>0200769623</td>\n",
       "      <td>9785.88</td>\n",
       "      <td>1.0</td>\n",
       "      <td>30</td>\n",
       "      <td>12</td>\n",
       "      <td>14</td>\n",
       "      <td>1</td>\n",
       "    </tr>\n",
       "    <tr>\n",
       "      <th>...</th>\n",
       "      <td>...</td>\n",
       "      <td>...</td>\n",
       "      <td>...</td>\n",
       "      <td>...</td>\n",
       "      <td>...</td>\n",
       "      <td>...</td>\n",
       "      <td>...</td>\n",
       "    </tr>\n",
       "    <tr>\n",
       "      <th>34439</th>\n",
       "      <td>0200769623</td>\n",
       "      <td>71699.73</td>\n",
       "      <td>0.0</td>\n",
       "      <td>15</td>\n",
       "      <td>12</td>\n",
       "      <td>30</td>\n",
       "      <td>12</td>\n",
       "    </tr>\n",
       "    <tr>\n",
       "      <th>34440</th>\n",
       "      <td>0200776463</td>\n",
       "      <td>19436.30</td>\n",
       "      <td>0.0</td>\n",
       "      <td>15</td>\n",
       "      <td>12</td>\n",
       "      <td>30</td>\n",
       "      <td>12</td>\n",
       "    </tr>\n",
       "    <tr>\n",
       "      <th>34441</th>\n",
       "      <td>0200148860</td>\n",
       "      <td>14776.32</td>\n",
       "      <td>0.0</td>\n",
       "      <td>15</td>\n",
       "      <td>12</td>\n",
       "      <td>30</td>\n",
       "      <td>12</td>\n",
       "    </tr>\n",
       "    <tr>\n",
       "      <th>34442</th>\n",
       "      <td>0200706844</td>\n",
       "      <td>18644.84</td>\n",
       "      <td>1.0</td>\n",
       "      <td>15</td>\n",
       "      <td>12</td>\n",
       "      <td>30</td>\n",
       "      <td>12</td>\n",
       "    </tr>\n",
       "    <tr>\n",
       "      <th>34443</th>\n",
       "      <td>0200769623</td>\n",
       "      <td>24393.00</td>\n",
       "      <td>0.0</td>\n",
       "      <td>15</td>\n",
       "      <td>12</td>\n",
       "      <td>30</td>\n",
       "      <td>12</td>\n",
       "    </tr>\n",
       "  </tbody>\n",
       "</table>\n",
       "<p>32958 rows × 7 columns</p>\n",
       "</div>"
      ],
      "text/plain": [
       "      cust_number  total_open_amount  delay  doc_create_day  doc_create_month  \\\n",
       "0      0200769623           14559.00    0.0              30                12   \n",
       "1      0200769623           25749.68    0.0              30                12   \n",
       "2      0200726979              58.18    1.0              30                12   \n",
       "3      0200769623            4890.99    0.0              30                12   \n",
       "4      0200769623            9785.88    1.0              30                12   \n",
       "...           ...                ...    ...             ...               ...   \n",
       "34439  0200769623           71699.73    0.0              15                12   \n",
       "34440  0200776463           19436.30    0.0              15                12   \n",
       "34441  0200148860           14776.32    0.0              15                12   \n",
       "34442  0200706844           18644.84    1.0              15                12   \n",
       "34443  0200769623           24393.00    0.0              15                12   \n",
       "\n",
       "       due_day  due_month  \n",
       "0           14          1  \n",
       "1           14          1  \n",
       "2           14          1  \n",
       "3           14          1  \n",
       "4           14          1  \n",
       "...        ...        ...  \n",
       "34439       30         12  \n",
       "34440       30         12  \n",
       "34441       30         12  \n",
       "34442       30         12  \n",
       "34443       30         12  \n",
       "\n",
       "[32958 rows x 7 columns]"
      ]
     },
     "execution_count": 320,
     "metadata": {},
     "output_type": "execute_result"
    }
   ],
   "source": [
    "train_data.drop(columns=['clear_date', 'document_create_date.1', 'due_in_date'], inplace=True)\n",
    "train_data"
   ]
  },
  {
   "cell_type": "markdown",
   "metadata": {},
   "source": [
    "#### Extracting the integer part from cust_number"
   ]
  },
  {
   "cell_type": "code",
   "execution_count": 321,
   "metadata": {},
   "outputs": [
    {
     "data": {
      "text/html": [
       "<div>\n",
       "<style scoped>\n",
       "    .dataframe tbody tr th:only-of-type {\n",
       "        vertical-align: middle;\n",
       "    }\n",
       "\n",
       "    .dataframe tbody tr th {\n",
       "        vertical-align: top;\n",
       "    }\n",
       "\n",
       "    .dataframe thead th {\n",
       "        text-align: right;\n",
       "    }\n",
       "</style>\n",
       "<table border=\"1\" class=\"dataframe\">\n",
       "  <thead>\n",
       "    <tr style=\"text-align: right;\">\n",
       "      <th></th>\n",
       "      <th>total_open_amount</th>\n",
       "      <th>delay</th>\n",
       "      <th>doc_create_day</th>\n",
       "      <th>doc_create_month</th>\n",
       "      <th>due_day</th>\n",
       "      <th>due_month</th>\n",
       "      <th>cn</th>\n",
       "    </tr>\n",
       "  </thead>\n",
       "  <tbody>\n",
       "    <tr>\n",
       "      <th>0</th>\n",
       "      <td>14559.00</td>\n",
       "      <td>0.0</td>\n",
       "      <td>30</td>\n",
       "      <td>12</td>\n",
       "      <td>14</td>\n",
       "      <td>1</td>\n",
       "      <td>0200769623</td>\n",
       "    </tr>\n",
       "    <tr>\n",
       "      <th>1</th>\n",
       "      <td>25749.68</td>\n",
       "      <td>0.0</td>\n",
       "      <td>30</td>\n",
       "      <td>12</td>\n",
       "      <td>14</td>\n",
       "      <td>1</td>\n",
       "      <td>0200769623</td>\n",
       "    </tr>\n",
       "    <tr>\n",
       "      <th>2</th>\n",
       "      <td>58.18</td>\n",
       "      <td>1.0</td>\n",
       "      <td>30</td>\n",
       "      <td>12</td>\n",
       "      <td>14</td>\n",
       "      <td>1</td>\n",
       "      <td>0200726979</td>\n",
       "    </tr>\n",
       "    <tr>\n",
       "      <th>3</th>\n",
       "      <td>4890.99</td>\n",
       "      <td>0.0</td>\n",
       "      <td>30</td>\n",
       "      <td>12</td>\n",
       "      <td>14</td>\n",
       "      <td>1</td>\n",
       "      <td>0200769623</td>\n",
       "    </tr>\n",
       "    <tr>\n",
       "      <th>4</th>\n",
       "      <td>9785.88</td>\n",
       "      <td>1.0</td>\n",
       "      <td>30</td>\n",
       "      <td>12</td>\n",
       "      <td>14</td>\n",
       "      <td>1</td>\n",
       "      <td>0200769623</td>\n",
       "    </tr>\n",
       "    <tr>\n",
       "      <th>...</th>\n",
       "      <td>...</td>\n",
       "      <td>...</td>\n",
       "      <td>...</td>\n",
       "      <td>...</td>\n",
       "      <td>...</td>\n",
       "      <td>...</td>\n",
       "      <td>...</td>\n",
       "    </tr>\n",
       "    <tr>\n",
       "      <th>34439</th>\n",
       "      <td>71699.73</td>\n",
       "      <td>0.0</td>\n",
       "      <td>15</td>\n",
       "      <td>12</td>\n",
       "      <td>30</td>\n",
       "      <td>12</td>\n",
       "      <td>0200769623</td>\n",
       "    </tr>\n",
       "    <tr>\n",
       "      <th>34440</th>\n",
       "      <td>19436.30</td>\n",
       "      <td>0.0</td>\n",
       "      <td>15</td>\n",
       "      <td>12</td>\n",
       "      <td>30</td>\n",
       "      <td>12</td>\n",
       "      <td>0200776463</td>\n",
       "    </tr>\n",
       "    <tr>\n",
       "      <th>34441</th>\n",
       "      <td>14776.32</td>\n",
       "      <td>0.0</td>\n",
       "      <td>15</td>\n",
       "      <td>12</td>\n",
       "      <td>30</td>\n",
       "      <td>12</td>\n",
       "      <td>0200148860</td>\n",
       "    </tr>\n",
       "    <tr>\n",
       "      <th>34442</th>\n",
       "      <td>18644.84</td>\n",
       "      <td>1.0</td>\n",
       "      <td>15</td>\n",
       "      <td>12</td>\n",
       "      <td>30</td>\n",
       "      <td>12</td>\n",
       "      <td>0200706844</td>\n",
       "    </tr>\n",
       "    <tr>\n",
       "      <th>34443</th>\n",
       "      <td>24393.00</td>\n",
       "      <td>0.0</td>\n",
       "      <td>15</td>\n",
       "      <td>12</td>\n",
       "      <td>30</td>\n",
       "      <td>12</td>\n",
       "      <td>0200769623</td>\n",
       "    </tr>\n",
       "  </tbody>\n",
       "</table>\n",
       "<p>32958 rows × 7 columns</p>\n",
       "</div>"
      ],
      "text/plain": [
       "       total_open_amount  delay  doc_create_day  doc_create_month  due_day  \\\n",
       "0               14559.00    0.0              30                12       14   \n",
       "1               25749.68    0.0              30                12       14   \n",
       "2                  58.18    1.0              30                12       14   \n",
       "3                4890.99    0.0              30                12       14   \n",
       "4                9785.88    1.0              30                12       14   \n",
       "...                  ...    ...             ...               ...      ...   \n",
       "34439           71699.73    0.0              15                12       30   \n",
       "34440           19436.30    0.0              15                12       30   \n",
       "34441           14776.32    0.0              15                12       30   \n",
       "34442           18644.84    1.0              15                12       30   \n",
       "34443           24393.00    0.0              15                12       30   \n",
       "\n",
       "       due_month          cn  \n",
       "0              1  0200769623  \n",
       "1              1  0200769623  \n",
       "2              1  0200726979  \n",
       "3              1  0200769623  \n",
       "4              1  0200769623  \n",
       "...          ...         ...  \n",
       "34439         12  0200769623  \n",
       "34440         12  0200776463  \n",
       "34441         12  0200148860  \n",
       "34442         12  0200706844  \n",
       "34443         12  0200769623  \n",
       "\n",
       "[32958 rows x 7 columns]"
      ]
     },
     "execution_count": 321,
     "metadata": {},
     "output_type": "execute_result"
    }
   ],
   "source": [
    "train_data['cn'] = train_data['cust_number'].str.extract('(\\d+)')\n",
    "\n",
    "# then will drop that column\n",
    "train_data.drop('cust_number',axis=1,inplace=True)\n",
    "\n",
    "#lets see the dataframe\n",
    "train_data"
   ]
  },
  {
   "cell_type": "code",
   "execution_count": 322,
   "metadata": {},
   "outputs": [
    {
     "name": "stdout",
     "output_type": "stream",
     "text": [
      "<class 'pandas.core.frame.DataFrame'>\n",
      "Int64Index: 32958 entries, 0 to 34443\n",
      "Data columns (total 7 columns):\n",
      " #   Column             Non-Null Count  Dtype  \n",
      "---  ------             --------------  -----  \n",
      " 0   total_open_amount  32958 non-null  float64\n",
      " 1   delay              32958 non-null  float64\n",
      " 2   doc_create_day     32958 non-null  int64  \n",
      " 3   doc_create_month   32958 non-null  int64  \n",
      " 4   due_day            32958 non-null  int64  \n",
      " 5   due_month          32958 non-null  int64  \n",
      " 6   cn                 32958 non-null  object \n",
      "dtypes: float64(2), int64(4), object(1)\n",
      "memory usage: 3.0+ MB\n"
     ]
    }
   ],
   "source": [
    "train_data.info()"
   ]
  },
  {
   "cell_type": "markdown",
   "metadata": {},
   "source": [
    "#### Converting the data-type of cn as float"
   ]
  },
  {
   "cell_type": "code",
   "execution_count": 323,
   "metadata": {},
   "outputs": [
    {
     "name": "stdout",
     "output_type": "stream",
     "text": [
      "<class 'pandas.core.frame.DataFrame'>\n",
      "Int64Index: 32958 entries, 0 to 34443\n",
      "Data columns (total 7 columns):\n",
      " #   Column             Non-Null Count  Dtype  \n",
      "---  ------             --------------  -----  \n",
      " 0   total_open_amount  32958 non-null  float64\n",
      " 1   delay              32958 non-null  float64\n",
      " 2   doc_create_day     32958 non-null  int64  \n",
      " 3   doc_create_month   32958 non-null  int64  \n",
      " 4   due_day            32958 non-null  int64  \n",
      " 5   due_month          32958 non-null  int64  \n",
      " 6   cn                 32958 non-null  float64\n",
      "dtypes: float64(3), int64(4)\n",
      "memory usage: 3.0 MB\n"
     ]
    }
   ],
   "source": [
    "train_data['cn']=train_data['cn'].astype(str).astype(float)\n",
    "train_data.info()"
   ]
  },
  {
   "cell_type": "markdown",
   "metadata": {},
   "source": [
    "### Splitting into x_train and y_train"
   ]
  },
  {
   "cell_type": "code",
   "execution_count": 324,
   "metadata": {},
   "outputs": [
    {
     "data": {
      "text/plain": [
       "0        0.0\n",
       "1        0.0\n",
       "2        1.0\n",
       "3        0.0\n",
       "4        1.0\n",
       "        ... \n",
       "34439    0.0\n",
       "34440    0.0\n",
       "34441    0.0\n",
       "34442    1.0\n",
       "34443    0.0\n",
       "Name: delay, Length: 32958, dtype: float64"
      ]
     },
     "execution_count": 324,
     "metadata": {},
     "output_type": "execute_result"
    }
   ],
   "source": [
    "y_train = train_data['delay']\n",
    "y_train"
   ]
  },
  {
   "cell_type": "code",
   "execution_count": 325,
   "metadata": {},
   "outputs": [
    {
     "data": {
      "text/html": [
       "<div>\n",
       "<style scoped>\n",
       "    .dataframe tbody tr th:only-of-type {\n",
       "        vertical-align: middle;\n",
       "    }\n",
       "\n",
       "    .dataframe tbody tr th {\n",
       "        vertical-align: top;\n",
       "    }\n",
       "\n",
       "    .dataframe thead th {\n",
       "        text-align: right;\n",
       "    }\n",
       "</style>\n",
       "<table border=\"1\" class=\"dataframe\">\n",
       "  <thead>\n",
       "    <tr style=\"text-align: right;\">\n",
       "      <th></th>\n",
       "      <th>total_open_amount</th>\n",
       "      <th>doc_create_day</th>\n",
       "      <th>doc_create_month</th>\n",
       "      <th>due_day</th>\n",
       "      <th>due_month</th>\n",
       "      <th>cn</th>\n",
       "    </tr>\n",
       "  </thead>\n",
       "  <tbody>\n",
       "    <tr>\n",
       "      <th>0</th>\n",
       "      <td>14559.00</td>\n",
       "      <td>30</td>\n",
       "      <td>12</td>\n",
       "      <td>14</td>\n",
       "      <td>1</td>\n",
       "      <td>200769623.0</td>\n",
       "    </tr>\n",
       "    <tr>\n",
       "      <th>1</th>\n",
       "      <td>25749.68</td>\n",
       "      <td>30</td>\n",
       "      <td>12</td>\n",
       "      <td>14</td>\n",
       "      <td>1</td>\n",
       "      <td>200769623.0</td>\n",
       "    </tr>\n",
       "    <tr>\n",
       "      <th>2</th>\n",
       "      <td>58.18</td>\n",
       "      <td>30</td>\n",
       "      <td>12</td>\n",
       "      <td>14</td>\n",
       "      <td>1</td>\n",
       "      <td>200726979.0</td>\n",
       "    </tr>\n",
       "    <tr>\n",
       "      <th>3</th>\n",
       "      <td>4890.99</td>\n",
       "      <td>30</td>\n",
       "      <td>12</td>\n",
       "      <td>14</td>\n",
       "      <td>1</td>\n",
       "      <td>200769623.0</td>\n",
       "    </tr>\n",
       "    <tr>\n",
       "      <th>4</th>\n",
       "      <td>9785.88</td>\n",
       "      <td>30</td>\n",
       "      <td>12</td>\n",
       "      <td>14</td>\n",
       "      <td>1</td>\n",
       "      <td>200769623.0</td>\n",
       "    </tr>\n",
       "    <tr>\n",
       "      <th>...</th>\n",
       "      <td>...</td>\n",
       "      <td>...</td>\n",
       "      <td>...</td>\n",
       "      <td>...</td>\n",
       "      <td>...</td>\n",
       "      <td>...</td>\n",
       "    </tr>\n",
       "    <tr>\n",
       "      <th>34439</th>\n",
       "      <td>71699.73</td>\n",
       "      <td>15</td>\n",
       "      <td>12</td>\n",
       "      <td>30</td>\n",
       "      <td>12</td>\n",
       "      <td>200769623.0</td>\n",
       "    </tr>\n",
       "    <tr>\n",
       "      <th>34440</th>\n",
       "      <td>19436.30</td>\n",
       "      <td>15</td>\n",
       "      <td>12</td>\n",
       "      <td>30</td>\n",
       "      <td>12</td>\n",
       "      <td>200776463.0</td>\n",
       "    </tr>\n",
       "    <tr>\n",
       "      <th>34441</th>\n",
       "      <td>14776.32</td>\n",
       "      <td>15</td>\n",
       "      <td>12</td>\n",
       "      <td>30</td>\n",
       "      <td>12</td>\n",
       "      <td>200148860.0</td>\n",
       "    </tr>\n",
       "    <tr>\n",
       "      <th>34442</th>\n",
       "      <td>18644.84</td>\n",
       "      <td>15</td>\n",
       "      <td>12</td>\n",
       "      <td>30</td>\n",
       "      <td>12</td>\n",
       "      <td>200706844.0</td>\n",
       "    </tr>\n",
       "    <tr>\n",
       "      <th>34443</th>\n",
       "      <td>24393.00</td>\n",
       "      <td>15</td>\n",
       "      <td>12</td>\n",
       "      <td>30</td>\n",
       "      <td>12</td>\n",
       "      <td>200769623.0</td>\n",
       "    </tr>\n",
       "  </tbody>\n",
       "</table>\n",
       "<p>32958 rows × 6 columns</p>\n",
       "</div>"
      ],
      "text/plain": [
       "       total_open_amount  doc_create_day  doc_create_month  due_day  \\\n",
       "0               14559.00              30                12       14   \n",
       "1               25749.68              30                12       14   \n",
       "2                  58.18              30                12       14   \n",
       "3                4890.99              30                12       14   \n",
       "4                9785.88              30                12       14   \n",
       "...                  ...             ...               ...      ...   \n",
       "34439           71699.73              15                12       30   \n",
       "34440           19436.30              15                12       30   \n",
       "34441           14776.32              15                12       30   \n",
       "34442           18644.84              15                12       30   \n",
       "34443           24393.00              15                12       30   \n",
       "\n",
       "       due_month           cn  \n",
       "0              1  200769623.0  \n",
       "1              1  200769623.0  \n",
       "2              1  200726979.0  \n",
       "3              1  200769623.0  \n",
       "4              1  200769623.0  \n",
       "...          ...          ...  \n",
       "34439         12  200769623.0  \n",
       "34440         12  200776463.0  \n",
       "34441         12  200148860.0  \n",
       "34442         12  200706844.0  \n",
       "34443         12  200769623.0  \n",
       "\n",
       "[32958 rows x 6 columns]"
      ]
     },
     "execution_count": 325,
     "metadata": {},
     "output_type": "execute_result"
    }
   ],
   "source": [
    "x_train = train_data.drop([\"delay\"], axis=1).copy()\n",
    "x_train"
   ]
  },
  {
   "cell_type": "markdown",
   "metadata": {},
   "source": [
    "### Now we need to repeat the same process on val1, val2 and x_test."
   ]
  },
  {
   "cell_type": "markdown",
   "metadata": {},
   "source": [
    "# 1] val1"
   ]
  },
  {
   "cell_type": "code",
   "execution_count": 326,
   "metadata": {},
   "outputs": [
    {
     "name": "stdout",
     "output_type": "stream",
     "text": [
      "<class 'pandas.core.frame.DataFrame'>\n",
      "RangeIndex: 1345 entries, 0 to 1344\n",
      "Data columns (total 13 columns):\n",
      " #   Column                  Non-Null Count  Dtype         \n",
      "---  ------                  --------------  -----         \n",
      " 0   business_code           1345 non-null   object        \n",
      " 1   cust_number             1345 non-null   object        \n",
      " 2   name_customer           1345 non-null   object        \n",
      " 3   clear_date              1345 non-null   datetime64[ns]\n",
      " 4   buisness_year           1345 non-null   float64       \n",
      " 5   document_create_date.1  1345 non-null   datetime64[ns]\n",
      " 6   due_in_date             1345 non-null   datetime64[ns]\n",
      " 7   invoice_currency        1345 non-null   object        \n",
      " 8   total_open_amount       1345 non-null   float64       \n",
      " 9   baseline_create_date    1345 non-null   datetime64[ns]\n",
      " 10  cust_payment_terms      1345 non-null   object        \n",
      " 11  isOpen                  1345 non-null   int64         \n",
      " 12  delay                   1345 non-null   float64       \n",
      "dtypes: datetime64[ns](4), float64(3), int64(1), object(5)\n",
      "memory usage: 136.7+ KB\n"
     ]
    }
   ],
   "source": [
    "val1.info()"
   ]
  },
  {
   "cell_type": "code",
   "execution_count": 327,
   "metadata": {},
   "outputs": [
    {
     "name": "stdout",
     "output_type": "stream",
     "text": [
      "<class 'pandas.core.frame.DataFrame'>\n",
      "RangeIndex: 1345 entries, 0 to 1344\n",
      "Data columns (total 7 columns):\n",
      " #   Column             Non-Null Count  Dtype  \n",
      "---  ------             --------------  -----  \n",
      " 0   total_open_amount  1345 non-null   float64\n",
      " 1   delay              1345 non-null   float64\n",
      " 2   doc_create_day     1345 non-null   int64  \n",
      " 3   doc_create_month   1345 non-null   int64  \n",
      " 4   due_day            1345 non-null   int64  \n",
      " 5   due_month          1345 non-null   int64  \n",
      " 6   cn                 1345 non-null   float64\n",
      "dtypes: float64(3), int64(4)\n",
      "memory usage: 73.7 KB\n"
     ]
    }
   ],
   "source": [
    "val1['delay']=val1.delay.apply(lambda x: 0 if x<0 else x)\n",
    "val1.drop(['business_code', 'name_customer', 'clear_date', 'buisness_year', 'invoice_currency', 'baseline_create_date', 'cust_payment_terms', 'isOpen'], axis=1, inplace=True)\n",
    "\n",
    "val1[\"doc_create_day\"] = val1[\"document_create_date.1\"].dt.day\n",
    "val1[\"doc_create_month\"] = val1[\"document_create_date.1\"].dt.month\n",
    "\n",
    "val1[\"due_day\"] = val1[\"due_in_date\"].dt.day\n",
    "val1[\"due_month\"] = val1[\"due_in_date\"].dt.month\n",
    "\n",
    "val1['cn'] = val1['cust_number'].str.extract('(\\d+)')\n",
    "val1.drop('cust_number',axis=1,inplace=True)\n",
    "\n",
    "val1.drop(columns=['document_create_date.1', 'due_in_date'], inplace=True)\n",
    "\n",
    "val1['cn']=val1['cn'].astype(str).astype(float)\n",
    "val1.info()"
   ]
  },
  {
   "cell_type": "code",
   "execution_count": 328,
   "metadata": {},
   "outputs": [
    {
     "data": {
      "text/html": [
       "<div>\n",
       "<style scoped>\n",
       "    .dataframe tbody tr th:only-of-type {\n",
       "        vertical-align: middle;\n",
       "    }\n",
       "\n",
       "    .dataframe tbody tr th {\n",
       "        vertical-align: top;\n",
       "    }\n",
       "\n",
       "    .dataframe thead th {\n",
       "        text-align: right;\n",
       "    }\n",
       "</style>\n",
       "<table border=\"1\" class=\"dataframe\">\n",
       "  <thead>\n",
       "    <tr style=\"text-align: right;\">\n",
       "      <th></th>\n",
       "      <th>total_open_amount</th>\n",
       "      <th>delay</th>\n",
       "      <th>doc_create_day</th>\n",
       "      <th>doc_create_month</th>\n",
       "      <th>due_day</th>\n",
       "      <th>due_month</th>\n",
       "      <th>cn</th>\n",
       "    </tr>\n",
       "  </thead>\n",
       "  <tbody>\n",
       "    <tr>\n",
       "      <th>0</th>\n",
       "      <td>23231.67</td>\n",
       "      <td>0.0</td>\n",
       "      <td>15</td>\n",
       "      <td>12</td>\n",
       "      <td>30</td>\n",
       "      <td>12</td>\n",
       "      <td>200707822.0</td>\n",
       "    </tr>\n",
       "    <tr>\n",
       "      <th>1</th>\n",
       "      <td>642.66</td>\n",
       "      <td>0.0</td>\n",
       "      <td>15</td>\n",
       "      <td>12</td>\n",
       "      <td>30</td>\n",
       "      <td>12</td>\n",
       "      <td>200726979.0</td>\n",
       "    </tr>\n",
       "    <tr>\n",
       "      <th>2</th>\n",
       "      <td>201.50</td>\n",
       "      <td>0.0</td>\n",
       "      <td>15</td>\n",
       "      <td>12</td>\n",
       "      <td>2</td>\n",
       "      <td>1</td>\n",
       "      <td>140104409.0</td>\n",
       "    </tr>\n",
       "    <tr>\n",
       "      <th>3</th>\n",
       "      <td>15797.76</td>\n",
       "      <td>0.0</td>\n",
       "      <td>15</td>\n",
       "      <td>12</td>\n",
       "      <td>30</td>\n",
       "      <td>12</td>\n",
       "      <td>200148860.0</td>\n",
       "    </tr>\n",
       "    <tr>\n",
       "      <th>4</th>\n",
       "      <td>11611.60</td>\n",
       "      <td>1.0</td>\n",
       "      <td>15</td>\n",
       "      <td>12</td>\n",
       "      <td>30</td>\n",
       "      <td>12</td>\n",
       "      <td>200769623.0</td>\n",
       "    </tr>\n",
       "    <tr>\n",
       "      <th>...</th>\n",
       "      <td>...</td>\n",
       "      <td>...</td>\n",
       "      <td>...</td>\n",
       "      <td>...</td>\n",
       "      <td>...</td>\n",
       "      <td>...</td>\n",
       "      <td>...</td>\n",
       "    </tr>\n",
       "    <tr>\n",
       "      <th>1340</th>\n",
       "      <td>13891.02</td>\n",
       "      <td>1.0</td>\n",
       "      <td>12</td>\n",
       "      <td>1</td>\n",
       "      <td>27</td>\n",
       "      <td>1</td>\n",
       "      <td>200759878.0</td>\n",
       "    </tr>\n",
       "    <tr>\n",
       "      <th>1341</th>\n",
       "      <td>21795.65</td>\n",
       "      <td>0.0</td>\n",
       "      <td>12</td>\n",
       "      <td>1</td>\n",
       "      <td>27</td>\n",
       "      <td>1</td>\n",
       "      <td>200769623.0</td>\n",
       "    </tr>\n",
       "    <tr>\n",
       "      <th>1342</th>\n",
       "      <td>826.01</td>\n",
       "      <td>0.0</td>\n",
       "      <td>12</td>\n",
       "      <td>1</td>\n",
       "      <td>27</td>\n",
       "      <td>1</td>\n",
       "      <td>200769623.0</td>\n",
       "    </tr>\n",
       "    <tr>\n",
       "      <th>1343</th>\n",
       "      <td>85097.42</td>\n",
       "      <td>1.0</td>\n",
       "      <td>12</td>\n",
       "      <td>1</td>\n",
       "      <td>27</td>\n",
       "      <td>1</td>\n",
       "      <td>200762301.0</td>\n",
       "    </tr>\n",
       "    <tr>\n",
       "      <th>1344</th>\n",
       "      <td>417.05</td>\n",
       "      <td>0.0</td>\n",
       "      <td>12</td>\n",
       "      <td>1</td>\n",
       "      <td>27</td>\n",
       "      <td>1</td>\n",
       "      <td>200726979.0</td>\n",
       "    </tr>\n",
       "  </tbody>\n",
       "</table>\n",
       "<p>1345 rows × 7 columns</p>\n",
       "</div>"
      ],
      "text/plain": [
       "      total_open_amount  delay  doc_create_day  doc_create_month  due_day  \\\n",
       "0              23231.67    0.0              15                12       30   \n",
       "1                642.66    0.0              15                12       30   \n",
       "2                201.50    0.0              15                12        2   \n",
       "3              15797.76    0.0              15                12       30   \n",
       "4              11611.60    1.0              15                12       30   \n",
       "...                 ...    ...             ...               ...      ...   \n",
       "1340           13891.02    1.0              12                 1       27   \n",
       "1341           21795.65    0.0              12                 1       27   \n",
       "1342             826.01    0.0              12                 1       27   \n",
       "1343           85097.42    1.0              12                 1       27   \n",
       "1344             417.05    0.0              12                 1       27   \n",
       "\n",
       "      due_month           cn  \n",
       "0            12  200707822.0  \n",
       "1            12  200726979.0  \n",
       "2             1  140104409.0  \n",
       "3            12  200148860.0  \n",
       "4            12  200769623.0  \n",
       "...         ...          ...  \n",
       "1340          1  200759878.0  \n",
       "1341          1  200769623.0  \n",
       "1342          1  200769623.0  \n",
       "1343          1  200762301.0  \n",
       "1344          1  200726979.0  \n",
       "\n",
       "[1345 rows x 7 columns]"
      ]
     },
     "execution_count": 328,
     "metadata": {},
     "output_type": "execute_result"
    }
   ],
   "source": [
    "val1"
   ]
  },
  {
   "cell_type": "markdown",
   "metadata": {},
   "source": [
    "### Splitting val1 into x_val1 and y_val2"
   ]
  },
  {
   "cell_type": "code",
   "execution_count": 329,
   "metadata": {},
   "outputs": [
    {
     "data": {
      "text/plain": [
       "0       0.0\n",
       "1       0.0\n",
       "2       0.0\n",
       "3       0.0\n",
       "4       1.0\n",
       "       ... \n",
       "1340    1.0\n",
       "1341    0.0\n",
       "1342    0.0\n",
       "1343    1.0\n",
       "1344    0.0\n",
       "Name: delay, Length: 1345, dtype: float64"
      ]
     },
     "execution_count": 329,
     "metadata": {},
     "output_type": "execute_result"
    }
   ],
   "source": [
    "y_val1 = val1['delay']\n",
    "y_val1"
   ]
  },
  {
   "cell_type": "code",
   "execution_count": 330,
   "metadata": {},
   "outputs": [
    {
     "data": {
      "text/html": [
       "<div>\n",
       "<style scoped>\n",
       "    .dataframe tbody tr th:only-of-type {\n",
       "        vertical-align: middle;\n",
       "    }\n",
       "\n",
       "    .dataframe tbody tr th {\n",
       "        vertical-align: top;\n",
       "    }\n",
       "\n",
       "    .dataframe thead th {\n",
       "        text-align: right;\n",
       "    }\n",
       "</style>\n",
       "<table border=\"1\" class=\"dataframe\">\n",
       "  <thead>\n",
       "    <tr style=\"text-align: right;\">\n",
       "      <th></th>\n",
       "      <th>total_open_amount</th>\n",
       "      <th>doc_create_day</th>\n",
       "      <th>doc_create_month</th>\n",
       "      <th>due_day</th>\n",
       "      <th>due_month</th>\n",
       "      <th>cn</th>\n",
       "    </tr>\n",
       "  </thead>\n",
       "  <tbody>\n",
       "    <tr>\n",
       "      <th>0</th>\n",
       "      <td>23231.67</td>\n",
       "      <td>15</td>\n",
       "      <td>12</td>\n",
       "      <td>30</td>\n",
       "      <td>12</td>\n",
       "      <td>200707822.0</td>\n",
       "    </tr>\n",
       "    <tr>\n",
       "      <th>1</th>\n",
       "      <td>642.66</td>\n",
       "      <td>15</td>\n",
       "      <td>12</td>\n",
       "      <td>30</td>\n",
       "      <td>12</td>\n",
       "      <td>200726979.0</td>\n",
       "    </tr>\n",
       "    <tr>\n",
       "      <th>2</th>\n",
       "      <td>201.50</td>\n",
       "      <td>15</td>\n",
       "      <td>12</td>\n",
       "      <td>2</td>\n",
       "      <td>1</td>\n",
       "      <td>140104409.0</td>\n",
       "    </tr>\n",
       "    <tr>\n",
       "      <th>3</th>\n",
       "      <td>15797.76</td>\n",
       "      <td>15</td>\n",
       "      <td>12</td>\n",
       "      <td>30</td>\n",
       "      <td>12</td>\n",
       "      <td>200148860.0</td>\n",
       "    </tr>\n",
       "    <tr>\n",
       "      <th>4</th>\n",
       "      <td>11611.60</td>\n",
       "      <td>15</td>\n",
       "      <td>12</td>\n",
       "      <td>30</td>\n",
       "      <td>12</td>\n",
       "      <td>200769623.0</td>\n",
       "    </tr>\n",
       "    <tr>\n",
       "      <th>...</th>\n",
       "      <td>...</td>\n",
       "      <td>...</td>\n",
       "      <td>...</td>\n",
       "      <td>...</td>\n",
       "      <td>...</td>\n",
       "      <td>...</td>\n",
       "    </tr>\n",
       "    <tr>\n",
       "      <th>1340</th>\n",
       "      <td>13891.02</td>\n",
       "      <td>12</td>\n",
       "      <td>1</td>\n",
       "      <td>27</td>\n",
       "      <td>1</td>\n",
       "      <td>200759878.0</td>\n",
       "    </tr>\n",
       "    <tr>\n",
       "      <th>1341</th>\n",
       "      <td>21795.65</td>\n",
       "      <td>12</td>\n",
       "      <td>1</td>\n",
       "      <td>27</td>\n",
       "      <td>1</td>\n",
       "      <td>200769623.0</td>\n",
       "    </tr>\n",
       "    <tr>\n",
       "      <th>1342</th>\n",
       "      <td>826.01</td>\n",
       "      <td>12</td>\n",
       "      <td>1</td>\n",
       "      <td>27</td>\n",
       "      <td>1</td>\n",
       "      <td>200769623.0</td>\n",
       "    </tr>\n",
       "    <tr>\n",
       "      <th>1343</th>\n",
       "      <td>85097.42</td>\n",
       "      <td>12</td>\n",
       "      <td>1</td>\n",
       "      <td>27</td>\n",
       "      <td>1</td>\n",
       "      <td>200762301.0</td>\n",
       "    </tr>\n",
       "    <tr>\n",
       "      <th>1344</th>\n",
       "      <td>417.05</td>\n",
       "      <td>12</td>\n",
       "      <td>1</td>\n",
       "      <td>27</td>\n",
       "      <td>1</td>\n",
       "      <td>200726979.0</td>\n",
       "    </tr>\n",
       "  </tbody>\n",
       "</table>\n",
       "<p>1345 rows × 6 columns</p>\n",
       "</div>"
      ],
      "text/plain": [
       "      total_open_amount  doc_create_day  doc_create_month  due_day  due_month  \\\n",
       "0              23231.67              15                12       30         12   \n",
       "1                642.66              15                12       30         12   \n",
       "2                201.50              15                12        2          1   \n",
       "3              15797.76              15                12       30         12   \n",
       "4              11611.60              15                12       30         12   \n",
       "...                 ...             ...               ...      ...        ...   \n",
       "1340           13891.02              12                 1       27          1   \n",
       "1341           21795.65              12                 1       27          1   \n",
       "1342             826.01              12                 1       27          1   \n",
       "1343           85097.42              12                 1       27          1   \n",
       "1344             417.05              12                 1       27          1   \n",
       "\n",
       "               cn  \n",
       "0     200707822.0  \n",
       "1     200726979.0  \n",
       "2     140104409.0  \n",
       "3     200148860.0  \n",
       "4     200769623.0  \n",
       "...           ...  \n",
       "1340  200759878.0  \n",
       "1341  200769623.0  \n",
       "1342  200769623.0  \n",
       "1343  200762301.0  \n",
       "1344  200726979.0  \n",
       "\n",
       "[1345 rows x 6 columns]"
      ]
     },
     "execution_count": 330,
     "metadata": {},
     "output_type": "execute_result"
    }
   ],
   "source": [
    "x_val1 = val1.drop([\"delay\"], axis=1).copy()\n",
    "x_val1"
   ]
  },
  {
   "cell_type": "markdown",
   "metadata": {},
   "source": [
    "# 2] val2"
   ]
  },
  {
   "cell_type": "code",
   "execution_count": 331,
   "metadata": {},
   "outputs": [
    {
     "name": "stdout",
     "output_type": "stream",
     "text": [
      "<class 'pandas.core.frame.DataFrame'>\n",
      "RangeIndex: 4155 entries, 0 to 4154\n",
      "Data columns (total 13 columns):\n",
      " #   Column                  Non-Null Count  Dtype         \n",
      "---  ------                  --------------  -----         \n",
      " 0   business_code           4155 non-null   object        \n",
      " 1   cust_number             4155 non-null   object        \n",
      " 2   name_customer           4155 non-null   object        \n",
      " 3   clear_date              4155 non-null   datetime64[ns]\n",
      " 4   buisness_year           4155 non-null   float64       \n",
      " 5   document_create_date.1  4155 non-null   datetime64[ns]\n",
      " 6   due_in_date             4155 non-null   datetime64[ns]\n",
      " 7   invoice_currency        4155 non-null   object        \n",
      " 8   total_open_amount       4155 non-null   float64       \n",
      " 9   baseline_create_date    4155 non-null   datetime64[ns]\n",
      " 10  cust_payment_terms      4155 non-null   object        \n",
      " 11  isOpen                  4155 non-null   int64         \n",
      " 12  delay                   4155 non-null   float64       \n",
      "dtypes: datetime64[ns](4), float64(3), int64(1), object(5)\n",
      "memory usage: 422.1+ KB\n"
     ]
    }
   ],
   "source": [
    "val2.info()"
   ]
  },
  {
   "cell_type": "code",
   "execution_count": 332,
   "metadata": {},
   "outputs": [
    {
     "name": "stdout",
     "output_type": "stream",
     "text": [
      "<class 'pandas.core.frame.DataFrame'>\n",
      "RangeIndex: 4155 entries, 0 to 4154\n",
      "Data columns (total 7 columns):\n",
      " #   Column             Non-Null Count  Dtype  \n",
      "---  ------             --------------  -----  \n",
      " 0   total_open_amount  4155 non-null   float64\n",
      " 1   delay              4155 non-null   float64\n",
      " 2   doc_create_day     4155 non-null   int64  \n",
      " 3   doc_create_month   4155 non-null   int64  \n",
      " 4   due_day            4155 non-null   int64  \n",
      " 5   due_month          4155 non-null   int64  \n",
      " 6   cn                 4155 non-null   float64\n",
      "dtypes: float64(3), int64(4)\n",
      "memory usage: 227.4 KB\n"
     ]
    }
   ],
   "source": [
    "val2['delay']=val2.delay.apply(lambda x: 0 if x<0 else x)\n",
    "val2.drop(['business_code', 'name_customer', 'clear_date', 'buisness_year', 'invoice_currency', 'baseline_create_date', 'cust_payment_terms', 'isOpen'], axis=1, inplace=True)\n",
    "\n",
    "val2[\"doc_create_day\"] = val2[\"document_create_date.1\"].dt.day\n",
    "val2[\"doc_create_month\"] = val2[\"document_create_date.1\"].dt.month\n",
    "\n",
    "val2[\"due_day\"] = val2[\"due_in_date\"].dt.day\n",
    "val2[\"due_month\"] = val2[\"due_in_date\"].dt.month\n",
    "\n",
    "val2['cn'] = val2['cust_number'].str.extract('(\\d+)')\n",
    "val2.drop('cust_number',axis=1,inplace=True)\n",
    "\n",
    "val2.drop(columns=['document_create_date.1', 'due_in_date'], inplace=True)\n",
    "\n",
    "val2['cn']=val2['cn'].astype(str).astype(float)\n",
    "val2.info()"
   ]
  },
  {
   "cell_type": "code",
   "execution_count": 333,
   "metadata": {},
   "outputs": [
    {
     "data": {
      "text/html": [
       "<div>\n",
       "<style scoped>\n",
       "    .dataframe tbody tr th:only-of-type {\n",
       "        vertical-align: middle;\n",
       "    }\n",
       "\n",
       "    .dataframe tbody tr th {\n",
       "        vertical-align: top;\n",
       "    }\n",
       "\n",
       "    .dataframe thead th {\n",
       "        text-align: right;\n",
       "    }\n",
       "</style>\n",
       "<table border=\"1\" class=\"dataframe\">\n",
       "  <thead>\n",
       "    <tr style=\"text-align: right;\">\n",
       "      <th></th>\n",
       "      <th>total_open_amount</th>\n",
       "      <th>delay</th>\n",
       "      <th>doc_create_day</th>\n",
       "      <th>doc_create_month</th>\n",
       "      <th>due_day</th>\n",
       "      <th>due_month</th>\n",
       "      <th>cn</th>\n",
       "    </tr>\n",
       "  </thead>\n",
       "  <tbody>\n",
       "    <tr>\n",
       "      <th>0</th>\n",
       "      <td>8940.20</td>\n",
       "      <td>0.0</td>\n",
       "      <td>13</td>\n",
       "      <td>1</td>\n",
       "      <td>28</td>\n",
       "      <td>1</td>\n",
       "      <td>200762301.0</td>\n",
       "    </tr>\n",
       "    <tr>\n",
       "      <th>1</th>\n",
       "      <td>5396.01</td>\n",
       "      <td>0.0</td>\n",
       "      <td>13</td>\n",
       "      <td>1</td>\n",
       "      <td>28</td>\n",
       "      <td>1</td>\n",
       "      <td>200729942.0</td>\n",
       "    </tr>\n",
       "    <tr>\n",
       "      <th>2</th>\n",
       "      <td>25025.65</td>\n",
       "      <td>3.0</td>\n",
       "      <td>13</td>\n",
       "      <td>1</td>\n",
       "      <td>1</td>\n",
       "      <td>2</td>\n",
       "      <td>140105686.0</td>\n",
       "    </tr>\n",
       "    <tr>\n",
       "      <th>3</th>\n",
       "      <td>15824.07</td>\n",
       "      <td>0.0</td>\n",
       "      <td>13</td>\n",
       "      <td>1</td>\n",
       "      <td>28</td>\n",
       "      <td>1</td>\n",
       "      <td>200762301.0</td>\n",
       "    </tr>\n",
       "    <tr>\n",
       "      <th>4</th>\n",
       "      <td>19688.89</td>\n",
       "      <td>0.0</td>\n",
       "      <td>13</td>\n",
       "      <td>1</td>\n",
       "      <td>28</td>\n",
       "      <td>1</td>\n",
       "      <td>200769623.0</td>\n",
       "    </tr>\n",
       "    <tr>\n",
       "      <th>...</th>\n",
       "      <td>...</td>\n",
       "      <td>...</td>\n",
       "      <td>...</td>\n",
       "      <td>...</td>\n",
       "      <td>...</td>\n",
       "      <td>...</td>\n",
       "      <td>...</td>\n",
       "    </tr>\n",
       "    <tr>\n",
       "      <th>4150</th>\n",
       "      <td>44450.82</td>\n",
       "      <td>0.0</td>\n",
       "      <td>26</td>\n",
       "      <td>2</td>\n",
       "      <td>12</td>\n",
       "      <td>3</td>\n",
       "      <td>200571849.0</td>\n",
       "    </tr>\n",
       "    <tr>\n",
       "      <th>4151</th>\n",
       "      <td>67471.47</td>\n",
       "      <td>0.0</td>\n",
       "      <td>26</td>\n",
       "      <td>2</td>\n",
       "      <td>12</td>\n",
       "      <td>3</td>\n",
       "      <td>200769623.0</td>\n",
       "    </tr>\n",
       "    <tr>\n",
       "      <th>4152</th>\n",
       "      <td>10349.36</td>\n",
       "      <td>6.0</td>\n",
       "      <td>27</td>\n",
       "      <td>2</td>\n",
       "      <td>13</td>\n",
       "      <td>3</td>\n",
       "      <td>200418007.0</td>\n",
       "    </tr>\n",
       "    <tr>\n",
       "      <th>4153</th>\n",
       "      <td>49290.19</td>\n",
       "      <td>0.0</td>\n",
       "      <td>27</td>\n",
       "      <td>2</td>\n",
       "      <td>13</td>\n",
       "      <td>3</td>\n",
       "      <td>200759878.0</td>\n",
       "    </tr>\n",
       "    <tr>\n",
       "      <th>4154</th>\n",
       "      <td>25143.02</td>\n",
       "      <td>3.0</td>\n",
       "      <td>27</td>\n",
       "      <td>2</td>\n",
       "      <td>13</td>\n",
       "      <td>3</td>\n",
       "      <td>200739044.0</td>\n",
       "    </tr>\n",
       "  </tbody>\n",
       "</table>\n",
       "<p>4155 rows × 7 columns</p>\n",
       "</div>"
      ],
      "text/plain": [
       "      total_open_amount  delay  doc_create_day  doc_create_month  due_day  \\\n",
       "0               8940.20    0.0              13                 1       28   \n",
       "1               5396.01    0.0              13                 1       28   \n",
       "2              25025.65    3.0              13                 1        1   \n",
       "3              15824.07    0.0              13                 1       28   \n",
       "4              19688.89    0.0              13                 1       28   \n",
       "...                 ...    ...             ...               ...      ...   \n",
       "4150           44450.82    0.0              26                 2       12   \n",
       "4151           67471.47    0.0              26                 2       12   \n",
       "4152           10349.36    6.0              27                 2       13   \n",
       "4153           49290.19    0.0              27                 2       13   \n",
       "4154           25143.02    3.0              27                 2       13   \n",
       "\n",
       "      due_month           cn  \n",
       "0             1  200762301.0  \n",
       "1             1  200729942.0  \n",
       "2             2  140105686.0  \n",
       "3             1  200762301.0  \n",
       "4             1  200769623.0  \n",
       "...         ...          ...  \n",
       "4150          3  200571849.0  \n",
       "4151          3  200769623.0  \n",
       "4152          3  200418007.0  \n",
       "4153          3  200759878.0  \n",
       "4154          3  200739044.0  \n",
       "\n",
       "[4155 rows x 7 columns]"
      ]
     },
     "execution_count": 333,
     "metadata": {},
     "output_type": "execute_result"
    }
   ],
   "source": [
    "val2"
   ]
  },
  {
   "cell_type": "markdown",
   "metadata": {},
   "source": [
    "### Splitting val2 into x_val2 and y_val2"
   ]
  },
  {
   "cell_type": "code",
   "execution_count": 334,
   "metadata": {},
   "outputs": [
    {
     "data": {
      "text/plain": [
       "0       0.0\n",
       "1       0.0\n",
       "2       3.0\n",
       "3       0.0\n",
       "4       0.0\n",
       "       ... \n",
       "4150    0.0\n",
       "4151    0.0\n",
       "4152    6.0\n",
       "4153    0.0\n",
       "4154    3.0\n",
       "Name: delay, Length: 4155, dtype: float64"
      ]
     },
     "execution_count": 334,
     "metadata": {},
     "output_type": "execute_result"
    }
   ],
   "source": [
    "y_val2 = val2['delay']\n",
    "y_val2"
   ]
  },
  {
   "cell_type": "code",
   "execution_count": 335,
   "metadata": {},
   "outputs": [
    {
     "data": {
      "text/html": [
       "<div>\n",
       "<style scoped>\n",
       "    .dataframe tbody tr th:only-of-type {\n",
       "        vertical-align: middle;\n",
       "    }\n",
       "\n",
       "    .dataframe tbody tr th {\n",
       "        vertical-align: top;\n",
       "    }\n",
       "\n",
       "    .dataframe thead th {\n",
       "        text-align: right;\n",
       "    }\n",
       "</style>\n",
       "<table border=\"1\" class=\"dataframe\">\n",
       "  <thead>\n",
       "    <tr style=\"text-align: right;\">\n",
       "      <th></th>\n",
       "      <th>total_open_amount</th>\n",
       "      <th>doc_create_day</th>\n",
       "      <th>doc_create_month</th>\n",
       "      <th>due_day</th>\n",
       "      <th>due_month</th>\n",
       "      <th>cn</th>\n",
       "    </tr>\n",
       "  </thead>\n",
       "  <tbody>\n",
       "    <tr>\n",
       "      <th>0</th>\n",
       "      <td>8940.20</td>\n",
       "      <td>13</td>\n",
       "      <td>1</td>\n",
       "      <td>28</td>\n",
       "      <td>1</td>\n",
       "      <td>200762301.0</td>\n",
       "    </tr>\n",
       "    <tr>\n",
       "      <th>1</th>\n",
       "      <td>5396.01</td>\n",
       "      <td>13</td>\n",
       "      <td>1</td>\n",
       "      <td>28</td>\n",
       "      <td>1</td>\n",
       "      <td>200729942.0</td>\n",
       "    </tr>\n",
       "    <tr>\n",
       "      <th>2</th>\n",
       "      <td>25025.65</td>\n",
       "      <td>13</td>\n",
       "      <td>1</td>\n",
       "      <td>1</td>\n",
       "      <td>2</td>\n",
       "      <td>140105686.0</td>\n",
       "    </tr>\n",
       "    <tr>\n",
       "      <th>3</th>\n",
       "      <td>15824.07</td>\n",
       "      <td>13</td>\n",
       "      <td>1</td>\n",
       "      <td>28</td>\n",
       "      <td>1</td>\n",
       "      <td>200762301.0</td>\n",
       "    </tr>\n",
       "    <tr>\n",
       "      <th>4</th>\n",
       "      <td>19688.89</td>\n",
       "      <td>13</td>\n",
       "      <td>1</td>\n",
       "      <td>28</td>\n",
       "      <td>1</td>\n",
       "      <td>200769623.0</td>\n",
       "    </tr>\n",
       "    <tr>\n",
       "      <th>...</th>\n",
       "      <td>...</td>\n",
       "      <td>...</td>\n",
       "      <td>...</td>\n",
       "      <td>...</td>\n",
       "      <td>...</td>\n",
       "      <td>...</td>\n",
       "    </tr>\n",
       "    <tr>\n",
       "      <th>4150</th>\n",
       "      <td>44450.82</td>\n",
       "      <td>26</td>\n",
       "      <td>2</td>\n",
       "      <td>12</td>\n",
       "      <td>3</td>\n",
       "      <td>200571849.0</td>\n",
       "    </tr>\n",
       "    <tr>\n",
       "      <th>4151</th>\n",
       "      <td>67471.47</td>\n",
       "      <td>26</td>\n",
       "      <td>2</td>\n",
       "      <td>12</td>\n",
       "      <td>3</td>\n",
       "      <td>200769623.0</td>\n",
       "    </tr>\n",
       "    <tr>\n",
       "      <th>4152</th>\n",
       "      <td>10349.36</td>\n",
       "      <td>27</td>\n",
       "      <td>2</td>\n",
       "      <td>13</td>\n",
       "      <td>3</td>\n",
       "      <td>200418007.0</td>\n",
       "    </tr>\n",
       "    <tr>\n",
       "      <th>4153</th>\n",
       "      <td>49290.19</td>\n",
       "      <td>27</td>\n",
       "      <td>2</td>\n",
       "      <td>13</td>\n",
       "      <td>3</td>\n",
       "      <td>200759878.0</td>\n",
       "    </tr>\n",
       "    <tr>\n",
       "      <th>4154</th>\n",
       "      <td>25143.02</td>\n",
       "      <td>27</td>\n",
       "      <td>2</td>\n",
       "      <td>13</td>\n",
       "      <td>3</td>\n",
       "      <td>200739044.0</td>\n",
       "    </tr>\n",
       "  </tbody>\n",
       "</table>\n",
       "<p>4155 rows × 6 columns</p>\n",
       "</div>"
      ],
      "text/plain": [
       "      total_open_amount  doc_create_day  doc_create_month  due_day  due_month  \\\n",
       "0               8940.20              13                 1       28          1   \n",
       "1               5396.01              13                 1       28          1   \n",
       "2              25025.65              13                 1        1          2   \n",
       "3              15824.07              13                 1       28          1   \n",
       "4              19688.89              13                 1       28          1   \n",
       "...                 ...             ...               ...      ...        ...   \n",
       "4150           44450.82              26                 2       12          3   \n",
       "4151           67471.47              26                 2       12          3   \n",
       "4152           10349.36              27                 2       13          3   \n",
       "4153           49290.19              27                 2       13          3   \n",
       "4154           25143.02              27                 2       13          3   \n",
       "\n",
       "               cn  \n",
       "0     200762301.0  \n",
       "1     200729942.0  \n",
       "2     140105686.0  \n",
       "3     200762301.0  \n",
       "4     200769623.0  \n",
       "...           ...  \n",
       "4150  200571849.0  \n",
       "4151  200769623.0  \n",
       "4152  200418007.0  \n",
       "4153  200759878.0  \n",
       "4154  200739044.0  \n",
       "\n",
       "[4155 rows x 6 columns]"
      ]
     },
     "execution_count": 335,
     "metadata": {},
     "output_type": "execute_result"
    }
   ],
   "source": [
    "x_val2 = val2.drop([\"delay\"], axis=1).copy()\n",
    "x_val2"
   ]
  },
  {
   "cell_type": "markdown",
   "metadata": {},
   "source": [
    "## 3] x_test"
   ]
  },
  {
   "cell_type": "code",
   "execution_count": 336,
   "metadata": {},
   "outputs": [
    {
     "name": "stdout",
     "output_type": "stream",
     "text": [
      "<class 'pandas.core.frame.DataFrame'>\n",
      "RangeIndex: 10000 entries, 0 to 9999\n",
      "Data columns (total 12 columns):\n",
      " #   Column                  Non-Null Count  Dtype         \n",
      "---  ------                  --------------  -----         \n",
      " 0   business_code           10000 non-null  object        \n",
      " 1   cust_number             10000 non-null  object        \n",
      " 2   name_customer           10000 non-null  object        \n",
      " 3   clear_date              0 non-null      datetime64[ns]\n",
      " 4   buisness_year           10000 non-null  float64       \n",
      " 5   document_create_date.1  10000 non-null  datetime64[ns]\n",
      " 6   due_in_date             10000 non-null  datetime64[ns]\n",
      " 7   invoice_currency        10000 non-null  object        \n",
      " 8   total_open_amount       10000 non-null  float64       \n",
      " 9   baseline_create_date    10000 non-null  datetime64[ns]\n",
      " 10  cust_payment_terms      10000 non-null  object        \n",
      " 11  isOpen                  10000 non-null  int64         \n",
      "dtypes: datetime64[ns](4), float64(2), int64(1), object(5)\n",
      "memory usage: 937.6+ KB\n"
     ]
    }
   ],
   "source": [
    "x_test.info()"
   ]
  },
  {
   "cell_type": "code",
   "execution_count": 337,
   "metadata": {},
   "outputs": [
    {
     "name": "stdout",
     "output_type": "stream",
     "text": [
      "<class 'pandas.core.frame.DataFrame'>\n",
      "RangeIndex: 10000 entries, 0 to 9999\n",
      "Data columns (total 6 columns):\n",
      " #   Column             Non-Null Count  Dtype  \n",
      "---  ------             --------------  -----  \n",
      " 0   total_open_amount  10000 non-null  float64\n",
      " 1   doc_create_day     10000 non-null  int64  \n",
      " 2   doc_create_month   10000 non-null  int64  \n",
      " 3   due_day            10000 non-null  int64  \n",
      " 4   due_month          10000 non-null  int64  \n",
      " 5   cn                 10000 non-null  float64\n",
      "dtypes: float64(2), int64(4)\n",
      "memory usage: 468.9 KB\n"
     ]
    }
   ],
   "source": [
    "x_test.drop(['business_code', 'name_customer', 'clear_date', 'buisness_year', 'invoice_currency', 'baseline_create_date', 'cust_payment_terms', 'isOpen'], axis=1, inplace=True)\n",
    "\n",
    "x_test[\"doc_create_day\"] = x_test[\"document_create_date.1\"].dt.day\n",
    "x_test[\"doc_create_month\"] = x_test[\"document_create_date.1\"].dt.month\n",
    "\n",
    "x_test[\"due_day\"] = x_test[\"due_in_date\"].dt.day\n",
    "x_test[\"due_month\"] = x_test[\"due_in_date\"].dt.month\n",
    "\n",
    "x_test['cn'] = x_test['cust_number'].str.extract('(\\d+)')\n",
    "x_test.drop('cust_number',axis=1,inplace=True)\n",
    "\n",
    "x_test.drop(columns=['document_create_date.1', 'due_in_date'], inplace=True)\n",
    "\n",
    "x_test['cn']=x_test['cn'].astype(str).astype(float)\n",
    "x_test.info()"
   ]
  },
  {
   "cell_type": "code",
   "execution_count": 338,
   "metadata": {},
   "outputs": [
    {
     "data": {
      "text/html": [
       "<div>\n",
       "<style scoped>\n",
       "    .dataframe tbody tr th:only-of-type {\n",
       "        vertical-align: middle;\n",
       "    }\n",
       "\n",
       "    .dataframe tbody tr th {\n",
       "        vertical-align: top;\n",
       "    }\n",
       "\n",
       "    .dataframe thead th {\n",
       "        text-align: right;\n",
       "    }\n",
       "</style>\n",
       "<table border=\"1\" class=\"dataframe\">\n",
       "  <thead>\n",
       "    <tr style=\"text-align: right;\">\n",
       "      <th></th>\n",
       "      <th>total_open_amount</th>\n",
       "      <th>doc_create_day</th>\n",
       "      <th>doc_create_month</th>\n",
       "      <th>due_day</th>\n",
       "      <th>due_month</th>\n",
       "      <th>cn</th>\n",
       "    </tr>\n",
       "  </thead>\n",
       "  <tbody>\n",
       "    <tr>\n",
       "      <th>0</th>\n",
       "      <td>32922.51</td>\n",
       "      <td>27</td>\n",
       "      <td>2</td>\n",
       "      <td>13</td>\n",
       "      <td>3</td>\n",
       "      <td>200769623.0</td>\n",
       "    </tr>\n",
       "    <tr>\n",
       "      <th>1</th>\n",
       "      <td>4827.34</td>\n",
       "      <td>27</td>\n",
       "      <td>2</td>\n",
       "      <td>13</td>\n",
       "      <td>3</td>\n",
       "      <td>200806580.0</td>\n",
       "    </tr>\n",
       "    <tr>\n",
       "      <th>2</th>\n",
       "      <td>14706.47</td>\n",
       "      <td>27</td>\n",
       "      <td>2</td>\n",
       "      <td>13</td>\n",
       "      <td>3</td>\n",
       "      <td>200769623.0</td>\n",
       "    </tr>\n",
       "    <tr>\n",
       "      <th>3</th>\n",
       "      <td>413.83</td>\n",
       "      <td>27</td>\n",
       "      <td>2</td>\n",
       "      <td>13</td>\n",
       "      <td>3</td>\n",
       "      <td>200726979.0</td>\n",
       "    </tr>\n",
       "    <tr>\n",
       "      <th>4</th>\n",
       "      <td>15651.65</td>\n",
       "      <td>27</td>\n",
       "      <td>2</td>\n",
       "      <td>2</td>\n",
       "      <td>5</td>\n",
       "      <td>200014556.0</td>\n",
       "    </tr>\n",
       "    <tr>\n",
       "      <th>...</th>\n",
       "      <td>...</td>\n",
       "      <td>...</td>\n",
       "      <td>...</td>\n",
       "      <td>...</td>\n",
       "      <td>...</td>\n",
       "      <td>...</td>\n",
       "    </tr>\n",
       "    <tr>\n",
       "      <th>9995</th>\n",
       "      <td>34301.32</td>\n",
       "      <td>15</td>\n",
       "      <td>5</td>\n",
       "      <td>30</td>\n",
       "      <td>5</td>\n",
       "      <td>200541916.0</td>\n",
       "    </tr>\n",
       "    <tr>\n",
       "      <th>9996</th>\n",
       "      <td>22835.50</td>\n",
       "      <td>17</td>\n",
       "      <td>5</td>\n",
       "      <td>1</td>\n",
       "      <td>6</td>\n",
       "      <td>200759878.0</td>\n",
       "    </tr>\n",
       "    <tr>\n",
       "      <th>9997</th>\n",
       "      <td>1232.00</td>\n",
       "      <td>18</td>\n",
       "      <td>5</td>\n",
       "      <td>2</td>\n",
       "      <td>6</td>\n",
       "      <td>200915438.0</td>\n",
       "    </tr>\n",
       "    <tr>\n",
       "      <th>9998</th>\n",
       "      <td>7035.00</td>\n",
       "      <td>19</td>\n",
       "      <td>5</td>\n",
       "      <td>19</td>\n",
       "      <td>5</td>\n",
       "      <td>100027744.0</td>\n",
       "    </tr>\n",
       "    <tr>\n",
       "      <th>9999</th>\n",
       "      <td>1.17</td>\n",
       "      <td>22</td>\n",
       "      <td>5</td>\n",
       "      <td>21</td>\n",
       "      <td>6</td>\n",
       "      <td>200756072.0</td>\n",
       "    </tr>\n",
       "  </tbody>\n",
       "</table>\n",
       "<p>10000 rows × 6 columns</p>\n",
       "</div>"
      ],
      "text/plain": [
       "      total_open_amount  doc_create_day  doc_create_month  due_day  due_month  \\\n",
       "0              32922.51              27                 2       13          3   \n",
       "1               4827.34              27                 2       13          3   \n",
       "2              14706.47              27                 2       13          3   \n",
       "3                413.83              27                 2       13          3   \n",
       "4              15651.65              27                 2        2          5   \n",
       "...                 ...             ...               ...      ...        ...   \n",
       "9995           34301.32              15                 5       30          5   \n",
       "9996           22835.50              17                 5        1          6   \n",
       "9997            1232.00              18                 5        2          6   \n",
       "9998            7035.00              19                 5       19          5   \n",
       "9999               1.17              22                 5       21          6   \n",
       "\n",
       "               cn  \n",
       "0     200769623.0  \n",
       "1     200806580.0  \n",
       "2     200769623.0  \n",
       "3     200726979.0  \n",
       "4     200014556.0  \n",
       "...           ...  \n",
       "9995  200541916.0  \n",
       "9996  200759878.0  \n",
       "9997  200915438.0  \n",
       "9998  100027744.0  \n",
       "9999  200756072.0  \n",
       "\n",
       "[10000 rows x 6 columns]"
      ]
     },
     "execution_count": 338,
     "metadata": {},
     "output_type": "execute_result"
    }
   ],
   "source": [
    "x_test"
   ]
  },
  {
   "cell_type": "markdown",
   "metadata": {},
   "source": [
    "# FEATURE SELECTION"
   ]
  },
  {
   "cell_type": "code",
   "execution_count": 339,
   "metadata": {},
   "outputs": [
    {
     "data": {
      "text/plain": [
       "<AxesSubplot:>"
      ]
     },
     "execution_count": 339,
     "metadata": {},
     "output_type": "execute_result"
    },
    {
     "data": {
      "image/png": "[encoded data removed]",
      "text/plain": [
       "<Figure size 1008x720 with 2 Axes>"
      ]
     },
     "metadata": {
      "needs_background": "light"
     },
     "output_type": "display_data"
    }
   ],
   "source": [
    "plt.figure(figsize=(14,10))\n",
    "cor = train_data.corr()\n",
    "sns.heatmap(cor,cmap = 'viridis',annot=True)"
   ]
  },
  {
   "cell_type": "markdown",
   "metadata": {},
   "source": [
    "### As we can see from the above graph due_month and doc_create_month are highly correlated and thus they will have a negative impact on our model. So drop remove due_month. "
   ]
  },
  {
   "cell_type": "code",
   "execution_count": 340,
   "metadata": {},
   "outputs": [],
   "source": [
    "x_train = x_train.drop([\"due_month\"], axis=1).copy()\n",
    "x_val1 = x_val1.drop([\"due_month\"], axis=1).copy()\n",
    "x_val2 = x_val2.drop([\"due_month\"], axis=1).copy()\n",
    "x_test = x_test.drop([\"due_month\"], axis=1).copy()"
   ]
  },
  {
   "cell_type": "markdown",
   "metadata": {},
   "source": [
    "# MODELING"
   ]
  },
  {
   "cell_type": "markdown",
   "metadata": {},
   "source": [
    "#### As this is a regression model we will use the following models:-\n",
    "#### 1] Linear Regressor\n",
    "#### 2] SVR\n",
    "#### 3] Decision Tree\n",
    "#### 4] Random Forest\n",
    "#### 5] XgBoost"
   ]
  },
  {
   "cell_type": "markdown",
   "metadata": {},
   "source": [
    "# XGBoost"
   ]
  },
  {
   "cell_type": "code",
   "execution_count": 341,
   "metadata": {},
   "outputs": [
    {
     "name": "stderr",
     "output_type": "stream",
     "text": [
      "C:\\Python37\\lib\\site-packages\\xgboost\\data.py:262: FutureWarning: pandas.Int64Index is deprecated and will be removed from pandas in a future version. Use pandas.Index with the appropriate dtype instead.\n",
      "  elif isinstance(data.columns, (pd.Int64Index, pd.RangeIndex)):\n"
     ]
    }
   ],
   "source": [
    "#fitting the model \n",
    "\n",
    "clf = xgb.XGBRegressor()\n",
    "clf.fit(x_train, y_train)\n",
    "\n",
    "# Predicting the Validation Set Results\n",
    "predicted = clf.predict(x_val1)"
   ]
  },
  {
   "cell_type": "code",
   "execution_count": 342,
   "metadata": {},
   "outputs": [
    {
     "name": "stdout",
     "output_type": "stream",
     "text": [
      "Mean absolute error = 3.09\n",
      "Mean squared error = 93.64\n",
      "Median absolute error = 1.07\n",
      "Explain variance score = 0.24\n",
      "R2 score = 0.24\n",
      "Accuracy=  0.23611098798829433\n"
     ]
    },
    {
     "name": "stderr",
     "output_type": "stream",
     "text": [
      "C:\\Python37\\lib\\site-packages\\xgboost\\data.py:262: FutureWarning: pandas.Int64Index is deprecated and will be removed from pandas in a future version. Use pandas.Index with the appropriate dtype instead.\n",
      "  elif isinstance(data.columns, (pd.Int64Index, pd.RangeIndex)):\n"
     ]
    }
   ],
   "source": [
    "# predicting all types of error and accuracy\n",
    "\n",
    "print(\"Mean absolute error =\", round(sm.mean_absolute_error(y_val1, predicted), 2)) \n",
    "print(\"Mean squared error =\", round(sm.mean_squared_error(y_val1, predicted), 2)) \n",
    "print(\"Median absolute error =\", round(sm.median_absolute_error(y_val1, predicted), 2)) \n",
    "print(\"Explain variance score =\", round(sm.explained_variance_score(y_val1, predicted), 2)) \n",
    "print(\"R2 score =\", round(sm.r2_score(y_val1, predicted), 2))\n",
    "print(\"Accuracy= \", clf.score(x_val1,y_val1))"
   ]
  },
  {
   "cell_type": "markdown",
   "metadata": {},
   "source": [
    "# Random Forest"
   ]
  },
  {
   "cell_type": "code",
   "execution_count": 343,
   "metadata": {},
   "outputs": [],
   "source": [
    "clf2 = RandomForestRegressor()\n",
    "clf2.fit(x_train, y_train)\n",
    "\n",
    "# Predicting the Validation Set Results\n",
    "predicted2 = clf2.predict(x_val1)"
   ]
  },
  {
   "cell_type": "code",
   "execution_count": 344,
   "metadata": {},
   "outputs": [
    {
     "name": "stdout",
     "output_type": "stream",
     "text": [
      "Mean absolute error = 2.98\n",
      "Mean squared error = 84.67\n",
      "Median absolute error = 1.12\n",
      "Explain variance score = 0.31\n",
      "R2 score = 0.31\n",
      "Accuracy=  0.3092517918512254\n"
     ]
    }
   ],
   "source": [
    "# predicting all types of error and accuracy\n",
    "\n",
    "print(\"Mean absolute error =\", round(sm.mean_absolute_error(y_val1, predicted2), 2)) \n",
    "print(\"Mean squared error =\", round(sm.mean_squared_error(y_val1, predicted2), 2)) \n",
    "print(\"Median absolute error =\", round(sm.median_absolute_error(y_val1, predicted2), 2)) \n",
    "print(\"Explain variance score =\", round(sm.explained_variance_score(y_val1, predicted2), 2)) \n",
    "print(\"R2 score =\", round(sm.r2_score(y_val1, predicted2), 2))\n",
    "print(\"Accuracy= \", clf2.score(x_val1,y_val1))"
   ]
  },
  {
   "cell_type": "markdown",
   "metadata": {},
   "source": [
    "# DecisionTreeRegressor"
   ]
  },
  {
   "cell_type": "code",
   "execution_count": 345,
   "metadata": {},
   "outputs": [],
   "source": [
    "# Fitting Decision Tree Regressor to the Training Set\n",
    "clf3 = DecisionTreeRegressor()\n",
    "clf3.fit(x_train, y_train)\n",
    "\n",
    "# Predicting the Validation Set Results\n",
    "predicted3 = clf3.predict(x_val1)"
   ]
  },
  {
   "cell_type": "code",
   "execution_count": 346,
   "metadata": {},
   "outputs": [
    {
     "name": "stdout",
     "output_type": "stream",
     "text": [
      "Mean absolute error = 3.45\n",
      "Mean squared error = 160.5\n",
      "Median absolute error = 1.0\n",
      "Explain variance score = -0.31\n",
      "R2 score = -0.31\n",
      "Accuracy=  -0.3094018405176342\n"
     ]
    }
   ],
   "source": [
    "# predicting all types of error and accuracy\n",
    "\n",
    "print(\"Mean absolute error =\", round(sm.mean_absolute_error(y_val1, predicted3), 2)) \n",
    "print(\"Mean squared error =\", round(sm.mean_squared_error(y_val1, predicted3), 2)) \n",
    "print(\"Median absolute error =\", round(sm.median_absolute_error(y_val1, predicted3), 2)) \n",
    "print(\"Explain variance score =\", round(sm.explained_variance_score(y_val1, predicted3), 2)) \n",
    "print(\"R2 score =\", round(sm.r2_score(y_val1, predicted3), 2))\n",
    "print(\"Accuracy= \", clf3.score(x_val1,y_val1))"
   ]
  },
  {
   "cell_type": "markdown",
   "metadata": {},
   "source": [
    "# LINEAR REGRESSION"
   ]
  },
  {
   "cell_type": "code",
   "execution_count": 347,
   "metadata": {},
   "outputs": [
    {
     "name": "stderr",
     "output_type": "stream",
     "text": [
      "C:\\Python37\\lib\\site-packages\\xgboost\\data.py:262: FutureWarning: pandas.Int64Index is deprecated and will be removed from pandas in a future version. Use pandas.Index with the appropriate dtype instead.\n",
      "  elif isinstance(data.columns, (pd.Int64Index, pd.RangeIndex)):\n"
     ]
    }
   ],
   "source": [
    "# Fitting Simple Linear Regression to the Training Set\n",
    "clf5 = LinearRegression()\n",
    "clf5.fit(x_train, y_train)\n",
    "\n",
    "# Predicting the Test Set Results\n",
    "predicted5 = clf.predict(x_val1)"
   ]
  },
  {
   "cell_type": "code",
   "execution_count": 348,
   "metadata": {},
   "outputs": [
    {
     "name": "stdout",
     "output_type": "stream",
     "text": [
      "Mean absolute error = 3.09\n",
      "Mean squared error = 93.64\n",
      "Median absolute error = 1.07\n",
      "Explain variance score = 0.24\n",
      "R2 score = 0.24\n",
      "Accuracy=  0.22509104062354868\n"
     ]
    }
   ],
   "source": [
    "# predicting all types of error and accuracy\n",
    "\n",
    "print(\"Mean absolute error =\", round(sm.mean_absolute_error(y_val1, predicted5), 2)) \n",
    "print(\"Mean squared error =\", round(sm.mean_squared_error(y_val1, predicted5), 2)) \n",
    "print(\"Median absolute error =\", round(sm.median_absolute_error(y_val1, predicted5), 2)) \n",
    "print(\"Explain variance score =\", round(sm.explained_variance_score(y_val1, predicted5), 2)) \n",
    "print(\"R2 score =\", round(sm.r2_score(y_val1, predicted5), 2))\n",
    "print(\"Accuracy= \", clf5.score(x_val1,y_val1))"
   ]
  },
  {
   "cell_type": "markdown",
   "metadata": {},
   "source": [
    "# HYPER-PARAMETER TUNING"
   ]
  },
  {
   "cell_type": "code",
   "execution_count": 349,
   "metadata": {},
   "outputs": [],
   "source": [
    "# now we will hypertune our parameters for better and accurate results and avoiding overfitting\n",
    "\n",
    "# we will set some parameter\n",
    "params={\n",
    " \"learning_rate\"    : [0.05, 0.10, 0.15, 0.20, 0.25, 0.30 ] ,\n",
    " \"max_depth\"        : [ 3, 4, 5, 6, 8, 10, 12, 15],\n",
    " \"min_child_weight\" : [ 1, 3, 5, 7 ],\n",
    " \"gamma\"            : [ 0.0, 0.1, 0.2 , 0.3, 0.4 ],\n",
    " \"colsample_bytree\" : [ 0.3, 0.4, 0.5 , 0.7 ]\n",
    "    \n",
    "}"
   ]
  },
  {
   "cell_type": "markdown",
   "metadata": {},
   "source": [
    "### In this we will fit and check for best parameters for our model using RandomizedSearchCV"
   ]
  },
  {
   "cell_type": "code",
   "execution_count": 350,
   "metadata": {},
   "outputs": [],
   "source": [
    "reg=xgb.XGBRegressor()\n",
    "random_search=RandomizedSearchCV(reg,param_distributions=params,n_iter=5,n_jobs=-1,cv=5,verbose=3)"
   ]
  },
  {
   "cell_type": "code",
   "execution_count": 351,
   "metadata": {},
   "outputs": [
    {
     "name": "stdout",
     "output_type": "stream",
     "text": [
      "Fitting 5 folds for each of 5 candidates, totalling 25 fits\n"
     ]
    },
    {
     "name": "stderr",
     "output_type": "stream",
     "text": [
      "C:\\Python37\\lib\\site-packages\\xgboost\\data.py:262: FutureWarning: pandas.Int64Index is deprecated and will be removed from pandas in a future version. Use pandas.Index with the appropriate dtype instead.\n",
      "  elif isinstance(data.columns, (pd.Int64Index, pd.RangeIndex)):\n"
     ]
    },
    {
     "data": {
      "text/plain": [
       "RandomizedSearchCV(cv=5,\n",
       "                   estimator=XGBRegressor(base_score=None, booster=None,\n",
       "                                          colsample_bylevel=None,\n",
       "                                          colsample_bynode=None,\n",
       "                                          colsample_bytree=None,\n",
       "                                          enable_categorical=False, gamma=None,\n",
       "                                          gpu_id=None, importance_type=None,\n",
       "                                          interaction_constraints=None,\n",
       "                                          learning_rate=None,\n",
       "                                          max_delta_step=None, max_depth=None,\n",
       "                                          min_child_weight=None, missing=nan,\n",
       "                                          monotone_constraints=...\n",
       "                                          reg_alpha=None, reg_lambda=None,\n",
       "                                          scale_pos_weight=None, subsample=None,\n",
       "                                          tree_method=None,\n",
       "                                          validate_parameters=None,\n",
       "                                          verbosity=None),\n",
       "                   n_iter=5, n_jobs=-1,\n",
       "                   param_distributions={'colsample_bytree': [0.3, 0.4, 0.5,\n",
       "                                                             0.7],\n",
       "                                        'gamma': [0.0, 0.1, 0.2, 0.3, 0.4],\n",
       "                                        'learning_rate': [0.05, 0.1, 0.15, 0.2,\n",
       "                                                          0.25, 0.3],\n",
       "                                        'max_depth': [3, 4, 5, 6, 8, 10, 12,\n",
       "                                                      15],\n",
       "                                        'min_child_weight': [1, 3, 5, 7]},\n",
       "                   verbose=3)"
      ]
     },
     "execution_count": 351,
     "metadata": {},
     "output_type": "execute_result"
    }
   ],
   "source": [
    "random_search.fit(x_train, y_train)"
   ]
  },
  {
   "cell_type": "markdown",
   "metadata": {},
   "source": [
    "## Checking for best parameters."
   ]
  },
  {
   "cell_type": "code",
   "execution_count": 352,
   "metadata": {},
   "outputs": [
    {
     "data": {
      "text/plain": [
       "XGBRegressor(base_score=0.5, booster='gbtree', colsample_bylevel=1,\n",
       "             colsample_bynode=1, colsample_bytree=0.4, enable_categorical=False,\n",
       "             gamma=0.4, gpu_id=-1, importance_type=None,\n",
       "             interaction_constraints='', learning_rate=0.05, max_delta_step=0,\n",
       "             max_depth=4, min_child_weight=1, missing=nan,\n",
       "             monotone_constraints='()', n_estimators=100, n_jobs=8,\n",
       "             num_parallel_tree=1, predictor='auto', random_state=0, reg_alpha=0,\n",
       "             reg_lambda=1, scale_pos_weight=1, subsample=1, tree_method='exact',\n",
       "             validate_parameters=1, verbosity=None)"
      ]
     },
     "execution_count": 352,
     "metadata": {},
     "output_type": "execute_result"
    }
   ],
   "source": [
    "random_search.best_estimator_"
   ]
  },
  {
   "cell_type": "markdown",
   "metadata": {},
   "source": [
    "## Using these parameters and checking against val2"
   ]
  },
  {
   "cell_type": "code",
   "execution_count": 353,
   "metadata": {},
   "outputs": [],
   "source": [
    "cl = xgb.XGBRegressor(base_score=0.5, booster='gbtree', colsample_bylevel=1,\n",
    "             colsample_bynode=1, colsample_bytree=0.7, gamma=0.2, gpu_id=-1,\n",
    "             importance_type='gain', interaction_constraints='',\n",
    "             learning_rate=0.2, max_delta_step=0, max_depth=8,\n",
    "             min_child_weight=3, monotone_constraints='()',\n",
    "             n_estimators=100, n_jobs=8, num_parallel_tree=1, random_state=0,\n",
    "             reg_alpha=0, reg_lambda=1, scale_pos_weight=1, subsample=1,\n",
    "             tree_method='exact', validate_parameters=1, verbosity=None)\n",
    "cl.fit(x_train, y_train)\n",
    "# Predicting the Test Set Results\n",
    "predicted = cl.predict(x_val2)"
   ]
  },
  {
   "cell_type": "code",
   "execution_count": 354,
   "metadata": {},
   "outputs": [
    {
     "name": "stdout",
     "output_type": "stream",
     "text": [
      "Mean absolute error = 2.41\n",
      "Mean squared error = 30.5\n",
      "Median absolute error = 1.25\n",
      "Explain variance score = 0.5\n",
      "R2 score = 0.5\n",
      "Accuracy=  0.4955521291920757\n"
     ]
    },
    {
     "name": "stderr",
     "output_type": "stream",
     "text": [
      "C:\\Python37\\lib\\site-packages\\xgboost\\data.py:262: FutureWarning: pandas.Int64Index is deprecated and will be removed from pandas in a future version. Use pandas.Index with the appropriate dtype instead.\n",
      "  elif isinstance(data.columns, (pd.Int64Index, pd.RangeIndex)):\n"
     ]
    }
   ],
   "source": [
    "# predicting all types of error and accuracy\n",
    "\n",
    "print(\"Mean absolute error =\", round(sm.mean_absolute_error(y_val2, predicted), 2)) \n",
    "print(\"Mean squared error =\", round(sm.mean_squared_error(y_val2, predicted), 2)) \n",
    "print(\"Median absolute error =\", round(sm.median_absolute_error(y_val2, predicted), 2)) \n",
    "print(\"Explain variance score =\", round(sm.explained_variance_score(y_val2, predicted), 2)) \n",
    "print(\"R2 score =\", round(sm.r2_score(y_val2, predicted), 2))\n",
    "print(\"Accuracy= \", cl.score(x_val2,y_val2))"
   ]
  },
  {
   "cell_type": "markdown",
   "metadata": {},
   "source": [
    "# TEST"
   ]
  },
  {
   "cell_type": "code",
   "execution_count": 355,
   "metadata": {},
   "outputs": [
    {
     "name": "stderr",
     "output_type": "stream",
     "text": [
      "C:\\Python37\\lib\\site-packages\\xgboost\\data.py:262: FutureWarning: pandas.Int64Index is deprecated and will be removed from pandas in a future version. Use pandas.Index with the appropriate dtype instead.\n",
      "  elif isinstance(data.columns, (pd.Int64Index, pd.RangeIndex)):\n"
     ]
    }
   ],
   "source": [
    "predicted1 = cl.predict(x_test)"
   ]
  },
  {
   "cell_type": "code",
   "execution_count": 356,
   "metadata": {},
   "outputs": [
    {
     "data": {
      "text/plain": [
       "array([ 1,  1,  1, ...,  1,  3, 61])"
      ]
     },
     "execution_count": 356,
     "metadata": {},
     "output_type": "execute_result"
    }
   ],
   "source": [
    "predicted1=np.around(predicted1)\n",
    "predicted1.astype(int)"
   ]
  },
  {
   "cell_type": "code",
   "execution_count": 357,
   "metadata": {},
   "outputs": [
    {
     "data": {
      "text/plain": [
       "10000"
      ]
     },
     "execution_count": 357,
     "metadata": {},
     "output_type": "execute_result"
    }
   ],
   "source": [
    "len(predicted1)"
   ]
  },
  {
   "cell_type": "markdown",
   "metadata": {},
   "source": [
    "### We got the delay on test set.\n",
    "### Creating a new dataframe "
   ]
  },
  {
   "cell_type": "code",
   "execution_count": 358,
   "metadata": {},
   "outputs": [],
   "source": [
    "Col=pd.DataFrame()"
   ]
  },
  {
   "cell_type": "markdown",
   "metadata": {},
   "source": [
    "Appending the delay predicted column in it"
   ]
  },
  {
   "cell_type": "code",
   "execution_count": 359,
   "metadata": {},
   "outputs": [
    {
     "data": {
      "text/html": [
       "<div>\n",
       "<style scoped>\n",
       "    .dataframe tbody tr th:only-of-type {\n",
       "        vertical-align: middle;\n",
       "    }\n",
       "\n",
       "    .dataframe tbody tr th {\n",
       "        vertical-align: top;\n",
       "    }\n",
       "\n",
       "    .dataframe thead th {\n",
       "        text-align: right;\n",
       "    }\n",
       "</style>\n",
       "<table border=\"1\" class=\"dataframe\">\n",
       "  <thead>\n",
       "    <tr style=\"text-align: right;\">\n",
       "      <th></th>\n",
       "      <th>Delay</th>\n",
       "    </tr>\n",
       "  </thead>\n",
       "  <tbody>\n",
       "    <tr>\n",
       "      <th>0</th>\n",
       "      <td>1 days</td>\n",
       "    </tr>\n",
       "    <tr>\n",
       "      <th>1</th>\n",
       "      <td>1 days</td>\n",
       "    </tr>\n",
       "    <tr>\n",
       "      <th>2</th>\n",
       "      <td>1 days</td>\n",
       "    </tr>\n",
       "    <tr>\n",
       "      <th>3</th>\n",
       "      <td>2 days</td>\n",
       "    </tr>\n",
       "    <tr>\n",
       "      <th>4</th>\n",
       "      <td>2 days</td>\n",
       "    </tr>\n",
       "    <tr>\n",
       "      <th>...</th>\n",
       "      <td>...</td>\n",
       "    </tr>\n",
       "    <tr>\n",
       "      <th>9995</th>\n",
       "      <td>1 days</td>\n",
       "    </tr>\n",
       "    <tr>\n",
       "      <th>9996</th>\n",
       "      <td>1 days</td>\n",
       "    </tr>\n",
       "    <tr>\n",
       "      <th>9997</th>\n",
       "      <td>1 days</td>\n",
       "    </tr>\n",
       "    <tr>\n",
       "      <th>9998</th>\n",
       "      <td>3 days</td>\n",
       "    </tr>\n",
       "    <tr>\n",
       "      <th>9999</th>\n",
       "      <td>61 days</td>\n",
       "    </tr>\n",
       "  </tbody>\n",
       "</table>\n",
       "<p>10000 rows × 1 columns</p>\n",
       "</div>"
      ],
      "text/plain": [
       "       Delay\n",
       "0     1 days\n",
       "1     1 days\n",
       "2     1 days\n",
       "3     2 days\n",
       "4     2 days\n",
       "...      ...\n",
       "9995  1 days\n",
       "9996  1 days\n",
       "9997  1 days\n",
       "9998  3 days\n",
       "9999 61 days\n",
       "\n",
       "[10000 rows x 1 columns]"
      ]
     },
     "execution_count": 359,
     "metadata": {},
     "output_type": "execute_result"
    }
   ],
   "source": [
    "Delay=[]\n",
    "for x in predicted1:\n",
    "    Delay.append(pd.Timedelta(days=x))\n",
    "Col['Delay'] = Delay\n",
    "Col"
   ]
  },
  {
   "cell_type": "code",
   "execution_count": 360,
   "metadata": {},
   "outputs": [
    {
     "data": {
      "text/html": [
       "<div>\n",
       "<style scoped>\n",
       "    .dataframe tbody tr th:only-of-type {\n",
       "        vertical-align: middle;\n",
       "    }\n",
       "\n",
       "    .dataframe tbody tr th {\n",
       "        vertical-align: top;\n",
       "    }\n",
       "\n",
       "    .dataframe thead th {\n",
       "        text-align: right;\n",
       "    }\n",
       "</style>\n",
       "<table border=\"1\" class=\"dataframe\">\n",
       "  <thead>\n",
       "    <tr style=\"text-align: right;\">\n",
       "      <th></th>\n",
       "      <th>Delay</th>\n",
       "      <th>clear_date</th>\n",
       "    </tr>\n",
       "  </thead>\n",
       "  <tbody>\n",
       "    <tr>\n",
       "      <th>0</th>\n",
       "      <td>1 days</td>\n",
       "      <td>2020-03-14</td>\n",
       "    </tr>\n",
       "    <tr>\n",
       "      <th>1</th>\n",
       "      <td>1 days</td>\n",
       "      <td>2020-03-14</td>\n",
       "    </tr>\n",
       "    <tr>\n",
       "      <th>2</th>\n",
       "      <td>1 days</td>\n",
       "      <td>2020-03-14</td>\n",
       "    </tr>\n",
       "    <tr>\n",
       "      <th>3</th>\n",
       "      <td>2 days</td>\n",
       "      <td>2020-03-15</td>\n",
       "    </tr>\n",
       "    <tr>\n",
       "      <th>4</th>\n",
       "      <td>2 days</td>\n",
       "      <td>2020-05-04</td>\n",
       "    </tr>\n",
       "    <tr>\n",
       "      <th>...</th>\n",
       "      <td>...</td>\n",
       "      <td>...</td>\n",
       "    </tr>\n",
       "    <tr>\n",
       "      <th>9995</th>\n",
       "      <td>1 days</td>\n",
       "      <td>2020-05-31</td>\n",
       "    </tr>\n",
       "    <tr>\n",
       "      <th>9996</th>\n",
       "      <td>1 days</td>\n",
       "      <td>2020-06-02</td>\n",
       "    </tr>\n",
       "    <tr>\n",
       "      <th>9997</th>\n",
       "      <td>1 days</td>\n",
       "      <td>2020-06-03</td>\n",
       "    </tr>\n",
       "    <tr>\n",
       "      <th>9998</th>\n",
       "      <td>3 days</td>\n",
       "      <td>2020-05-22</td>\n",
       "    </tr>\n",
       "    <tr>\n",
       "      <th>9999</th>\n",
       "      <td>61 days</td>\n",
       "      <td>2020-08-21</td>\n",
       "    </tr>\n",
       "  </tbody>\n",
       "</table>\n",
       "<p>10000 rows × 2 columns</p>\n",
       "</div>"
      ],
      "text/plain": [
       "       Delay clear_date\n",
       "0     1 days 2020-03-14\n",
       "1     1 days 2020-03-14\n",
       "2     1 days 2020-03-14\n",
       "3     2 days 2020-03-15\n",
       "4     2 days 2020-05-04\n",
       "...      ...        ...\n",
       "9995  1 days 2020-05-31\n",
       "9996  1 days 2020-06-02\n",
       "9997  1 days 2020-06-03\n",
       "9998  3 days 2020-05-22\n",
       "9999 61 days 2020-08-21\n",
       "\n",
       "[10000 rows x 2 columns]"
      ]
     },
     "execution_count": 360,
     "metadata": {},
     "output_type": "execute_result"
    }
   ],
   "source": [
    "# Predicting the clear date\n",
    "Col['clear_date'] = ts['due_in_date']+Col['Delay']\n",
    "Col"
   ]
  },
  {
   "cell_type": "markdown",
   "metadata": {},
   "source": [
    "# Creating the Aging Bucket"
   ]
  },
  {
   "cell_type": "code",
   "execution_count": 361,
   "metadata": {},
   "outputs": [
    {
     "data": {
      "text/html": [
       "<div>\n",
       "<style scoped>\n",
       "    .dataframe tbody tr th:only-of-type {\n",
       "        vertical-align: middle;\n",
       "    }\n",
       "\n",
       "    .dataframe tbody tr th {\n",
       "        vertical-align: top;\n",
       "    }\n",
       "\n",
       "    .dataframe thead th {\n",
       "        text-align: right;\n",
       "    }\n",
       "</style>\n",
       "<table border=\"1\" class=\"dataframe\">\n",
       "  <thead>\n",
       "    <tr style=\"text-align: right;\">\n",
       "      <th></th>\n",
       "      <th>clear_date</th>\n",
       "      <th>Aging Bucket</th>\n",
       "    </tr>\n",
       "  </thead>\n",
       "  <tbody>\n",
       "    <tr>\n",
       "      <th>0</th>\n",
       "      <td>2020-03-14</td>\n",
       "      <td>0-15days</td>\n",
       "    </tr>\n",
       "    <tr>\n",
       "      <th>1</th>\n",
       "      <td>2020-03-14</td>\n",
       "      <td>0-15days</td>\n",
       "    </tr>\n",
       "    <tr>\n",
       "      <th>2</th>\n",
       "      <td>2020-03-14</td>\n",
       "      <td>0-15days</td>\n",
       "    </tr>\n",
       "    <tr>\n",
       "      <th>3</th>\n",
       "      <td>2020-03-15</td>\n",
       "      <td>0-15days</td>\n",
       "    </tr>\n",
       "    <tr>\n",
       "      <th>4</th>\n",
       "      <td>2020-05-04</td>\n",
       "      <td>0-15days</td>\n",
       "    </tr>\n",
       "    <tr>\n",
       "      <th>...</th>\n",
       "      <td>...</td>\n",
       "      <td>...</td>\n",
       "    </tr>\n",
       "    <tr>\n",
       "      <th>9995</th>\n",
       "      <td>2020-05-31</td>\n",
       "      <td>0-15days</td>\n",
       "    </tr>\n",
       "    <tr>\n",
       "      <th>9996</th>\n",
       "      <td>2020-06-02</td>\n",
       "      <td>0-15days</td>\n",
       "    </tr>\n",
       "    <tr>\n",
       "      <th>9997</th>\n",
       "      <td>2020-06-03</td>\n",
       "      <td>0-15days</td>\n",
       "    </tr>\n",
       "    <tr>\n",
       "      <th>9998</th>\n",
       "      <td>2020-05-22</td>\n",
       "      <td>0-15days</td>\n",
       "    </tr>\n",
       "    <tr>\n",
       "      <th>9999</th>\n",
       "      <td>2020-08-21</td>\n",
       "      <td>Greater than 60 days</td>\n",
       "    </tr>\n",
       "  </tbody>\n",
       "</table>\n",
       "<p>10000 rows × 2 columns</p>\n",
       "</div>"
      ],
      "text/plain": [
       "     clear_date          Aging Bucket\n",
       "0    2020-03-14              0-15days\n",
       "1    2020-03-14              0-15days\n",
       "2    2020-03-14              0-15days\n",
       "3    2020-03-15              0-15days\n",
       "4    2020-05-04              0-15days\n",
       "...         ...                   ...\n",
       "9995 2020-05-31              0-15days\n",
       "9996 2020-06-02              0-15days\n",
       "9997 2020-06-03              0-15days\n",
       "9998 2020-05-22              0-15days\n",
       "9999 2020-08-21  Greater than 60 days\n",
       "\n",
       "[10000 rows x 2 columns]"
      ]
     },
     "execution_count": 361,
     "metadata": {},
     "output_type": "execute_result"
    }
   ],
   "source": [
    "aging_bucket = []\n",
    "for x in predicted1:\n",
    "    if x<=15:\n",
    "        aging_bucket.append(\"0-15days\")\n",
    "    elif x<=30:\n",
    "        aging_bucket.append(\"16-30days\")\n",
    "    elif x<=45:\n",
    "        aging_bucket.append(\"31-45days\")\n",
    "    elif x<=60:\n",
    "        aging_bucket.append(\"46-60days\")\n",
    "    else:\n",
    "        aging_bucket.append(\"Greater than 60 days\")\n",
    "Col['Aging Bucket']= aging_bucket\n",
    "Col.drop(['Delay'],axis=1,inplace=True)\n",
    "Col"
   ]
  },
  {
   "cell_type": "code",
   "execution_count": 367,
   "metadata": {},
   "outputs": [],
   "source": [
    "Col.to_csv(\"Delay.csv\")"
   ]
  },
  {
   "cell_type": "code",
   "execution_count": 369,
   "metadata": {},
   "outputs": [
    {
     "data": {
      "text/html": [
       "<div>\n",
       "<style scoped>\n",
       "    .dataframe tbody tr th:only-of-type {\n",
       "        vertical-align: middle;\n",
       "    }\n",
       "\n",
       "    .dataframe tbody tr th {\n",
       "        vertical-align: top;\n",
       "    }\n",
       "\n",
       "    .dataframe thead th {\n",
       "        text-align: right;\n",
       "    }\n",
       "</style>\n",
       "<table border=\"1\" class=\"dataframe\">\n",
       "  <thead>\n",
       "    <tr style=\"text-align: right;\">\n",
       "      <th></th>\n",
       "      <th>Unnamed: 0</th>\n",
       "      <th>clear_date</th>\n",
       "      <th>Aging Bucket</th>\n",
       "    </tr>\n",
       "  </thead>\n",
       "  <tbody>\n",
       "    <tr>\n",
       "      <th>0</th>\n",
       "      <td>0</td>\n",
       "      <td>2020-03-14</td>\n",
       "      <td>0-15days</td>\n",
       "    </tr>\n",
       "    <tr>\n",
       "      <th>1</th>\n",
       "      <td>1</td>\n",
       "      <td>2020-03-14</td>\n",
       "      <td>0-15days</td>\n",
       "    </tr>\n",
       "    <tr>\n",
       "      <th>2</th>\n",
       "      <td>2</td>\n",
       "      <td>2020-03-14</td>\n",
       "      <td>0-15days</td>\n",
       "    </tr>\n",
       "    <tr>\n",
       "      <th>3</th>\n",
       "      <td>3</td>\n",
       "      <td>2020-03-15</td>\n",
       "      <td>0-15days</td>\n",
       "    </tr>\n",
       "    <tr>\n",
       "      <th>4</th>\n",
       "      <td>4</td>\n",
       "      <td>2020-05-04</td>\n",
       "      <td>0-15days</td>\n",
       "    </tr>\n",
       "    <tr>\n",
       "      <th>...</th>\n",
       "      <td>...</td>\n",
       "      <td>...</td>\n",
       "      <td>...</td>\n",
       "    </tr>\n",
       "    <tr>\n",
       "      <th>9995</th>\n",
       "      <td>9995</td>\n",
       "      <td>2020-05-31</td>\n",
       "      <td>0-15days</td>\n",
       "    </tr>\n",
       "    <tr>\n",
       "      <th>9996</th>\n",
       "      <td>9996</td>\n",
       "      <td>2020-06-02</td>\n",
       "      <td>0-15days</td>\n",
       "    </tr>\n",
       "    <tr>\n",
       "      <th>9997</th>\n",
       "      <td>9997</td>\n",
       "      <td>2020-06-03</td>\n",
       "      <td>0-15days</td>\n",
       "    </tr>\n",
       "    <tr>\n",
       "      <th>9998</th>\n",
       "      <td>9998</td>\n",
       "      <td>2020-05-22</td>\n",
       "      <td>0-15days</td>\n",
       "    </tr>\n",
       "    <tr>\n",
       "      <th>9999</th>\n",
       "      <td>9999</td>\n",
       "      <td>2020-08-21</td>\n",
       "      <td>Greater than 60 days</td>\n",
       "    </tr>\n",
       "  </tbody>\n",
       "</table>\n",
       "<p>10000 rows × 3 columns</p>\n",
       "</div>"
      ],
      "text/plain": [
       "      Unnamed: 0  clear_date          Aging Bucket\n",
       "0              0  2020-03-14              0-15days\n",
       "1              1  2020-03-14              0-15days\n",
       "2              2  2020-03-14              0-15days\n",
       "3              3  2020-03-15              0-15days\n",
       "4              4  2020-05-04              0-15days\n",
       "...          ...         ...                   ...\n",
       "9995        9995  2020-05-31              0-15days\n",
       "9996        9996  2020-06-02              0-15days\n",
       "9997        9997  2020-06-03              0-15days\n",
       "9998        9998  2020-05-22              0-15days\n",
       "9999        9999  2020-08-21  Greater than 60 days\n",
       "\n",
       "[10000 rows x 3 columns]"
      ]
     },
     "execution_count": 369,
     "metadata": {},
     "output_type": "execute_result"
    }
   ],
   "source": [
    "Dealy_csv = pd.read_csv(\"Delay.csv\")\n",
    "Dealy_csv"
   ]
  },
  {
   "cell_type": "markdown",
   "metadata": {},
   "source": [
    "# END OF THE PROJECT"
   ]
  }
 ],
 "metadata": {
  "interpreter": {
   "hash": "04635d289a519a1410467dd0afb0db42f9184808881ca68b2eb5a687a20a5a94"
  },
  "kernelspec": {
   "display_name": "Python 3.10.1 64-bit",
   "language": "python",
   "name": "python3"
  },
  "language_info": {
   "codemirror_mode": {
    "name": "ipython",
    "version": 3
   },
   "file_extension": ".py",
   "mimetype": "text/x-python",
   "name": "python",
   "nbconvert_exporter": "python",
   "pygments_lexer": "ipython3",
   "version": "3.10.1"
  },
  "orig_nbformat": 4
 },
 "nbformat": 4,
 "nbformat_minor": 2
}
